{
  "cells": [
    {
      "cell_type": "markdown",
      "metadata": {
        "id": "view-in-github",
        "colab_type": "text"
      },
      "source": [
        "<a href=\"https://colab.research.google.com/github/gse-unil/2024_Geoinformatique_I/blob/main/Exercices-SIG/w09-2-sig-prog/cartopy-tuto.ipynb\" target=\"_parent\"><img src=\"https://colab.research.google.com/assets/colab-badge.svg\" alt=\"Open In Colab\"/></a>"
      ]
    },
    {
      "cell_type": "markdown",
      "id": "63eed983-e25a-4358-9196-efb351fa86e6",
      "metadata": {
        "id": "63eed983-e25a-4358-9196-efb351fa86e6"
      },
      "source": [
        "# Introduction à Cartopy 🌍\n",
        "\n",
        "Cartopy est un module Python qui permet de créer des visualisations cartographiques de manière simple et rapide. Bien qu'il ne remplace ni un processus cartographique complet ni un système d'information géographique (SIG), il est très utile pour certains types de cartes.\n",
        "\n",
        "Son principal avantage réside dans :\n",
        "- **La rapidité** de création des cartes 🕒\n",
        "- **La transparence** du processus : chaque étape est accessible grâce au code, ce qui facilite la personnalisation et la reproductibilité.\n",
        "\n",
        "Cartopy vous permet ainsi de concevoir des cartes efficaces en quelques lignes de code seulement !"
      ]
    },
    {
      "cell_type": "markdown",
      "id": "24846239-879d-4f3c-ab58-95d9d60052d6",
      "metadata": {
        "id": "24846239-879d-4f3c-ab58-95d9d60052d6"
      },
      "source": [
        "## 1. Installation de Cartopy\n",
        "\n",
        "Cartopy étant un module Python non standard, il faut s'assurer qu'il est installé dans notre environnement Python. Si nécessaire, on peut l'installer avec:"
      ]
    },
    {
      "cell_type": "code",
      "execution_count": null,
      "id": "e94aba1f-197b-4086-86d8-2a8e57338fc8",
      "metadata": {
        "id": "e94aba1f-197b-4086-86d8-2a8e57338fc8"
      },
      "outputs": [],
      "source": [
        "!pip install cartopy"
      ]
    },
    {
      "cell_type": "markdown",
      "id": "3af5909e-9149-4280-8890-5e3c810297a5",
      "metadata": {
        "id": "3af5909e-9149-4280-8890-5e3c810297a5"
      },
      "source": [
        "*Remarque:* Cartopy nécessite que certaines librairies sont présentes sur le système (dont GEOS ou Proj). L'installation va échouer si ces dépendances ne sont pas présentes."
      ]
    },
    {
      "cell_type": "markdown",
      "id": "134b1866-0c35-42b1-87e4-7af134ef5df3",
      "metadata": {
        "id": "134b1866-0c35-42b1-87e4-7af134ef5df3"
      },
      "source": [
        "## 2. Importation des bibliothèques 📚\n",
        "\n",
        "Cartopy est généralement utilisé avec Matplotlib pour la création et la gestion des graphiques. Nous chargeons également `pyproj`, qui est nécessaire pour travailler avec certains systèmes de coordonnées spécifiques."
      ]
    },
    {
      "cell_type": "code",
      "execution_count": null,
      "id": "3c395cda-711f-4da4-903a-c5cbad12e8d0",
      "metadata": {
        "id": "3c395cda-711f-4da4-903a-c5cbad12e8d0"
      },
      "outputs": [],
      "source": [
        "import matplotlib.pyplot as plt\n",
        "import cartopy.crs as ccrs\n",
        "import cartopy.feature as cfeature"
      ]
    },
    {
      "cell_type": "markdown",
      "id": "8b4f96a9-adf2-4259-a967-00166a8b42ea",
      "metadata": {
        "id": "8b4f96a9-adf2-4259-a967-00166a8b42ea"
      },
      "source": [
        "## 3. Une première carte simple 🗺️\n",
        "\n",
        "Chaque carte nécessite une projection. Ici, la carte sera une visualisation Matplotlib que nous pouvons créer facilement avec `plt.subplots()` :\n",
        "\n",
        "NB : Dans cet exemple, nous utilisons la projection [**Eckert IV**](https://en.wikipedia.org/wiki/Eckert_IV_projection), une projection pseudocylindrique équivalente (qui préserve les surfaces), ce qui est particulièrement utile pour les cartes thématiques où la comparaison des superficies est essentielle."
      ]
    },
    {
      "cell_type": "code",
      "execution_count": null,
      "id": "52db6e6c-59ca-4963-a927-3e0e2b70f371",
      "metadata": {
        "id": "52db6e6c-59ca-4963-a927-3e0e2b70f371"
      },
      "outputs": [],
      "source": [
        "# Créer une figure avec une projection Eckert IV\n",
        "fig, ax = plt.subplots(\n",
        "    figsize=(10, 5),  # Taille de la figure en pouces\n",
        "    subplot_kw={'projection': ccrs.EckertIV()}  # Projection cartographique Eckert IV\n",
        ")\n",
        "\n",
        "# Définir le titre de la carte\n",
        "ax.set_title(\"Le contour des continents, projection Eckert IV\")\n",
        "\n",
        "# Ajouter les lignes de côte pour les continents\n",
        "ax.coastlines()\n",
        "\n",
        "# Afficher la carte\n",
        "plt.show()"
      ]
    },
    {
      "cell_type": "markdown",
      "id": "81dbba4a-b71a-40ac-a608-c22a01b3250c",
      "metadata": {
        "id": "81dbba4a-b71a-40ac-a608-c22a01b3250c"
      },
      "source": [
        "## 4. Un peu de contenu... 🌐\n",
        "\n",
        "Ajoutons quelques éléments supplémentaires à la carte. Cartopy permet d'ajouter des couches de base, facilement accessibles via `cartopy.feature`. Ces couches incluent des éléments géographiques provenant de [Natural Earth](https://www.naturalearthdata.com/), une source de données cartographiques libre.\n",
        "\n",
        "Lors du premier appel, Cartopy téléchargera automatiquement les données nécessaires, ce qui générera un message de confirmation.\n"
      ]
    },
    {
      "cell_type": "code",
      "execution_count": null,
      "id": "d9664227-ae47-4886-98aa-9de936458677",
      "metadata": {
        "id": "d9664227-ae47-4886-98aa-9de936458677"
      },
      "outputs": [],
      "source": [
        "# Créer une figure avec une projection Eckert IV\n",
        "fig, ax = plt.subplots(\n",
        "    figsize=(10, 5),  # Taille de la figure en pouces\n",
        "    subplot_kw={'projection': ccrs.EckertIV()}  # Projection cartographique Eckert IV\n",
        ")\n",
        "\n",
        "# Définir le titre de la carte\n",
        "ax.set_title(\"Carte simple du monde entier\")\n",
        "\n",
        "# Ajouter les lignes de côte pour les continents\n",
        "ax.coastlines()\n",
        "\n",
        "# Ajouter des couches supplémentaires : frontières, lacs et rivières\n",
        "ax.add_feature(cfeature.BORDERS, linestyle=':')  # Frontières en pointillés\n",
        "ax.add_feature(cfeature.LAKES)  # Afficher les lacs\n",
        "ax.add_feature(cfeature.RIVERS)  # Afficher les rivières\n",
        "\n",
        "# Ajouter les graticules (lignes de latitude et longitude)\n",
        "ax.gridlines()\n",
        "\n",
        "# Afficher la carte\n",
        "plt.show()"
      ]
    },
    {
      "cell_type": "markdown",
      "id": "75e49b85-4bff-411a-bc58-a021ce400c1c",
      "metadata": {
        "id": "75e49b85-4bff-411a-bc58-a021ce400c1c"
      },
      "source": [
        "## 5. Personnaliser la projection et le style 🎨\n",
        "\n",
        "Chaque élément de la carte peut être personnalisé avec des paramètres supplémentaires. Par exemple, nous pouvons modifier le méridien central de la projection pour recentrer la carte sur l'Australie, créant ainsi une perspective plus appropriée pour cette région et une carte plus réaliste."
      ]
    },
    {
      "cell_type": "code",
      "execution_count": null,
      "id": "1343cfa7-02f6-456d-b7b4-675d1df948f9",
      "metadata": {
        "id": "1343cfa7-02f6-456d-b7b4-675d1df948f9"
      },
      "outputs": [],
      "source": [
        "# Créer une figure avec une projection Eckert IV, recentrée sur le méridien central 130°E\n",
        "fig, ax = plt.subplots(\n",
        "    figsize=(10, 5),  # Taille de la figure en pouces\n",
        "    subplot_kw={'projection': ccrs.EckertIV(central_longitude=130)}  # Projection Eckert IV centrée sur 130°E\n",
        ")\n",
        "\n",
        "# Ajouter des éléments géographiques de base à la carte\n",
        "ax.add_feature(cfeature.OCEAN, facecolor=cfeature.COLORS['water'])  # Colorer les océans\n",
        "ax.add_feature(cfeature.LAND, facecolor=cfeature.COLORS['land'])  # Colorer les terres\n",
        "ax.add_feature(cfeature.BORDERS, linestyle=':', edgecolor='#000', linewidth=0.4)  # Frontières en pointillés\n",
        "ax.add_feature(cfeature.LAKES)  # Afficher les lacs\n",
        "ax.add_feature(cfeature.RIVERS)  # Afficher les rivières\n",
        "\n",
        "# Ajouter les graticules (lignes de latitude et longitude), sans étiquettes\n",
        "ax.gridlines(draw_labels=False, color='black', linewidth=0.1)\n",
        "\n",
        "# Afficher la carte\n",
        "plt.show()"
      ]
    },
    {
      "cell_type": "markdown",
      "id": "b898a6be-1d68-4837-865b-d562364479ec",
      "metadata": {
        "id": "b898a6be-1d68-4837-865b-d562364479ec"
      },
      "source": [
        "## 6. Ajouter quelques points\n",
        "\n",
        "Nous pouvons ajouter des points, par exemple sur la base des coordonnées pour une série de villes."
      ]
    },
    {
      "cell_type": "code",
      "execution_count": null,
      "id": "d38f9855-2b0d-4b3e-86bf-57326a4b7af5",
      "metadata": {
        "id": "d38f9855-2b0d-4b3e-86bf-57326a4b7af5"
      },
      "outputs": [],
      "source": [
        "# Quelques données fictives de température pour plusieurs villes\n",
        "cities = {\n",
        "    'Paris': {'lon': 2.3312, 'lat': 48.8621, 'temp': 12},\n",
        "    'New York': {'lon': -73.9906, 'lat': 40.7424, 'temp': 8},\n",
        "    'Tokyo': {'lon': 139.7635, 'lat': 35.6820, 'temp': 11},\n",
        "    'Sydney': {'lon': 151.2076, 'lat': -33.8618, 'temp': 21},\n",
        "    'Nairobi': {'lon': 36.8307, 'lat': -1.2928, 'temp': 26}\n",
        "}\n",
        "\n",
        "# Créer une figure avec une projection Eckert IV, recentrée sur le méridien central 130°E\n",
        "fig, ax = plt.subplots(\n",
        "    figsize=(10, 5),  # Taille de la figure en pouces\n",
        "    subplot_kw={'projection': ccrs.EckertIV(central_longitude=130)}  # Projection Eckert IV centrée sur 130°E\n",
        ")\n",
        "\n",
        "# Définir l'étendue de la carte à l'échelle mondiale\n",
        "ax.set_global()\n",
        "\n",
        "# Ajouter des éléments de base à la carte\n",
        "ax.add_feature(cfeature.OCEAN, facecolor=cfeature.COLORS['water'])  # Colorer les océans\n",
        "ax.add_feature(cfeature.LAND, facecolor=cfeature.COLORS['land'])  # Colorer les terres\n",
        "ax.add_feature(cfeature.BORDERS, linestyle=':', edgecolor='#000', linewidth=0.4)  # Frontières en pointillés\n",
        "ax.add_feature(cfeature.LAKES)  # Afficher les lacs\n",
        "ax.add_feature(cfeature.RIVERS)  # Afficher les rivières\n",
        "\n",
        "# Ajouter les graticules (lignes de latitude et longitude), sans étiquettes\n",
        "ax.gridlines(draw_labels=False, color='black', linewidth=0.1)\n",
        "\n",
        "# Ajouter les villes et leurs températures\n",
        "for city, data in cities.items():\n",
        "    lon, lat, temp = data['lon'], data['lat'], data['temp']\n",
        "    # Placer un point rouge pour chaque ville\n",
        "    ax.plot(lon, lat, marker='o', color='red', markersize=5, transform=ccrs.PlateCarree())\n",
        "    # Afficher le nom de la ville et la température à côté du point\n",
        "    ax.text(lon + 3, lat, f\"{city}: {temp}°C\", transform=ccrs.PlateCarree(), fontsize=10)\n",
        "\n",
        "# Afficher la carte\n",
        "plt.show()"
      ]
    },
    {
      "cell_type": "markdown",
      "id": "a1a94371-1a15-4701-9821-82ce0efde3b1",
      "metadata": {
        "id": "a1a94371-1a15-4701-9821-82ce0efde3b1"
      },
      "source": [
        "## 7. Une carte un peu moins globale... 🗺️\n",
        "\n",
        "Il est possible de se concentrer sur une région spécifique en utilisant des projections locales et en définissant une étendue plus restreinte :"
      ]
    },
    {
      "cell_type": "code",
      "execution_count": null,
      "id": "2b96d662-6226-4462-9dcb-00719aee6089",
      "metadata": {
        "id": "2b96d662-6226-4462-9dcb-00719aee6089"
      },
      "outputs": [],
      "source": [
        "# Créer une figure avec une projection UTM pour la zone 32N\n",
        "fig, ax = plt.subplots(\n",
        "    figsize=(10, 5),  # Taille de la figure en pouces\n",
        "    subplot_kw={'projection': ccrs.UTM(32)}  # Projection UTM pour la zone 32N\n",
        ")\n",
        "\n",
        "# Définir l'étendue de la carte pour se concentrer sur une région spécifique\n",
        "ax.set_extent([5.84, 10.74, 45.7, 47.84], crs=ccrs.PlateCarree())  # Coordonnées en degrés (PlateCarree)\n",
        "\n",
        "# Ajouter des éléments de base à la carte\n",
        "ax.add_feature(cfeature.LAND, facecolor=cfeature.COLORS['land'])  # Colorer les terres\n",
        "ax.add_feature(cfeature.BORDERS, linestyle=':', edgecolor='#000', linewidth=0.4)  # Frontières en pointillés\n",
        "ax.add_feature(cfeature.LAKES)  # Afficher les lacs\n",
        "ax.add_feature(cfeature.RIVERS)  # Afficher les rivières\n",
        "\n",
        "# Afficher la carte\n",
        "plt.show()"
      ]
    },
    {
      "cell_type": "markdown",
      "source": [
        "## 8. Carte des stations météo 🌦️\n",
        "\n",
        "Nous allons maintenant réaliser un exemple un peu plus complet : une carte des stations météo de MétéoSuisse. Pour cela, nous utiliserons le service WMTS de Swisstopo comme fond de carte et téléchargerons la liste des stations météo depuis le site web de MétéoSuisse.\n",
        "\n",
        "Afin d’afficher les images provenant d’un service WMTS, Cartopy requiert certains modules supplémentaires. Assurons-nous d’avoir `scipy`, `owslib`, et `Pillow` installés :"
      ],
      "metadata": {
        "id": "EH5i1_ySj6mD"
      },
      "id": "EH5i1_ySj6mD"
    },
    {
      "cell_type": "code",
      "execution_count": null,
      "id": "ef34e594-b063-4eb2-9ba6-4fcd7859372c",
      "metadata": {
        "id": "ef34e594-b063-4eb2-9ba6-4fcd7859372c"
      },
      "outputs": [],
      "source": [
        "!pip install scipy owslib Pillow"
      ]
    },
    {
      "cell_type": "markdown",
      "id": "c7c2e242-6fce-433b-a808-b1845bbe7845",
      "metadata": {
        "id": "c7c2e242-6fce-433b-a808-b1845bbe7845"
      },
      "source": [
        "Chargement du [service WMTS de Swisstopo](https://www.geo.admin.ch/fr/wmts-services-et-donnees-disponibles). Nous utilisons ici le service avec la projection Pseudo-Mercator (code EPSG 3857), qui est celle employée par la majorité des cartes Web -- bien que ce ne soit pas toujours le choix le plus optimal.\n",
        "\n",
        "Nous définissons également le nom de la couche souhaitée. Pour connaître les couches disponibles, une option consiste à configurer QGIS pour se connecter au service WMTS de Swisstopo. La vidéo [« QGIS : Ajouter un service WMS ou WMTS »](https://youtu.be/voNmaJE1HE4) explique comment procéder."
      ]
    },
    {
      "cell_type": "code",
      "execution_count": null,
      "id": "c600a0eb",
      "metadata": {
        "id": "c600a0eb"
      },
      "outputs": [],
      "source": [
        "# URL du document de capacités (Capabilities) du service WMTS de Swisstopo en projection Pseudo-Mercator (EPSG:3857)\n",
        "wmts_url = 'https://wmts.geo.admin.ch/EPSG/3857/1.0.0/WMTSCapabilities.xml'\n",
        "\n",
        "# Nom de la couche souhaitée : carte de base légère avec ombrage du relief\n",
        "lyrname = 'ch.swisstopo.leichte-basiskarte_reliefschattierung'"
      ]
    },
    {
      "cell_type": "markdown",
      "id": "3952af17-8281-4946-b51e-2015ec5f30f0",
      "metadata": {
        "id": "3952af17-8281-4946-b51e-2015ec5f30f0"
      },
      "source": [
        "Nous pouvons maintenant faire une première carte:"
      ]
    },
    {
      "cell_type": "code",
      "execution_count": null,
      "id": "0f4dfb0a-512d-49fe-bc12-82e1e4068f98",
      "metadata": {
        "id": "0f4dfb0a-512d-49fe-bc12-82e1e4068f98"
      },
      "outputs": [],
      "source": [
        "# Définir la carte avec une projection Pseudo-Mercator (EPSG:3857)\n",
        "fig, ax = plt.subplots(\n",
        "    figsize=(18, 9),  # Taille de la figure en pouces\n",
        "    subplot_kw={'projection': ccrs.epsg(3857)}  # Projection Pseudo-Mercator\n",
        ")\n",
        "\n",
        "# Définir l'étendue de la carte pour se concentrer sur une zone spécifique en Suisse\n",
        "ax.set_extent([5.84, 10.74, 45.7, 47.84], crs=ccrs.PlateCarree())  # Coordonnées en degrés (lat/long)\n",
        "\n",
        "# Ajouter la couche de fond du service WMTS de Swisstopo\n",
        "ax.add_wmts(wmts_url, layer_name=lyrname, wmts_kwargs={'Time': 'current'})  # Utilise l'instantané actuel\n",
        "\n",
        "# Afficher la carte\n",
        "plt.show()"
      ]
    },
    {
      "cell_type": "markdown",
      "id": "b1e8e882-82a6-495d-b325-aba8b4acd438",
      "metadata": {
        "id": "b1e8e882-82a6-495d-b325-aba8b4acd438"
      },
      "source": [
        "Pour la localisation des stations météo, nous pouvons les trouver dans un fichier JSON disponible à l'URL suivante :\n",
        "[https://www.meteoschweiz.admin.ch/product/output/measured-values/stationsTable/messnetz-automatisch/stationsTable.messnetz-automatisch.fr.json](https://www.meteoschweiz.admin.ch/product/output/measured-values/stationsTable/messnetz-automatisch/stationsTable.messnetz-automatisch.fr.json)\n",
        "\n",
        "Il s'agit d'un fichier au format JSON (un format léger et structuré, idéal pour échanger des données). Ce format est facile à lire avec Python. Nous allons le télécharger directement depuis le site Web de MétéoSuisse en utilisant le module Python `requests`. Assurons-nous d'abord que ce module est bien installé :"
      ]
    },
    {
      "cell_type": "code",
      "execution_count": null,
      "id": "515544f3-2318-4c5d-a52a-0f31464d5056",
      "metadata": {
        "id": "515544f3-2318-4c5d-a52a-0f31464d5056"
      },
      "outputs": [],
      "source": [
        "!pip install requests"
      ]
    },
    {
      "cell_type": "markdown",
      "id": "b9f4a9b6-b3b2-4e76-b75b-df029b7bd8a1",
      "metadata": {
        "id": "b9f4a9b6-b3b2-4e76-b75b-df029b7bd8a1"
      },
      "source": [
        "Nous pouvons maintenant télécharger le fichier et ensuite l'interpréter avec `json.loads`. Ceci transforme le fichier JSON en structure Python (un dictionnaire)."
      ]
    },
    {
      "cell_type": "code",
      "execution_count": null,
      "id": "f9168638-456d-4cf8-a49f-cf072e796729",
      "metadata": {
        "id": "f9168638-456d-4cf8-a49f-cf072e796729"
      },
      "outputs": [],
      "source": [
        "# Importer les modules nécessaires\n",
        "import json\n",
        "import requests\n",
        "\n",
        "# L'URL du fichier\n",
        "url_stations_meteo = 'https://www.meteoschweiz.admin.ch/product/output/measured-values/stationsTable/messnetz-automatisch/stationsTable.messnetz-automatisch.fr.json'\n",
        "\n",
        "# Télécharger le fichier en mémoire, le contenu du fichier sera dans la variable `response`\n",
        "response = requests.get(url_stations_meteo)\n",
        "\n",
        "# Transformer le contenu du fichier JSON en dictionnaire Python\n",
        "d = json.loads(response.text)"
      ]
    },
    {
      "cell_type": "markdown",
      "id": "e4b71f6b-ca41-4c42-8d0e-54d2bb93a5cf",
      "metadata": {
        "id": "e4b71f6b-ca41-4c42-8d0e-54d2bb93a5cf"
      },
      "source": [
        "Il est une bonne idée d'explorer un peu le résultat. Les stations se trouvent dans une liste que nous pouvons obtenir avec `d['stations']`. Voici juste la première:"
      ]
    },
    {
      "cell_type": "code",
      "execution_count": null,
      "id": "7646dcbd-f7fc-4265-89eb-62e3aaee837c",
      "metadata": {
        "id": "7646dcbd-f7fc-4265-89eb-62e3aaee837c"
      },
      "outputs": [],
      "source": [
        "stations = d['stations']\n",
        "stations[0]"
      ]
    },
    {
      "cell_type": "markdown",
      "id": "596ca9eb-ad06-4c09-af1b-de576da0a408",
      "metadata": {
        "id": "596ca9eb-ad06-4c09-af1b-de576da0a408"
      },
      "source": [
        "Chaque station possède un type spécifique. Explorons les différents types de stations disponibles en les extrayant du fichier JSON :"
      ]
    },
    {
      "cell_type": "code",
      "execution_count": null,
      "id": "dc11e89b-383e-4456-9123-7473056859f9",
      "metadata": {
        "id": "dc11e89b-383e-4456-9123-7473056859f9"
      },
      "outputs": [],
      "source": [
        "st_types = set([st['station_type'] for st in stations])\n",
        "st_types"
      ]
    },
    {
      "cell_type": "markdown",
      "id": "f7f79e0d-e15e-460b-9d30-569eb99949d3",
      "metadata": {
        "id": "f7f79e0d-e15e-460b-9d30-569eb99949d3"
      },
      "source": [
        "Nous allons ajouter uniquement les stations météo et exclure les stations de mesure des précipitations. Passons maintenant à la création de la carte en ajoutant un point pour chaque station météo :"
      ]
    },
    {
      "cell_type": "code",
      "execution_count": null,
      "id": "73107b4f-896b-469f-a04f-f31f0dd40be5",
      "metadata": {
        "id": "73107b4f-896b-469f-a04f-f31f0dd40be5"
      },
      "outputs": [],
      "source": [
        "# Créer une figure avec une projection Pseudo-Mercator (EPSG:3857)\n",
        "fig, ax = plt.subplots(\n",
        "    figsize=(18, 9),  # Taille de la figure en pouces\n",
        "    subplot_kw={'projection': ccrs.epsg(3857)}  # Projection Pseudo-Mercator\n",
        ")\n",
        "\n",
        "# Définir l'étendue de la carte pour se concentrer sur une région spécifique\n",
        "ax.set_extent([5.84, 10.74, 45.7, 47.84], crs=ccrs.PlateCarree())\n",
        "\n",
        "# Ajouter la couche de fond WMTS de Swisstopo\n",
        "ax.add_wmts(wmts_url, layer_name=lyrname, wmts_kwargs={'Time': 'current'})  # Carte actuelle\n",
        "\n",
        "# Ajouter un point pour chaque station météo\n",
        "for st in stations:\n",
        "    # Extraire les coordonnées en latitude/longitude pour chaque station\n",
        "    latlong = st['latlong']\n",
        "    y, x = latlong\n",
        "\n",
        "    # Utiliser l'identifiant de la station comme nom pour l'affichage (plus court)\n",
        "    nom = st['id']\n",
        "\n",
        "    # Placer un point rouge pour chaque station\n",
        "    ax.plot(x, y, marker='o', color='red', markersize=5, transform=ccrs.PlateCarree())\n",
        "\n",
        "    # Annoter chaque point avec le nom de la station\n",
        "    ax.text(x, y, nom, fontsize=8, ha='right', transform=ccrs.PlateCarree())\n",
        "\n",
        "# Définir un titre pour la carte\n",
        "plt.title('Stations météo de MétéoSuisse')\n",
        "\n",
        "# Afficher la carte\n",
        "plt.show()"
      ]
    },
    {
      "cell_type": "markdown",
      "id": "3b236fd9-1804-4069-baf9-1e051784e64e",
      "metadata": {
        "id": "3b236fd9-1804-4069-baf9-1e051784e64e"
      },
      "source": [
        "La carte n'est certainement pas très lisible. Beaucoup de noms de stations se superposent, et il n'est pas simple de résoudre ce problème, car Cartopy ne propose aucune option pour l'éviter. Nous pouvons cependant utiliser le module `adjustText` pour améliorer un peu la situation. Bien que cela ne résolve pas entièrement le problème, cela permettra au moins d'éviter le chevauchement des étiquettes, même si les points eux-mêmes ne seront pas pris en compte."
      ]
    },
    {
      "cell_type": "code",
      "execution_count": null,
      "id": "d40ed6b2-36ec-43b8-b5b5-29503ff62e54",
      "metadata": {
        "id": "d40ed6b2-36ec-43b8-b5b5-29503ff62e54"
      },
      "outputs": [],
      "source": [
        "!pip install adjustText"
      ]
    },
    {
      "cell_type": "code",
      "execution_count": null,
      "id": "56e5b048-7f8d-47e8-9400-a690d8cdabf2",
      "metadata": {
        "id": "56e5b048-7f8d-47e8-9400-a690d8cdabf2"
      },
      "outputs": [],
      "source": [
        "from adjustText import adjust_text\n",
        "\n",
        "# Créer une figure avec une projection Pseudo-Mercator (EPSG:3857)\n",
        "fig, ax = plt.subplots(\n",
        "    figsize=(18, 9),  # Taille de la figure en pouces\n",
        "    subplot_kw={'projection': ccrs.epsg(3857)}  # Projection Pseudo-Mercator\n",
        ")\n",
        "\n",
        "# Définir l'étendue de la carte pour une zone spécifique\n",
        "ax.set_extent([5.84, 10.74, 45.7, 47.84], crs=ccrs.PlateCarree())\n",
        "\n",
        "# Ajouter la couche de fond WMTS de Swisstopo\n",
        "ax.add_wmts(wmts_url, layer_name=lyrname, wmts_kwargs={'Time': 'current'})  # Carte actuelle\n",
        "\n",
        "# Liste pour stocker les objets de texte (étiquettes) des stations\n",
        "labels = []\n",
        "for st in stations:\n",
        "    # Extraire les coordonnées en latitude/longitude pour chaque station\n",
        "    latlong = st['latlong']\n",
        "    y, x = latlong\n",
        "\n",
        "    # Utiliser l'identifiant de la station comme nom pour l'affichage (plus court)\n",
        "    nom = st['id']\n",
        "\n",
        "    # Placer un point rouge pour chaque station\n",
        "    ax.plot(x, y, marker='o', color='red', markersize=5, transform=ccrs.PlateCarree())\n",
        "\n",
        "    # Annoter chaque point avec le nom de la station\n",
        "    lbl = ax.text(x, y, nom, fontsize=8, ha='right', transform=ccrs.PlateCarree())\n",
        "    labels.append(lbl)  # Ajouter chaque étiquette à la liste pour ajustement\n",
        "\n",
        "# Ajuster les positions des étiquettes pour réduire les chevauchements\n",
        "adjust_text(labels, ax=ax, expand_points=(1.2, 1.2), expand_text=(1.2, 1.2),\n",
        "            arrowprops=dict(arrowstyle='->', color='gray'))  # Flèches pour indiquer les étiquettes ajustées\n",
        "\n",
        "# Définir un titre pour la carte\n",
        "plt.title('Stations météo de MétéoSuisse')\n",
        "\n",
        "# Afficher la carte\n",
        "plt.show()"
      ]
    }
  ],
  "metadata": {
    "kernelspec": {
      "display_name": "Python 3 (ipykernel)",
      "language": "python",
      "name": "python3"
    },
    "language_info": {
      "codemirror_mode": {
        "name": "ipython",
        "version": 3
      },
      "file_extension": ".py",
      "mimetype": "text/x-python",
      "name": "python",
      "nbconvert_exporter": "python",
      "pygments_lexer": "ipython3",
      "version": "3.10.12"
    },
    "colab": {
      "provenance": [],
      "toc_visible": true,
      "include_colab_link": true
    }
  },
  "nbformat": 4,
  "nbformat_minor": 5
}
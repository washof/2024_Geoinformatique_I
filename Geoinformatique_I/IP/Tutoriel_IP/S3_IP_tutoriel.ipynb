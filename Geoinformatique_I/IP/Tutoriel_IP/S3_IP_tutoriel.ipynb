{
  "cells": [
    {
      "cell_type": "markdown",
      "metadata": {
        "id": "view-in-github",
        "colab_type": "text"
      },
      "source": [
        "<a href=\"https://colab.research.google.com/github/washof/2024_Geoinformatique_I/blob/main/Geoinformatique_I/IP/Tutoriel_IP/S3_IP_tutoriel.ipynb\" target=\"_parent\"><img src=\"https://colab.research.google.com/assets/colab-badge.svg\" alt=\"Open In Colab\"/></a>"
      ]
    },
    {
      "cell_type": "markdown",
      "metadata": {
        "id": "8oE20_rDaClr"
      },
      "source": [
        "# Tutoriel 3: Structure de données\n",
        "\n",
        "Dans cette section, nous aborderons les points suivants:\n",
        "\n",
        "1. File I/O\n",
        "2. List\n",
        "3. Tuples\n",
        "4. Sets\n",
        "5. Dictionnaires\n",
        "\n",
        "Références:\n",
        "* IBM Congnitive Class - Intro to Python (https://github.com/computationalcore/introduction-to-python)\n",
        "* CUSP UCSL bootcamp 2017 (https://github.com/Mohitsharma44/ucsl17)"
      ]
    },
    {
      "cell_type": "markdown",
      "metadata": {
        "id": "xYwVgmoOaClr"
      },
      "source": [
        "## File I/O\n",
        "Dans cette section, nous présenterons les fonctions de base que nous pouvons utiliser pour stocker et récupérer des données à partir de fichiers de différents formats.\n",
        "\n",
        "Pour les projets en sciences de l'environnement, les données de recherche sont le plus souvent stockées dans les formats suivants :\n",
        "1.   Fichiers texte (`TXT`)\n",
        "2.   Fichiers tabulaires (par exemple, `CSV`, `XLS`)\n",
        "3.   Données structurées / dictionnaires Python, etc. (par exemple, `Pickle`, `dill`, `JSON`)\n",
        "4.   Données maillées (par exemple, `HDF5`, `NetCDF`)\n",
        "\n",
        "Nous allons maintenant voir comment nous pouvons utiliser Python et différents paquets Python pour récupérer les données stockées dans ces formats, et comment sauvegarder vos données dans différents formats pour une utilisation ultérieure.\n",
        "\n",
        "Référence:\n",
        "*   CUSP UCSL bootcamp 2017 (https://github.com/Mohitsharma44/ucsl17)\n",
        "*   Python 3 tutorial (https://docs.python.org/3/tutorial/inputoutput.html)\n",
        "*   GSFC Python Bootcamp (https://github.com/astg606/py_materials/blob/master/useful_modules/)\n",
        "*   Working on JSON Data in Python (https://realpython.com/python-json/)\n",
        "*   PyHOGS (http://pyhogs.github.io/intro_netcdf4.html)"
      ]
    },
    {
      "cell_type": "markdown",
      "metadata": {
        "id": "uTAfoSGOaCls"
      },
      "source": [
        "Commençons par importer quelques paquets..."
      ]
    },
    {
      "cell_type": "code",
      "execution_count": null,
      "metadata": {
        "id": "LHuG1yYqaCls"
      },
      "outputs": [],
      "source": [
        "import csv\n",
        "import pickle\n",
        "import pandas as pd\n",
        "import xarray as xr\n",
        "import numpy as np"
      ]
    },
    {
      "cell_type": "markdown",
      "metadata": {
        "id": "RXvj1u9faClt"
      },
      "source": [
        "### Fichiers TXT\n",
        "Nous allons maintenant apprendre à écrire des informations dans un fichier .TXT et à les relire à l'aide de fonctions Python intégrées. Les données utilisées dans cette partie du tutoriel seront très simples. Dans les prochains exercices, nous présenterons également les commandes des paquets communautaires qui nous permettent de lire et de stocker des données plus complexes.\n",
        "\n",
        "#### Ouverture de fichiers :\n",
        "Les fichiers peuvent être ouverts en utilisant la fonction intégrée de Python `open()`. Cette fonction crée un objet fichier pour les opérations suivantes. Utilisez la syntaxe suivante pour lire un fichier TXT : \\\\\n",
        "`fhandler = open(file_name, access mode, encoding)`\n",
        "\n",
        "- `nom_du_fichier` : Le nom du fichier sur lequel vous souhaitez effectuer vos opérations d'E/S. \\\n",
        "Notez qu'il s'agit du chemin d'accès complet au fichier (par exemple, $\\text{\\\\home\\\\Documents\\\\file.txt}$ )\n",
        "- `encodage` : Schéma d'encodage à utiliser pour convertir le flux d'octets en texte. (Standard=`utf-8`)\n",
        "- `access_mode` : La façon dont un fichier est ouvert, les choix disponibles pour cette option incluent :\n",
        "\n",
        "|access_mode | Its Function|\n",
        "|:------|------------:|\n",
        "|r\t|Ouvre un fichier en lecture seule|\n",
        "|rb\t|Ouvre un fichier en lecture seule au format binaire|\n",
        "|r+\t|Ouvre un fichier pour la lecture et l'écriture|\n",
        "|rb+\t|Ouvre un fichier pour la lecture et l'écriture au format binaire|\n",
        "|w\t|Ouvre un fichier en écriture uniquement|\n",
        "|wb\t|Ouvre un fichier en écriture uniquement au format binaire|\n",
        "|w+\t|Ouvre un fichier en lecture et en écriture|\n",
        "|wb+\t|Ouvre un fichier pour l'écriture et la lecture au format binaire|\n",
        "|a\t|Ouvre un fichier pour l'ajouter|\n",
        "|ab\t|Ouvre un fichier pour l'ajouter en binaire|\n",
        "|a+\t|Ouvre un fichier pour l'ajout et la lecture|\n",
        "|ab+\t|Ouvre un fichier pour l'ajout et la lecture au format binaire|\n",
        "\n",
        "Dans l'exemple ci-dessous, nous allons essayer de stocker plusieurs phrases dans un nouveau fichier TXT, et utiliser la fonction `open()` pour voir si le code fonctionne comme prévu."
      ]
    },
    {
      "cell_type": "code",
      "execution_count": null,
      "metadata": {
        "id": "t4r6_h5KaClu"
      },
      "outputs": [],
      "source": [
        "fhandler = open('test.txt', 'w', encoding=\"utf-8\")\n",
        "fhandler.write('Hello World!\\n')\n",
        "fhandler.write('I am a UNIL Master Student.\\n')\n",
        "fhandler.write('I am learning how to code!\\n')\n",
        "fhandler.close()"
      ]
    },
    {
      "cell_type": "markdown",
      "metadata": {
        "id": "j2imNFfhaClu"
      },
      "source": [
        "```{note}\n",
        "In the code above, we use the `open()` command to create a *write-only* (`access_mode='w'`) file `test.txt`. The open command creates a file object (`fhandler`) on which we can perform extra operations.\n",
        "\n",
        "We then try to add three sentences to the TXT file using the `.write()` operation on the file object.\n",
        "\n",
        "Remember to close the file with `.close()` command so that the changes can be finalized!\n",
        "\n",
        "If the code is writing, we should see a `test.txt` file created in the same path as this notebook. Let's see if that's the case!\n",
        "```"
      ]
    },
    {
      "cell_type": "code",
      "execution_count": null,
      "metadata": {
        "id": "frncMPLgaClu"
      },
      "outputs": [],
      "source": [
        "! ls ."
      ]
    },
    {
      "cell_type": "code",
      "execution_count": null,
      "metadata": {
        "id": "AzfEjHqLaClv"
      },
      "outputs": [],
      "source": [
        "! cat test.txt"
      ]
    },
    {
      "cell_type": "markdown",
      "metadata": {
        "id": "7TWcmQ91aClv"
      },
      "source": [
        "Hourra ! Ça marche ! 😀\n",
        "\n",
        "Mais n'avons-nous pas dit que nous voulions le relire ? 🤨\n",
        "\n",
        "Essayons de lire le fichier alors ! Pouvez-vous penser à des façons de le faire ?\n",
        "\n",
        "Voici quelques-unes des fonctions que vous pourriez utiliser.\n",
        "\n",
        "1.   `.close()` : Ferme le fichier actuellement ouvert.\n",
        "2.   `.readline([size])` : Lit les chaînes de caractères d'un fichier jusqu'à ce qu'il atteigne le caractère de nouvelle ligne `\\n` si le paramètre `size` est vide. Sinon, il lira la chaîne de caractères de la taille donnée.\n",
        "3.   `.readlines([size])` : Appelle répétitivement `.readline()` jusqu'à la fin du fichier.\n",
        "4.   `.write(str)` : Écrit la chaîne de caractères str dans le fichier.\n",
        "5.   `.writelines([list])` : Ecrit une séquence de chaînes de caractères dans un fichier. Aucune nouvelle ligne n'est ajoutée automatiquement."
      ]
    },
    {
      "cell_type": "code",
      "execution_count": null,
      "metadata": {
        "id": "7w-mmj0kaClv"
      },
      "outputs": [],
      "source": [
        "fhandler = open('test.txt','r',encoding='utf-8')\n",
        "fhandler.readlines()"
      ]
    },
    {
      "cell_type": "markdown",
      "metadata": {
        "id": "4JOvGSEjaClw"
      },
      "source": [
        "Et si nous voulions ajouter du texte au fichier ?"
      ]
    },
    {
      "cell_type": "code",
      "execution_count": null,
      "metadata": {
        "id": "CENik8cPaClw"
      },
      "outputs": [],
      "source": [
        "with open('test.txt', 'r+') as fhandler:\n",
        "  print(fhandler.readlines())\n",
        "  fhandler.writelines(['Now,\\n', 'I am trying to', ' add some stuff.'])\n",
        "  # Go to the starting of file\n",
        "  fhandler.seek(0)\n",
        "  # Print the content of file\n",
        "  print(fhandler.readlines())"
      ]
    },
    {
      "cell_type": "markdown",
      "metadata": {
        "id": "_ZDEHwTWaClw"
      },
      "source": [
        "Ici, nous utilisons une autre méthode pour ouvrir et écrire le fichier de données.\n",
        "En utilisant l'instruction `with` pour ouvrir le fichier TXT, nous nous assurons que les données sont automatiquement fermées après l'opération finale. Nous n'avons plus besoin d'écrire l'instruction `fhandler.close()`."
      ]
    },
    {
      "cell_type": "markdown",
      "metadata": {
        "id": "bruZIHmXaClw"
      },
      "source": [
        "### Fichiers tabulaires\n",
        "Que feriez-vous si vous aviez des données joliment organisées dans le format ci-dessous ?\n",
        "```\n",
        "Données1, Données2, Données3\n",
        "Exemple01, Exemple02, Exemple03\n",
        "Exemple11, Exemple12, Exemple13\n",
        "```\n",
        "Lorsque vous ouvrez un fichier de ce type dans Excel, voici à quoi il ressemble :\n",
        "\n",
        "||||\n",
        "|:--|:--|:--|\n",
        "|Donnée1\t|Donnée2\t|Donnée3|\n",
        "|Exemple1\t|Exemple2\t|Exemple3|\n",
        "\n",
        "Il s'agit d'un fichier tabulaire _séparé par des virgules_. Les fichiers de ce type sont généralement enregistrés avec l'extension `.csv`. Les fichiers `.csv` peuvent ensuite être ouverts et visualisés à l'aide d'un tableur, tel que Google Sheets, Numbers ou Microsoft Excel.\n",
        "\n",
        "Mais qu'en est-il si nous voulons utiliser les données dans Python ?\n",
        "\n",
        "#### Ouverture des fichiers :\n",
        "Heureusement, il existe des paquets communautaires qui peuvent vous aider à importer et à récupérer vos données tabulaires avec un minimum d'effort. Nous présentons ici deux de ces packages : CSV et Pandas.\n",
        "\n",
        "##### Lire des fichiers CSV avec le paquetage `CSV`\n",
        "\n",
        "`reader()` peut être utilisé pour créer un objet qui est utilisé pour lire les données d'un fichier CSV. Le lecteur peut être utilisé comme un itérateur pour traiter les lignes du fichier dans l'ordre. Voyons un exemple :"
      ]
    },
    {
      "cell_type": "code",
      "execution_count": null,
      "metadata": {
        "id": "1MuPaW1OaClx"
      },
      "outputs": [],
      "source": [
        "import pooch\n",
        "import urllib.request\n",
        "datafile = pooch.retrieve('https://unils-my.sharepoint.com/:x:/g/personal/tom_beucler_unil_ch/ETDZdgCkWbZLiv_LP6HKCOAB2NP7H0tUTLlP_stknqQHGw?download=1',\n",
        "                          known_hash='c7676360997870d00a0da139c80fb1b6d26e1f96050e03f2fed75b921beb4771')"
      ]
    },
    {
      "cell_type": "code",
      "execution_count": null,
      "metadata": {
        "id": "uJwEm1vVaClx"
      },
      "outputs": [],
      "source": [
        "row = []\n",
        "# https://unils-my.sharepoint.com/:x:/g/personal/tom_beucler_unil_ch/ETDZdgCkWbZLiv_LP6HKCOAB2NP7H0tUTLlP_stknqQHGw?e=N541Yq\n",
        "with open(datafile, 'r') as fh:\n",
        "  reader = csv.reader(fh)\n",
        "  for info in reader:\n",
        "    row.append(info)"
      ]
    },
    {
      "cell_type": "code",
      "execution_count": null,
      "metadata": {
        "id": "2-WblRQJaClx"
      },
      "outputs": [],
      "source": [
        "print(row[0])"
      ]
    },
    {
      "cell_type": "code",
      "execution_count": null,
      "metadata": {
        "id": "7uRVhD-YaCly"
      },
      "outputs": [],
      "source": [
        "print(row[1])"
      ]
    },
    {
      "cell_type": "markdown",
      "metadata": {
        "id": "KjP_2WU1aCly"
      },
      "source": [
        "``{tip}\n",
        "Dans le code ci-dessus, nous utilisons la méthode `csv.reader()` pour lire itérativement chaque ligne du fichier CSV.\n",
        "\n",
        "Nous ajoutons une nouvelle ligne à une liste vide à chaque itération.\n",
        "\n",
        "Nous utilisons la fonction `print()` pour voir ce qui a été écrit dans la liste. Nous avons constaté que la première ligne contient des informations sur les noms de variables, tandis que la deuxième ligne contient des données à un pas de temps donné.\n",
        "```\n",
        "\n",
        "#### Extraire les données et les écrire dans un nouveau fichier CSV :\n",
        "Le fichier CSV que nous venons d'importer contient en fait les données des stations météorologiques de janvier 2022 à août 2022. Que se passe-t-il si nous ne voulons que les données des cinq premières lignes ? Pouvons-nous extraire les données et les enregistrer dans un nouveau fichier CSV ?"
      ]
    },
    {
      "cell_type": "code",
      "execution_count": null,
      "metadata": {
        "id": "CsH5RgPhaCly"
      },
      "outputs": [],
      "source": [
        "with open('testsmall.csv', 'w') as fh:\n",
        "  writer = csv.writer(fh)\n",
        "  for num in range(5):\n",
        "    writer.writerow(row[num])"
      ]
    },
    {
      "cell_type": "markdown",
      "metadata": {
        "id": "Pau4FiOlaCly"
      },
      "source": [
        "```{note}\n",
        "\n",
        "En fait, il existe un meilleur paquetage pour les données tabulaires. Cette bibliothèque s'appelle `Pandas`. Nous présenterons ce paquetage plus en détail la semaine prochaine. Pour l'instant, nous allons simplement démontrer que nous pouvons utiliser pandas pour faire la même procédure FileI/O que nous avons faite plus tôt avec CSV.\n",
        "\n",
        "Ici, nous lisons la grande feuille de données de la station météorologique `datafile` avec la fonction pandas `.read_csv()`.\n",
        "```"
      ]
    },
    {
      "cell_type": "code",
      "execution_count": null,
      "metadata": {
        "id": "odMu3ISSaCly"
      },
      "outputs": [],
      "source": [
        "# importer fichier CSV avec pandas\n",
        "ALOdatasheet = pd.read_csv(datafile)"
      ]
    },
    {
      "cell_type": "code",
      "execution_count": null,
      "metadata": {
        "id": "FPT4j3LuaCly"
      },
      "outputs": [],
      "source": [
        "# Exporter les cinq premières lignes du cadre de données Pandas vers un fichier CSV\n",
        "ALOdatasheet[0:5].to_csv('./testsmall_pd.csv')"
      ]
    },
    {
      "cell_type": "markdown",
      "metadata": {
        "id": "RyL1V7IlaClz"
      },
      "source": [
        "### Sérialisation et désérialisation avec Pickle\n",
        "(Réécrit à partir du GSFC Python Bootcamp)\n",
        "\n",
        "Pickle est un format interne de Python qui permet d'écrire des données arbitraires dans un fichier de manière à pouvoir les relire, intactes.\n",
        "* `pickle` \"sérialise\" d'abord l'objet avant de l'écrire dans un fichier.\n",
        "* Le décapage (sérialisation) est un moyen de convertir un objet Python (liste, dict, etc.) en un flux de caractères qui contient toutes les informations nécessaires pour reconstruire l'objet dans un autre script Python.\n",
        "\n",
        "Les types suivants peuvent être sérialisés et désérialisés en utilisant le module `pickle` :\n",
        "* Tous les types de données natifs supportés par Python (booléens, None, entiers, flottants, nombres complexes, chaînes de caractères, octets, tableaux d'octets).\n",
        "* Dictionnaires, ensembles, listes et tuples - tant qu'ils contiennent des objets sélectionnables.\n",
        "* Les fonctions (décryptées par leur nom de référence, et non par leur valeur) et les classes qui sont définies au niveau supérieur d'un module.\n",
        "\n",
        "Les fonctions principales de `pickle` sont :\n",
        "\n",
        "* `dump()` : récupère des données en acceptant des données et un objet fichier.\n",
        "* `load()` : prend un objet fichier, reconstruit les objets à partir de la représentation décapée, et les renvoie.\n",
        "* `dumps()` : renvoie les données décryptées sous forme de chaîne de caractères.\n",
        "* `loads()` : lit les données extraites d'une chaîne.\n",
        "\n",
        "`dump()`/`load()` sérialise/désérialise les objets à travers des fichiers mais `dumps()`/`loads()` sérialise/désérialise les objets à travers une représentation sous forme de chaîne de caractères."
      ]
    },
    {
      "cell_type": "code",
      "execution_count": null,
      "metadata": {
        "id": "EWr8LgePaClz"
      },
      "outputs": [],
      "source": [
        "# Exemple de dictionnaire Python\n",
        "data_org = { 'mydata1':np.linspace(0,800,801), 'mydata2':np.linspace(0,60,61)}"
      ]
    },
    {
      "cell_type": "code",
      "execution_count": null,
      "metadata": {
        "id": "U2qtscnTaClz"
      },
      "outputs": [],
      "source": [
        "# Enregistrer un dictionnaire Python dans un fichier pickle\n",
        "with open('pickledict_sample.pkl', 'wb') as fid:\n",
        "     pickle.dump(data_org, fid)\n",
        "# Deserialize saved pickle file\n",
        "with open('pickledict_sample.pkl', 'rb') as fid:\n",
        "     data3 = pickle.load(fid)"
      ]
    },
    {
      "cell_type": "code",
      "execution_count": null,
      "metadata": {
        "id": "sQNEmqgNaClz"
      },
      "outputs": [],
      "source": [
        "for strg in data_org.keys():\n",
        "  print(f\"Variable {strg} is the same in data_org and data3: {(data_org[strg]==data3[strg]).all()}\")"
      ]
    },
    {
      "cell_type": "markdown",
      "metadata": {
        "id": "1uFAHqExaClz"
      },
      "source": [
        "## Lists"
      ]
    },
    {
      "cell_type": "markdown",
      "metadata": {
        "id": "OuIfInvLaClz"
      },
      "source": [
        "La création de listes est très facile en Python. Nous pouvons créer des listes en séparant les différents éléments par des virgules entre crochets:``[Item1,Item2,Item3]``.\n",
        "`[Élément1,Élément2,Élément3]`\n",
        "\n",
        "Il existe de nombreuses façons d'interagir avec les listes. Les explorer fait partie du plaisir de Python.\n",
        "\n",
        "**list.append(x)** Ajoute un élément à la fin de la liste. Equivalent à `a[len(a) :] = [x]`.\n",
        "\n",
        "**list.extend(L)** Étendre la liste en y ajoutant tous les éléments de la liste donnée. Equivalent à `a[len(a) :] = L`.\n",
        "\n",
        "**list.insert(i, x)** Insère un élément à une position donnée. Le premier argument est\n",
        "l'indice de l'élément avant lequel insérer, donc `a.insert(0, x)` insère en début de liste, et `a.insert(0, x)` insère en fin de liste.\n",
        "au début de la liste, et `a.insert(len(a), x)` est équivalent à\n",
        "`a.append(x)`.\n",
        "\n",
        "**list.remove(x)** Supprime le premier élément de la liste dont la valeur est x. C'est une erreur s'il n'y a pas d'élément de ce type.\n",
        "\n",
        "**list.pop([i])** Enlève l'élément à la position donnée dans la liste et le renvoie.\n",
        "Si aucun index n'est spécifié, `a.pop()` supprime et renvoie le dernier élément de la liste.\n",
        "(Les crochets autour du i dans la signature de la méthode indiquent que le paramètre est optionnel, et non pas que vous devez le retourner).\n",
        " est optionnel, et non pas que vous devez taper des crochets à cette position.\n",
        " à cette position. Vous verrez souvent cette notation dans la référence de la bibliothèque Python).\n",
        "\n",
        " **list.clear()** Supprime tous les éléments de la liste. Equivalent à `del a[ :]`.\n",
        "\n",
        "**list.index(x)** Retourne l'index dans la liste du premier élément dont la valeur est x.\n",
        "C'est une erreur s'il n'y a pas d'élément de ce type.\n",
        "\n",
        "**list.count(x)** Retourne le nombre de fois que x apparaît dans la liste.\n",
        "\n",
        "**list.sort()** Trie les éléments de la liste à la place.\n",
        "\n",
        "**list.reverse()** Inverse les éléments de la liste en place.\n",
        "\n",
        "**list.copy()** Retourne une copie superficielle de la liste. Equivalent à `a[ :]`."
      ]
    },
    {
      "cell_type": "code",
      "execution_count": null,
      "metadata": {
        "id": "2dqz0Uv3aCl0",
        "outputId": "fc9dbdc6-05b4-46a4-bd5b-efe1754150cd"
      },
      "outputs": [
        {
          "data": {
            "text/plain": [
              "list"
            ]
          },
          "execution_count": 1,
          "metadata": {},
          "output_type": "execute_result"
        }
      ],
      "source": [
        "# Expérimentons quelques-unes de ces méthodes !\n",
        "# 1. Créer d'abord une liste\n",
        "l = ['chien', 'chat', 'poisson', 'poulet', 'oeufs', 'canard']\n",
        "type(l)"
      ]
    },
    {
      "cell_type": "code",
      "execution_count": null,
      "metadata": {
        "id": "1Q5GgWnPaCl1",
        "outputId": "5e1f37e0-9bbe-4d5b-b149-57b3e6511fcf"
      },
      "outputs": [
        {
          "name": "stdout",
          "output_type": "stream",
          "text": [
            "chien canard ['chien', 'chat', 'poisson'] ['poulet', 'oeufs']\n"
          ]
        }
      ],
      "source": [
        "# Découpage de la liste\n",
        "print(l[0],l[-1],l[0:3],l[-3:-1])"
      ]
    },
    {
      "cell_type": "markdown",
      "metadata": {
        "id": "gjnkRiPqaCl1"
      },
      "source": [
        "**Pensez à mémoriser cette syntaxe !**\n",
        "Elle est au cœur de Python et s'avère souvent déroutante pour les utilisateurs qui viennent d'autres langages."
      ]
    },
    {
      "cell_type": "markdown",
      "metadata": {
        "id": "JE6KWH-2aCl1"
      },
      "source": [
        "#### **Mise à jour de la liste**\n",
        "Contrairement aux chaînes et aux tuples, les listes sont mutables. Vous pouvez mettre à jour la liste et modifier les éléments quand vous le souhaitez."
      ]
    },
    {
      "cell_type": "code",
      "execution_count": null,
      "metadata": {
        "id": "Evhe-Hf0aCl1",
        "outputId": "056baf94-d258-4321-f6a3-e4acc3424795"
      },
      "outputs": [
        {
          "name": "stdout",
          "output_type": "stream",
          "text": [
            "Contenu original : \n",
            " ['chien', 'chat', 'Arbre', 'poulet', 'œufs', 'canard']\n",
            "Longueur originale du tableau : \n",
            " 6\n",
            "Contenu modifié : \n",
            " ['chien', 'chat', 'œufs', 'canard']\n",
            "Longueur modifiée du tableau : \n",
            " 4\n"
          ]
        }
      ],
      "source": [
        "my_list = ['chien', 'chat', 'poisson', 'poulet', 'œufs', 'canard']\n",
        "my_list[2] = 'Arbre'\n",
        "print('Contenu original : \\n', my_list)\n",
        "print('Longueur originale du tableau : \\n', len(my_list))\n",
        "\n",
        "# Enlever quelques éléments/changer la taille\n",
        "my_list[2:4] = []\n",
        "print('Contenu modifié : \\n', my_list)\n",
        "print('Longueur modifiée du tableau : \\n', len(my_list))"
      ]
    },
    {
      "cell_type": "markdown",
      "metadata": {
        "id": "6u4B8j6EaCl2"
      },
      "source": [
        "Modifions la liste à l'aide des méthodes spécifiques aux listes dont nous avons parlé précédemment."
      ]
    },
    {
      "cell_type": "code",
      "execution_count": null,
      "metadata": {
        "id": "Q4Cl9l2SaCl2",
        "outputId": "a2b014ca-99c4-45a9-9482-cda6ca2184ea"
      },
      "outputs": [
        {
          "name": "stdout",
          "output_type": "stream",
          "text": [
            "['chien', 'chat', 'poisson', 'poulet', 'oeufs', 'canard', 'Python']\n",
            "['Julia', 'chien', 'chat', 'poisson', 'poulet', 'oeufs', 'canard', 'Python']\n"
          ]
        }
      ],
      "source": [
        "#@title #### **Ajouter de nouveaux éléments à la liste**\n",
        "my_list = ['chien', 'chat', 'poisson', 'poulet', 'oeufs', 'canard']\n",
        "my_list.append('Python') # Cela ajoutera l'élément à la fin de la liste\n",
        "print(my_list)\n",
        "my_list.insert(0, 'Julia')\n",
        "print(my_list)"
      ]
    },
    {
      "cell_type": "code",
      "execution_count": null,
      "metadata": {
        "id": "WjRe0rG8aCl2",
        "outputId": "2fbc2285-0f51-4db0-82d3-e2fdf11015ca"
      },
      "outputs": [
        {
          "name": "stdout",
          "output_type": "stream",
          "text": [
            "['chien', 'chat', 'poisson', 'poulet', 'oeufs', 'canard', 'Python']\n",
            "['chien', 'chat', 'poisson', 'poulet', 'oeufs', 'canard']\n"
          ]
        }
      ],
      "source": [
        "#@title #### **Supprimez des éléments de la liste**\n",
        "my_list.pop(0)\n",
        "print(my_list)\n",
        "del(my_list[-1])\n",
        "print(my_list)"
      ]
    },
    {
      "cell_type": "code",
      "execution_count": null,
      "metadata": {
        "id": "Go266Hl7aCmC",
        "outputId": "949c6c54-b543-411b-83c6-50ec645d8f30"
      },
      "outputs": [
        {
          "name": "stdout",
          "output_type": "stream",
          "text": [
            "1\n",
            "5\n"
          ]
        }
      ],
      "source": [
        "#@title #### **Compte, Index**\n",
        "print(my_list.count('poisson'))\n",
        "print(my_list.index('canard'))"
      ]
    },
    {
      "cell_type": "code",
      "execution_count": null,
      "metadata": {
        "id": "VfyBOVAjaCmD",
        "outputId": "941a3c3f-de87-4dd4-f10c-aa822896feff"
      },
      "outputs": [
        {
          "name": "stdout",
          "output_type": "stream",
          "text": [
            "['canard', 'oeufs', 'poulet', 'poisson', 'chat', 'chien']\n",
            "['canard', 'chat', 'chien', 'oeufs', 'poisson', 'poulet']\n",
            "['poulet', 'poisson', 'oeufs', 'chien', 'chat', 'canard']\n"
          ]
        }
      ],
      "source": [
        "#@title #### **Tri, Inversion**\n",
        "my_list = ['chien', 'chat', 'poisson', 'poulet', 'oeufs', 'canard']\n",
        "my_list.reverse()\n",
        "print(my_list)\n",
        "my_list.sort()\n",
        "print(my_list)\n",
        "my_list.sort(reverse=True)\n",
        "print(my_list)"
      ]
    },
    {
      "cell_type": "code",
      "execution_count": null,
      "metadata": {
        "id": "Oq3X63epaCmD",
        "outputId": "7fa8bf12-dadf-498d-8d2a-b6f36b23cddb"
      },
      "outputs": [
        {
          "name": "stdout",
          "output_type": "stream",
          "text": [
            "['chien', 'chat', 'poisson', 'poulet', 'oeufs', 'canard', 'Python', 'Julia', 'C++']\n",
            "['chien', 'chat', 'poisson', 'poulet', 'oeufs', 'canard', 'Python', 'Julia', 'C++']\n"
          ]
        }
      ],
      "source": [
        "#@title #### **Concaténation de listes**\n",
        "my_list = ['chien', 'chat', 'poisson', 'poulet', 'oeufs', 'canard']\n",
        "my_list2 = ['Python', 'Julia', 'C++']\n",
        "print(my_list+my_list2)\n",
        "my_list.extend(my_list2)\n",
        "print(my_list)"
      ]
    },
    {
      "cell_type": "markdown",
      "metadata": {
        "id": "ubPgy18taCmD"
      },
      "source": [
        "#### **Utiliser des listes en boucle**"
      ]
    },
    {
      "cell_type": "code",
      "execution_count": null,
      "metadata": {
        "id": "CEhb1Ge4aCmE",
        "outputId": "7b710dd4-92d4-4a6f-de99-713a029a1375"
      },
      "outputs": [
        {
          "name": "stdout",
          "output_type": "stream",
          "text": [
            "ma_liste[0] : chien\n",
            "ma_liste[1] : chat\n",
            "ma_liste[2] : poisson\n",
            "ma_liste[3] : poulet\n",
            "ma_liste[4] : oeufs\n",
            "ma_liste[5] : canard\n",
            "ma_liste[6] : Python\n",
            "ma_liste[7] : Julia\n",
            "ma_liste[8] : C++\n"
          ]
        }
      ],
      "source": [
        "for index in range(len(my_list)) : # commence à 0 et va jusqu'à la longueur de la liste.\n",
        "    print(\"my_list[{}] : {}\".format(index, my_list[index]))"
      ]
    },
    {
      "cell_type": "code",
      "execution_count": null,
      "metadata": {
        "id": "BA7B5TJZaCmE",
        "outputId": "be77cf63-3505-4d0b-c640-e8864d23d34a"
      },
      "outputs": [
        {
          "name": "stdout",
          "output_type": "stream",
          "text": [
            "my_list[0] : chien\n",
            "my_list[1] : chat\n",
            "my_list[2] : poisson\n",
            "my_list[3] : poulet\n",
            "my_list[4] : oeufs\n",
            "my_list[5] : canard\n",
            "my_list[6] : Python\n",
            "my_list[7] : Julia\n",
            "my_list[8] : C++\n"
          ]
        }
      ],
      "source": [
        "# Nous pouvons en fait faire la même chose avec enumerate()\n",
        "for index,items in enumerate(my_list) :\n",
        "  print(\"my_list[{}] : {}\".format(index,items))"
      ]
    },
    {
      "cell_type": "markdown",
      "metadata": {
        "id": "vOLhfkT8aCmE"
      },
      "source": [
        "**Compréhension de liste**\n",
        "\n",
        "La compréhension de liste est un moyen syntaxique de créer une liste basée sur la liste existante, comme nous l'avons fait en copiant les listes ci-dessus. La structure de base de la syntaxe comprend une boucle for qui parcourt la liste et évalue une condition à l'aide de la condition if... else. Elle stocke ensuite la sortie de la condition dans une nouvelle liste. Voyons un exemple rapide :"
      ]
    },
    {
      "cell_type": "code",
      "execution_count": null,
      "metadata": {
        "id": "TQSp7UdhaCmF",
        "outputId": "7840abf3-52ee-4724-d5d1-a1fe4ce1838e"
      },
      "outputs": [
        {
          "name": "stdout",
          "output_type": "stream",
          "text": [
            "['chien', 'poisson', 'oeufs', 'Python', 'C++']\n",
            "[0, 1, 4, 9, 16]\n"
          ]
        }
      ],
      "source": [
        "my_list1 = [elem for index,elem in enumerate(my_list) if index % 2 == 0]\n",
        "print(my_list1)\n",
        "\n",
        "carrés = [n**2 for n in range(5)]\n",
        "print(carrés)"
      ]
    },
    {
      "cell_type": "markdown",
      "metadata": {
        "id": "z6oExdSUaCmF"
      },
      "source": [
        "**Traverser deux listes ensemble avec `zip()`**"
      ]
    },
    {
      "cell_type": "code",
      "execution_count": null,
      "metadata": {
        "id": "D7e8oonwaCmF",
        "outputId": "ca2e65b0-1d1d-454f-9479-c4e4cb7df0f9"
      },
      "outputs": [
        {
          "name": "stdout",
          "output_type": "stream",
          "text": [
            "first: cochon second: 0\n",
            "first: canard second: 1\n",
            "first: papillon second: 2\n"
          ]
        }
      ],
      "source": [
        "# iterate over two lists together uzing zip\n",
        "for item1, item2 in zip(['cochon','canard','papillon'],[0,1,2]):\n",
        "    print('first:', item1, 'second:', item2)"
      ]
    },
    {
      "cell_type": "markdown",
      "metadata": {
        "id": "ShnC_SlqaCmF"
      },
      "source": [
        "## Tuples"
      ]
    },
    {
      "cell_type": "markdown",
      "metadata": {
        "id": "mB8UBm58aCmG"
      },
      "source": [
        "Les tuples sont similaires aux listes, mais ils sont *immuables*, c'est-à-dire qu'ils ne peuvent pas être étendus ou modifiés. Quel en est l'intérêt ? D'une manière générale, il s'agit de regrouper des données non homogènes. Les tuples peuvent ensuite être décompressés et distribués par d'autres parties de votre code.\n",
        "\n",
        "Les tuples peuvent sembler déroutants au début, mais avec le temps, vous finirez par les apprécier."
      ]
    },
    {
      "cell_type": "code",
      "execution_count": null,
      "metadata": {
        "id": "gox7UqcjaCmG",
        "outputId": "6e85a766-f534-48ed-f261-455a873ca416"
      },
      "outputs": [
        {
          "data": {
            "text/plain": [
              "tuple"
            ]
          },
          "execution_count": 21,
          "metadata": {},
          "output_type": "execute_result"
        }
      ],
      "source": [
        "# les tuples sont créés avec des parenthèses, ou simplement des virgules\n",
        "a = ('Ryan', 33, True)\n",
        "b = 'Takaya', 25, False\n",
        "type(b)"
      ]
    },
    {
      "cell_type": "code",
      "execution_count": null,
      "metadata": {
        "id": "iuNXWdZUaCmG",
        "outputId": "4aa13a20-5afe-4702-fbe3-1b9c2d402744"
      },
      "outputs": [
        {
          "name": "stdout",
          "output_type": "stream",
          "text": [
            "33\n"
          ]
        }
      ],
      "source": [
        "# peut être indexé comme un tableau\n",
        "print(a[1]) # pas le premier élément !"
      ]
    },
    {
      "cell_type": "code",
      "execution_count": null,
      "metadata": {
        "id": "9306ekaUaCmG",
        "outputId": "8394127c-4001-4d57-d1aa-f86442d51643"
      },
      "outputs": [
        {
          "name": "stdout",
          "output_type": "stream",
          "text": [
            "Ryan 33 True\n"
          ]
        }
      ],
      "source": [
        "# et ils peuvent être décompressés\n",
        "nom, age, statut = a\n",
        "print(nom,age,statut)"
      ]
    },
    {
      "cell_type": "code",
      "execution_count": null,
      "metadata": {
        "id": "eWHPKS_7aCmH",
        "outputId": "2d74f4dc-d88c-4378-abd8-eabd026a9284"
      },
      "outputs": [
        {
          "name": "stdout",
          "output_type": "stream",
          "text": [
            "0\n"
          ]
        }
      ],
      "source": [
        "print(a.index('Ryan'))"
      ]
    },
    {
      "cell_type": "markdown",
      "metadata": {
        "id": "uhkJFHc1aCmH"
      },
      "source": [
        "## Sets"
      ]
    },
    {
      "cell_type": "markdown",
      "metadata": {
        "id": "u_41rrE0aCmH"
      },
      "source": [
        "Un ensemble (set) est une structure de données non ordonnée qui ne permet pas les éléments dupliqués. Les ensembles sont utiles pour effectuer des opérations ensemblistes telles que l'union, l'intersection et la différence."
      ]
    },
    {
      "cell_type": "markdown",
      "metadata": {
        "id": "fBUud9wDaCmH"
      },
      "source": [
        "Création d'un ensemble:"
      ]
    },
    {
      "cell_type": "code",
      "execution_count": null,
      "metadata": {
        "id": "oAucygcRaCmI"
      },
      "outputs": [],
      "source": [
        "# Création d'un ensemble vide\n",
        "ensemble_vide = set()\n",
        "\n",
        "# Création d'un ensemble avec des éléments\n",
        "mon_ensemble = {1, 2, 3, 4, 5}"
      ]
    },
    {
      "cell_type": "markdown",
      "metadata": {
        "id": "8sKYdbvcaCmI"
      },
      "source": [
        "Ajout d'éléments:"
      ]
    },
    {
      "cell_type": "code",
      "execution_count": null,
      "metadata": {
        "id": "Lrr1GpXPaCmI"
      },
      "outputs": [],
      "source": [
        "# Ajout d'un élément à un ensemble\n",
        "mon_ensemble.add(6)\n",
        "\n",
        "# Ajout de plusieurs éléments à un ensemble\n",
        "mon_ensemble.update({7, 8, 9})"
      ]
    },
    {
      "cell_type": "markdown",
      "metadata": {
        "id": "ca-85Eq6aCmI"
      },
      "source": [
        "Suppression d'éléments:"
      ]
    },
    {
      "cell_type": "code",
      "execution_count": null,
      "metadata": {
        "id": "7NvBHiTHaCmI"
      },
      "outputs": [],
      "source": [
        "# Suppression d'un élément spécifique\n",
        "mon_ensemble.remove(3)\n",
        "\n",
        "# Suppression d'un élément sans générer d'erreur si l'élément n'est pas présent\n",
        "mon_ensemble.discard(10)"
      ]
    },
    {
      "cell_type": "markdown",
      "metadata": {
        "id": "VP2lG8JFaCmI"
      },
      "source": [
        "Opérations ensemblistes:"
      ]
    },
    {
      "cell_type": "code",
      "execution_count": null,
      "metadata": {
        "id": "oYC9Q728aCmJ"
      },
      "outputs": [],
      "source": [
        "# Union de deux ensembles\n",
        "ensemble1 = {1, 2, 3}\n",
        "ensemble2 = {3, 4, 5}\n",
        "union_resultat = ensemble1.union(ensemble2)\n",
        "\n",
        "# Intersection de deux ensembles\n",
        "intersection_resultat = ensemble1.intersection(ensemble2)\n",
        "\n",
        "# Différence entre deux ensembles\n",
        "difference_resultat = ensemble1.difference(ensemble2)"
      ]
    },
    {
      "cell_type": "markdown",
      "metadata": {
        "id": "fpo84ZvBaCmJ"
      },
      "source": [
        "Vérification d'appartenance:"
      ]
    },
    {
      "cell_type": "code",
      "execution_count": null,
      "metadata": {
        "id": "teRJ8Hb4aCmJ"
      },
      "outputs": [],
      "source": [
        "# Vérification si un élément appartient à l'ensemble\n",
        "appartient = 2 in ensemble1"
      ]
    },
    {
      "cell_type": "markdown",
      "metadata": {
        "id": "qtFkP_lsaCmJ"
      },
      "source": [
        "Parcours d'un ensemble:"
      ]
    },
    {
      "cell_type": "code",
      "execution_count": null,
      "metadata": {
        "id": "sFYvBDUYaCmJ"
      },
      "outputs": [],
      "source": [
        "# Parcours des éléments de l'ensemble\n",
        "for element in mon_ensemble:\n",
        "    print(element)"
      ]
    },
    {
      "cell_type": "markdown",
      "metadata": {
        "id": "VNoc2g4naCmJ"
      },
      "source": [
        "Conversion vers un ensemble:"
      ]
    },
    {
      "cell_type": "code",
      "execution_count": null,
      "metadata": {
        "id": "mL-X_H9oaCmK"
      },
      "outputs": [],
      "source": [
        "# Conversion d'une liste en ensemble\n",
        "liste = [1, 2, 3, 4, 5]\n",
        "ensemble_a_partir_de_liste = set(liste)"
      ]
    },
    {
      "cell_type": "markdown",
      "metadata": {
        "id": "RP8kd0Z9aCmK"
      },
      "source": [
        " La capacité à gérer des données non ordonnées et à éliminer les doublons les rend utiles dans de nombreuses situations."
      ]
    },
    {
      "cell_type": "markdown",
      "metadata": {
        "id": "h-QlbddpaCmK"
      },
      "source": [
        "## Dictionnaires"
      ]
    },
    {
      "cell_type": "markdown",
      "metadata": {
        "id": "MpWTcj7HaCmK"
      },
      "source": [
        "Il s'agit d'une structure de données extrêmement utile. Elle associe des **clés** à des **valeurs**.\n",
        "\n",
        "Les dictionnaires ne sont pas ordonnés !"
      ]
    },
    {
      "cell_type": "code",
      "execution_count": null,
      "metadata": {
        "id": "5N1F3AZYaCmK"
      },
      "outputs": [],
      "source": [
        "#@title #### **Différentes façons de créer des dictionnaires**\n",
        "d = {'nom' : 'Timothee', 'age' : 1} # Écrivez votre nom et votre âge ici\n",
        "e = dict(nom='Timothee', age=1) # Inscrivez le nom et l'âge de quelqu'un d'autre ici"
      ]
    },
    {
      "cell_type": "code",
      "execution_count": null,
      "metadata": {
        "id": "vljbyCEZaCmL",
        "outputId": "541f32c7-b63d-46ee-a6c6-9c32da87e8dd"
      },
      "outputs": [
        {
          "name": "stdout",
          "output_type": "stream",
          "text": [
            "Timothee\n",
            "nom :  Timothee\n",
            "sexe :    Pas trouvé\n"
          ]
        }
      ],
      "source": [
        "#@title #### **Accéder aux éléments du dictionnaire**\n",
        "print(d['nom'])\n",
        "print(\"nom : \", d.get('nom' , 'Pas trouvé'))\n",
        "print(\"sexe :   \", d.get('gender', 'Pas trouvé'))"
      ]
    },
    {
      "cell_type": "code",
      "execution_count": null,
      "metadata": {
        "id": "kvEnlSZgaCmL",
        "outputId": "28762e33-63ea-4992-c9d7-d9f582df5134"
      },
      "outputs": [
        {
          "data": {
            "text/plain": [
              "{'nom': 'Timothee', 'age': 1, 'taille': (1, 50)}"
            ]
          },
          "execution_count": 49,
          "metadata": {},
          "output_type": "execute_result"
        }
      ],
      "source": [
        "#@title #### **Mise à jour du dictionnaire**\n",
        "# Ajouter une nouvelle paire variable-valeur :\n",
        "d['taille'] = (1,50) # un tuple, par exemple votre taille en (mètres,centimètres)\n",
        "d"
      ]
    },
    {
      "cell_type": "code",
      "execution_count": null,
      "metadata": {
        "id": "5uElTI0uaCmL",
        "outputId": "adc088b8-8f24-4c8f-f65b-c14941b79b93"
      },
      "outputs": [
        {
          "name": "stdout",
          "output_type": "stream",
          "text": [
            "{'nom': 'Timothee', 'age': 1, 'taille': (1, 50), 'lieu': 'Lausanne', 'nationalite': 'CH', 'annee_naissance': '2021'}\n"
          ]
        }
      ],
      "source": [
        "#@title #### **Ajouter un dictionnaire**\n",
        "# update() ajoute deux dictionnaires ensemble\n",
        "newdict = dict(lieu='Lausanne',nationalite='CH',annee_naissance='2021')\n",
        "d.update(newdict)\n",
        "print(d)"
      ]
    },
    {
      "cell_type": "code",
      "execution_count": null,
      "metadata": {
        "id": "HrGaeW76aCmM",
        "outputId": "58e084da-9b3e-4900-b3d8-a9c28de4cef0"
      },
      "outputs": [
        {
          "name": "stdout",
          "output_type": "stream",
          "text": [
            "Identique ? True\n"
          ]
        }
      ],
      "source": [
        "#@title #### **Supprimer les éléments du dictionnaire**\n",
        "# pop(),del()\n",
        "d2 = d.copy()\n",
        "d2.pop('age')\n",
        "del d['age']\n",
        "print(f\"Identique ? {d==d2}\")"
      ]
    },
    {
      "cell_type": "code",
      "execution_count": null,
      "metadata": {
        "id": "0dncK3lsaCmM",
        "outputId": "f38d5734-1c19-49e0-d006-f34e01f64252"
      },
      "outputs": [
        {
          "name": "stdout",
          "output_type": "stream",
          "text": [
            "nom Timothee\n",
            "taille (1, 50)\n",
            "lieu Lausanne\n",
            "nationalite CH\n",
            "annee_naissance 2021\n"
          ]
        }
      ],
      "source": [
        "#@title #### **Dictionnaire transversal**\n",
        "# itérer sur les clés\n",
        "for k in d :\n",
        "    print(k, d[k])"
      ]
    },
    {
      "cell_type": "code",
      "execution_count": null,
      "metadata": {
        "id": "fBqI5JWzaCmM",
        "outputId": "20b50696-ccaa-4842-bd0f-1ecb1163e30c"
      },
      "outputs": [
        {
          "name": "stdout",
          "output_type": "stream",
          "text": [
            "['nom', 'taille', 'lieu', 'nationalite', 'annee_naissance']\n",
            "['Timothee', (1, 50), 'Lausanne', 'CH', '2021']\n",
            "[('nom', 'Timothee'), ('taille', (1, 50)), ('lieu', 'Lausanne'), ('nationalite', 'CH'), ('annee_naissance', '2021')]\n"
          ]
        }
      ],
      "source": [
        "print(list(d.keys()))\n",
        "print(list(d.values()))\n",
        "print(list(d.items()))"
      ]
    },
    {
      "cell_type": "code",
      "execution_count": null,
      "metadata": {
        "id": "OdB5aRLQaCmN",
        "outputId": "9be55df0-0d42-40e4-e87b-94887333eb7d"
      },
      "outputs": [
        {
          "name": "stdout",
          "output_type": "stream",
          "text": [
            "AL : Alabama\n",
            "CA : California\n",
            "NJ : New Jersey\n",
            "NY : New York\n"
          ]
        }
      ],
      "source": [
        "#@title #### **Triez le dictionnaire**\n",
        "# sorted()\n",
        "states_dict = {'AL' : 'Alabama', 'CA' : 'California',\n",
        "               'NJ' : 'New Jersey', 'NY' : 'New York'}\n",
        "sorted_keys = sorted(list(states_dict.keys()), reverse=False)\n",
        "for key in sorted_keys :\n",
        "    print('{} : {}'.format(key, states_dict[key]))"
      ]
    }
  ],
  "metadata": {
    "kernelspec": {
      "display_name": "base",
      "language": "python",
      "name": "python3"
    },
    "language_info": {
      "codemirror_mode": {
        "name": "ipython",
        "version": 3
      },
      "file_extension": ".py",
      "mimetype": "text/x-python",
      "name": "python",
      "nbconvert_exporter": "python",
      "pygments_lexer": "ipython3",
      "version": "3.12.0"
    },
    "colab": {
      "provenance": [],
      "include_colab_link": true
    }
  },
  "nbformat": 4,
  "nbformat_minor": 0
}
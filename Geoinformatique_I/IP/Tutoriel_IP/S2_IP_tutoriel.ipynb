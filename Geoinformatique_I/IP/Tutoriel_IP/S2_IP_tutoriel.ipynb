{
  "cells": [
    {
      "cell_type": "markdown",
      "metadata": {
        "id": "view-in-github",
        "colab_type": "text"
      },
      "source": [
        "<a href=\"https://colab.research.google.com/github/washof/2024_Geoinformatique_I/blob/main/Geoinformatique_I/IP/Tutoriel_IP/S2_IP_tutoriel.ipynb\" target=\"_parent\"><img src=\"https://colab.research.google.com/assets/colab-badge.svg\" alt=\"Open In Colab\"/></a>"
      ]
    },
    {
      "cell_type": "markdown",
      "metadata": {
        "id": "ogmngtH-PDV5"
      },
      "source": [
        "# Tutoriel 2: Structure de contrôle\n",
        "La première chose à savoir est que les programmes Python (ou _scripts Python_) sont généralement exécutés de manière séquentielle et qu'une instruction de code ne sera pas exécutée plusieurs fois sauf indication contraire.\n",
        "\n",
        "Dans la pratique, vous aurez souvent besoin d'exécuter un bloc de code plusieurs fois, ou d'exécuter une partie d'un code en fonction de différentes conditions. Nous utilisons les structures de contrôle pour gérer ces cas plus complexes.\n",
        "\n",
        "Dans cette section, nous aborderons les points suivants:\n",
        "\n",
        "1. Les instructions conditionnelles -- if, else et elif\n",
        "2. Instructions de boucle -- for, while\n",
        "3. Instructions de contrôle de boucle -- break, continue, pass\n",
        "4. Indentation\n",
        "\n",
        "Référence:\n",
        "* IBM Congnitive Class - Intro to Python (https://github.com/computationalcore/introduction-to-python)\n",
        "* CUSP UCSL bootcamp 2017 (https://github.com/Mohitsharma44/ucsl17)"
      ]
    },
    {
      "cell_type": "markdown",
      "metadata": {
        "id": "kyd222qmPDV8"
      },
      "source": [
        "## Les instructions conditionnelles\n",
        "Nous combinons ici les opérateurs relationnels et logiques pour permettre à un programme de suivre différents flux d'exécution. En d'autres termes, certains extraits de code ne sont exécutés que si certaines conditions sont remplies.\n",
        "\n",
        "La logique des déclarations conditionnelles est simple. `if` (si) ➡ `condition remplie` ➡ `faire quelque chose`. `if` (si) ➡ `condition non remplie` ➡ `faire autre chose`."
      ]
    },
    {
      "cell_type": "code",
      "execution_count": null,
      "metadata": {
        "id": "WulYZ2RDPDV9"
      },
      "outputs": [],
      "source": [
        "x = 100\n",
        "if x > 0:\n",
        "    print('Nombre positif')\n",
        "elif x < 0:\n",
        "    print('Nombre négatif')\n",
        "else:\n",
        "    print ('Zéro!')"
      ]
    },
    {
      "cell_type": "code",
      "execution_count": null,
      "metadata": {
        "id": "NBSHat50PDWC"
      },
      "outputs": [],
      "source": [
        "# l'indentation est OBLIGATOIRE\n",
        "# les blocs sont fermés par un niveau d'indentation\n",
        "if x > 0:\n",
        "    print('Nombre positif')\n",
        "    if x >= 100:\n",
        "        print('Nombre élevé!')"
      ]
    },
    {
      "cell_type": "markdown",
      "metadata": {
        "id": "iaTu52xCPDWD"
      },
      "source": [
        "## Instructions de boucle\n",
        "Nous utilisons les instructions de boucle lorsque nous voulons exécuter plusieurs fois certaines instructions de code. Voici un exemple de cas où il serait approprié d'utiliser des instructions de boucle :\n",
        "\n",
        "1. Si nous avons plusieurs fichiers de données à traiter.\n",
        "2. Nous utilisons une instruction de boucle pour lire les fichiers en mémoire de manière itérative.\n",
        "3. Dans les instructions de boucle, nous exécutons le même algorithme de traitement sur les données importées.\n",
        "\n",
        "En langage Python, il existe deux types principaux d'instructions de boucle : Les boucles \"while\" et les boucles \"for\"."
      ]
    },
    {
      "cell_type": "code",
      "execution_count": null,
      "metadata": {
        "id": "sy6-pJoRPDWE"
      },
      "outputs": [],
      "source": [
        "# utiliser la gamme [range(5)==[0,1,2,3,4]]\n",
        "for i in range(5):\n",
        "    print(i)"
      ]
    },
    {
      "cell_type": "markdown",
      "metadata": {
        "id": "4V7wC0BGPDWG"
      },
      "source": [
        "```{tip}\n",
        "Ici, nous utilisons la fonction `range()` pour créer une séquence de nombres afin de piloter la boucle for.\n",
        "\n",
        "**range(N)** crée une liste de N nombres qui commence par 0.\n",
        "**range(A,B)** crée une liste de nombres commençant par `A` et se terminant par `B-1`.\\N- **range(A,B,B) crée une liste de nombres commençant par `A` et se terminant par `B-1`.\n",
        "**range(A,B,step)** commence et se termine par les mêmes nombres que `range(A,B)`. La seule différence est que la différence entre les nombres passe de `1` à `pas`\n",
        "\n",
        "Nous pouvons également utiliser des itérateurs non numériques pour piloter des boucles for !\n",
        "```\n"
      ]
    },
    {
      "cell_type": "code",
      "execution_count": null,
      "metadata": {
        "id": "2a8Wnsz-PDWG"
      },
      "outputs": [],
      "source": [
        "# itérer sur une liste que nous créons, et accéder à la fois aux indices et aux éléments avec enumerate()\n",
        "for index,pet in enumerate(['dog', 'cat', 'fish']):\n",
        "    print(index, pet, len(pet))"
      ]
    },
    {
      "cell_type": "markdown",
      "metadata": {
        "id": "BkA-UImMPDWG"
      },
      "source": [
        "Comme nous pouvons le voir, la boucle `for` est appropriée si vous voulez répéter les opérations dans la boucle pour un nombre fixe de fois `N`. Mais que se passe-t-il si vous n'avez aucune idée du nombre de fois que vous souhaitez répéter un extrait de code ? Ce n'est pas un problème trivial et il se produit souvent dans les problèmes d'optimisation numérique.\n",
        "\n",
        "Pour ces problèmes, nous allons renoncer à la boucle `for` et utiliser la boucle `while` à la place. La fin d'une boucle `while` dépend de la satisfaction ou non d'une condition. En théorie, la boucle peut fonctionner indéfiniment si la condition que vous avez fixée est toujours vraie."
      ]
    },
    {
      "cell_type": "code",
      "execution_count": null,
      "metadata": {
        "id": "4NwT-76HPDWH"
      },
      "outputs": [],
      "source": [
        "# faire une boucle\n",
        "count = 0\n",
        "while count < 10:\n",
        "    # mauvaise manière\n",
        "    # count = count + 1\n",
        "    # meilleure manière\n",
        "    count += 1\n",
        "print(count)"
      ]
    },
    {
      "cell_type": "markdown",
      "metadata": {
        "id": "Qd7QSGdRPDWH"
      },
      "source": [
        "## Instructions de contrôle de boucle\n",
        "Il arrive que l'on veuille faire dévier l'exécution d'une boucle de son comportement normal. Nous voulons peut-être quitter la boucle lorsque certaines conditions sont remplies pour gagner du temps. Nous pouvons aussi vouloir que la boucle saute du code si les données satisfont à certaines conditions.\n",
        "\n",
        "Deux instructions de contrôle sont très utiles dans ce cas : `break` et `continue`. Nous utiliserons une boucle `for` comme exemple :"
      ]
    },
    {
      "cell_type": "code",
      "execution_count": null,
      "metadata": {
        "id": "lcNdXdfqPDWH"
      },
      "outputs": [],
      "source": [
        "for i in range(1, 10):\n",
        "    if i == 5:\n",
        "        print('Condition satisfaite')\n",
        "        break\n",
        "    print(i)  # Que se passerait-il si cette condition était placée avant la condition \"if\" ?"
      ]
    },
    {
      "cell_type": "code",
      "execution_count": null,
      "metadata": {
        "id": "zVcVpf3ZPDWI"
      },
      "outputs": [],
      "source": [
        "for i in range(1, 10):\n",
        "    if i == 5:\n",
        "        print('Condition satisfaite')\n",
        "        continue\n",
        "        print(\"Quoi qu'il en soit. De toute façon, je ne serai pas imprimé.\")\n",
        "    print(i)"
      ]
    },
    {
      "cell_type": "code",
      "execution_count": null,
      "metadata": {
        "id": "zZUF7C9iPDWI"
      },
      "outputs": [],
      "source": [
        "for i in range(1, 10):\n",
        "    if i == 5:\n",
        "        print('Condition satisfaite')\n",
        "        pass\n",
        "    print(i)"
      ]
    },
    {
      "cell_type": "markdown",
      "metadata": {
        "id": "3MCoXHgwdwyb"
      },
      "source": [
        "## Indentation"
      ]
    },
    {
      "cell_type": "markdown",
      "metadata": {
        "id": "LMabfYa7dwyb"
      },
      "source": [
        "L'indentation est un aspect fondamental de la programmation Python qui détermine la structure et le flux d'exécution de votre code. Contrairement à d'autres langages de programmation qui utilisent des accolades `{}` ou des mots-clés tels que `begin` et `end` pour définir des blocs de code, Python s'appuie sur l'indentation.\n",
        "\n",
        "\n",
        "Pourquoi l'indentation ?\n",
        "L'indentation rend le code plus lisible et assure une structure propre et cohérente. Elle permet également d'identifier visuellement la portée des instructions dans les structures de contrôle telles que les boucles et les conditionnelles."
      ]
    },
    {
      "cell_type": "markdown",
      "metadata": {
        "id": "U3DJSmsVdwyb"
      },
      "source": [
        "Règles de base :\n",
        "\n",
        "1. Espaces, pas les tabulations:\n",
        "    Utilisez des espaces pour l'indentation, pas des tabulations. Python est sensible au nombre d'espaces utilisés pour l'indentation, et le mélange de tabulations et d'espaces peut entraîner des erreurs.\n",
        "\n",
        "2. Indentation cohérente:\n",
        "    Respectez le nombre d'espaces utilisés pour l'indentation dans l'ensemble de votre code. La convention courante est d'utiliser quatre espaces.\n",
        "    \n",
        "3. Indentation dans les blocs:\n",
        "    Toutes les instructions d'un bloc doivent être indentées de la même manière. Cela définit la portée du bloc."
      ]
    },
    {
      "cell_type": "code",
      "execution_count": null,
      "metadata": {
        "id": "dKr4RoORdwyb"
      },
      "outputs": [],
      "source": [
        "# Exemple d'indentation correcte\n",
        "if True:\n",
        "    print(\"Cette déclaration est à l'intérieur du bloc if.\")\n",
        "    print(\"Tout comme celle-ci.\")\n",
        "\n",
        "# Exemple d'indentation incorrecte\n",
        "if True:\n",
        "  print(\"Cette déclaration a une indentation incohérente.\")\n",
        "    print(\"Celle-ci provoquera une erreur.\")"
      ]
    },
    {
      "cell_type": "markdown",
      "metadata": {
        "id": "qIz19Jjndwyc"
      },
      "source": [
        "### Structures de contrôle :\n",
        "\n"
      ]
    },
    {
      "cell_type": "markdown",
      "metadata": {
        "id": "ylDOVHFxdwyc"
      },
      "source": [
        "Instructions if-else:\n",
        "    \n",
        "    Indentez le code à l'intérieur des blocs `if` et `else`."
      ]
    },
    {
      "cell_type": "code",
      "execution_count": null,
      "metadata": {
        "id": "oFXdHMtVdwyc"
      },
      "outputs": [],
      "source": [
        "x = 10\n",
        "if x > 5:\n",
        "    print(\"x est supérieur à 5\")\n",
        "else:\n",
        "    print(\"x n'est pas supérieur à 5\")"
      ]
    },
    {
      "cell_type": "markdown",
      "metadata": {
        "id": "hhACaCeHdwyc"
      },
      "source": [
        "Boucles for :\n",
        "\n",
        "    Indentez le code à l'intérieur du bloc de la boucle for."
      ]
    },
    {
      "cell_type": "code",
      "execution_count": null,
      "metadata": {
        "id": "v0J2eSfVdwyc"
      },
      "outputs": [],
      "source": [
        "for i in range(5):\n",
        "    print(\"Itération :\", i)"
      ]
    },
    {
      "cell_type": "markdown",
      "metadata": {
        "id": "RULwrzIjdwyc"
      },
      "source": [
        "Boucles while :\n",
        "\n",
        "    Indentez le code à l'intérieur du bloc de la boucle while."
      ]
    },
    {
      "cell_type": "code",
      "execution_count": null,
      "metadata": {
        "id": "MEG8g53Tdwyc"
      },
      "outputs": [],
      "source": [
        "compte = 0\n",
        "while compte < 5:\n",
        "    print(\"Compte :\", compte)\n",
        "    compte += 1"
      ]
    },
    {
      "cell_type": "markdown",
      "metadata": {
        "id": "NzpgvEWYdwyc"
      },
      "source": [
        "Comprendre et suivre les bonnes pratiques d'indentation est essentiel pour écrire un code Python propre et lisible. Cela aide à éviter les erreurs de syntaxe et contribue à la maintenabilité globale de vos programmes.\n",
        "\n",
        "N'hésitez pas à expérimenter avec ces exemples dans votre environnement Python pour obtenir une expérience pratique de l'indentation !"
      ]
    }
  ],
  "metadata": {
    "colab": {
      "provenance": [],
      "include_colab_link": true
    },
    "kernelspec": {
      "display_name": "JupyterBook",
      "language": "python",
      "name": "python3"
    },
    "language_info": {
      "codemirror_mode": {
        "name": "ipython",
        "version": 3
      },
      "file_extension": ".py",
      "mimetype": "text/x-python",
      "name": "python",
      "nbconvert_exporter": "python",
      "pygments_lexer": "ipython3",
      "version": "3.12.0"
    }
  },
  "nbformat": 4,
  "nbformat_minor": 0
}
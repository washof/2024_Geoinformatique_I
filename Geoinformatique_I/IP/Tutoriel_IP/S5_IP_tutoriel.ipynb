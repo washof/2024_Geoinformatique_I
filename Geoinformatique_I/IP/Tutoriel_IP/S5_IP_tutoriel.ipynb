{
  "cells": [
    {
      "cell_type": "markdown",
      "metadata": {
        "id": "view-in-github",
        "colab_type": "text"
      },
      "source": [
        "<a href=\"https://colab.research.google.com/github/washof/2024_Geoinformatique_I/blob/main/Geoinformatique_I/IP/Tutoriel_IP/S5_IP_tutoriel.ipynb\" target=\"_parent\"><img src=\"https://colab.research.google.com/assets/colab-badge.svg\" alt=\"Open In Colab\"/></a>"
      ]
    },
    {
      "cell_type": "markdown",
      "metadata": {
        "id": "kdUAd5CBcu_t"
      },
      "source": [
        "# Tutoriel 5: Bonnes pratiques de programmation\n",
        "\n",
        "Dans cette section, nous aborderons les points suivants:\n",
        "\n",
        "1. 🧑‍🏫 Classe : Apprenez à structurer votre code avec des classes et à encapsuler des comportements dans des objets.\n",
        "\n",
        "2. 📜 Contrôle des versions : Découvrez comment suivre et gérer les modifications de votre code avec des outils de gestion de versions comme Git.\n",
        "\n",
        "3. ✅ Assertion : Maîtrisez l'utilisation des assertions pour vérifier que vos hypothèses de code sont correctes pendant l'exécution.\n",
        "\n",
        "4. 🧪 Unit testing : Initiez-vous aux tests unitaires pour garantir que chaque partie de votre code fonctionne comme prévu de manière isolée.\n",
        "\n",
        "5. 🚨 Exception : Comprenez comment gérer les erreurs et exceptions pour rendre votre code plus robuste et fiable.\n",
        "\n",
        "6. 🐞 Débogage : Explorez les outils et techniques pour identifier et corriger les bugs dans votre programme de manière efficace."
      ]
    },
    {
      "cell_type": "markdown",
      "metadata": {
        "id": "QVyTX0yScu_t"
      },
      "source": [
        "## Classes"
      ]
    },
    {
      "cell_type": "markdown",
      "metadata": {
        "id": "SmSLYYWucu_u"
      },
      "source": [
        "Jusqu'à présent, nous avons manipulé plusieurs types d'objets en Python : des chaînes de caractères, des listes, des dictionnaires, et bien plus encore. Chacun de ces objets possède ses propres attributs et se comporte différemment lorsqu'on utilise des fonctions intégrées comme `len`, par exemple.\n",
        "\n",
        "Mais comment créer nos propres objets avec des comportements sur mesure ? 🤔 Réponse : en définissant des classes ! 🎉"
      ]
    },
    {
      "cell_type": "markdown",
      "metadata": {
        "id": "loZOkQrucu_u"
      },
      "source": [
        "### Une classe pour représenter un ouragan\n",
        "Créons ensemble notre première classe pour représenter un ouragan. Mais attention... saurez-vous définir un ouragan à temps ? ⏱️🌪️"
      ]
    },
    {
      "cell_type": "code",
      "execution_count": 1,
      "metadata": {
        "id": "Fquq4fHrcu_u"
      },
      "outputs": [],
      "source": [
        "class Hurricane:\n",
        "\n",
        "    def __init__(self, name):\n",
        "        self.name = name"
      ]
    },
    {
      "cell_type": "markdown",
      "metadata": {
        "id": "ByNgM7O3cu_v"
      },
      "source": [
        "Et maintenant, créons une *instance* de cette classe, `h` :"
      ]
    },
    {
      "cell_type": "code",
      "execution_count": 2,
      "metadata": {
        "id": "7a7b5giScu_w",
        "colab": {
          "base_uri": "https://localhost:8080/"
        },
        "outputId": "e17ee1e2-66cd-4a21-9180-5fa0c260b5e6"
      },
      "outputs": [
        {
          "output_type": "stream",
          "name": "stdout",
          "text": [
            "<__main__.Hurricane object at 0x7f34265eaad0> Milton\n"
          ]
        }
      ],
      "source": [
        "h = Hurricane('Milton')\n",
        "print(h,h.name)"
      ]
    },
    {
      "cell_type": "markdown",
      "metadata": {
        "id": "uMa8goACcu_w"
      },
      "source": [
        "Ajoutons-en d'autres, ainsi qu'une validation des entrées :"
      ]
    },
    {
      "cell_type": "code",
      "execution_count": 3,
      "metadata": {
        "id": "VMtdcbG1cu_w"
      },
      "outputs": [],
      "source": [
        "class Hurricane:\n",
        "\n",
        "    def __init__(self, name, category, lon):\n",
        "        self.name = name.upper()\n",
        "        self.category = int(category)\n",
        "\n",
        "        if lon > 180 or lon < -180:\n",
        "            raise ValueError(f'Invalid lon {lon}')\n",
        "        self.lon = lon"
      ]
    },
    {
      "cell_type": "code",
      "execution_count": 7,
      "metadata": {
        "id": "xngBJTq7cu_x",
        "colab": {
          "base_uri": "https://localhost:8080/"
        },
        "outputId": "eb025f16-2200-4ee0-8ceb-eeac0b4bf6a9"
      },
      "outputs": [
        {
          "output_type": "stream",
          "name": "stdout",
          "text": [
            "<__main__.Hurricane object at 0x7f34265ea530> MILTON\n"
          ]
        }
      ],
      "source": [
        "f = Hurricane('florence', 4, -46)\n",
        "print(h,h.name)\n",
        "h = Hurricane('Milton', 5, -86.9)"
      ]
    },
    {
      "cell_type": "code",
      "execution_count": 9,
      "metadata": {
        "id": "yrBcg9Llcu_x"
      },
      "outputs": [],
      "source": [
        "# Ajoutons maintenant une méthode personnalisée :class Hurricane:\n",
        "class Hurricane:\n",
        "\n",
        "    def __init__(self, name, category, lon):\n",
        "        self.name = name.upper()\n",
        "        self.category = int(category)\n",
        "\n",
        "        if lon > 180 or lon < -180:\n",
        "            raise ValueError(f'Invalid lon {lon}')\n",
        "        self.lon = lon\n",
        "\n",
        "    def is_dangerous(self):\n",
        "        return self.category > 1"
      ]
    },
    {
      "cell_type": "code",
      "execution_count": 10,
      "metadata": {
        "id": "7gD5P0Uicu_x",
        "colab": {
          "base_uri": "https://localhost:8080/"
        },
        "outputId": "72c89c7a-0e0c-42fc-92e3-1fcd256fe36e"
      },
      "outputs": [
        {
          "output_type": "execute_result",
          "data": {
            "text/plain": [
              "True"
            ]
          },
          "metadata": {},
          "execution_count": 10
        }
      ],
      "source": [
        "f = Hurricane('florence', 4, -46)\n",
        "f.is_dangerous()"
      ]
    },
    {
      "cell_type": "markdown",
      "metadata": {
        "id": "AUgTFzIPcu_y"
      },
      "source": [
        "### Méthodes magiques / Dunder (double underscore) ✨\n",
        "Saviez-vous que vous pouvez ajouter une touche de magie à vos classes Python ? 🧙‍♂️✨ Grâce aux méthodes spéciales, aussi appelées méthodes \"dunder\" (car elles commencent par des doubles underscores), vous pouvez personnaliser le comportement de vos objets.\n",
        "\n",
        "Mais qu'est-ce qui rend ces méthodes spéciales ? 🤔 Ce qui est génial, c'est que vous n'avez pas besoin de les invoquer directement ! Elles sont automatiquement appelées par Python lorsqu'un événement correspondant survient. Par exemple, __init__ est déclenchée lorsque vous créez un nouvel objet, et __repr__ est utilisée pour obtenir une représentation lisible de votre objet. 📋\n",
        "\n",
        "Nous avons déjà rencontré l'une d'elles : __init__ ! Mais il y en a bien d'autres. 🎩\n",
        "\n",
        "Implémentons maintenant la méthode __repr__ pour que nos objets puissent s'afficher de manière claire et informative.\n",
        "\n",
        "[Cliquez ici pour en apprendre plus](https://www.python-course.eu/python3_magic_methods.php)"
      ]
    },
    {
      "cell_type": "code",
      "execution_count": null,
      "metadata": {
        "id": "Afu0HNcdcu_y"
      },
      "outputs": [],
      "source": [
        "class Hurricane:\n",
        "\n",
        "    def __init__(self, name, category, lon):\n",
        "        self.name = name.upper()\n",
        "        self.category = int(category)\n",
        "\n",
        "        if lon > 180 or lon < -180:\n",
        "            raise ValueError(f'Invalid lon {lon}')\n",
        "        self.lon = lon\n",
        "\n",
        "    def __repr__(self):\n",
        "        return f\"<Hurricane {self.name} (cat {self.category})>\"\n",
        "\n",
        "    def is_dangerous(self):\n",
        "        return self.category > 1"
      ]
    },
    {
      "cell_type": "code",
      "execution_count": null,
      "metadata": {
        "id": "TKodWGMPcu_y"
      },
      "outputs": [],
      "source": [
        "f = Hurricane('florence', 4, -46)\n",
        "f"
      ]
    },
    {
      "cell_type": "markdown",
      "metadata": {
        "id": "UiCTSWaRcu_y"
      },
      "source": [
        "## Contrôle des versions 🔄"
      ]
    },
    {
      "cell_type": "markdown",
      "metadata": {
        "id": "8Eb_lVkufj_p"
      },
      "source": [
        "Le contrôle des versions, c’est comme avoir un superpouvoir pour suivre toutes les modifications de votre code au fil du temps ! 🦸💻 Il permet de revenir à une version précédente si quelque chose tourne mal, ou encore de collaborer facilement avec d’autres développeur·euse·s sans écraser leurs modifications.\n",
        "\n",
        "Pour cela, Git est votre meilleur allié. ⚔️ C'est un système de contrôle de version distribué qui suit chaque modification et permet à tout le monde de travailler en équipe, tout en gardant le code bien organisé et sécurisé.\n",
        "\n",
        "Souvenez-vous de GitHub ? 🤔 C'est cette plateforme géniale qui vous permet de git push vos exercices complétés et de garder une copie en ligne de votre code. 📤 Plus besoin de vous soucier de perdre votre travail !\n",
        "\n",
        "Prêt·e à maîtriser Git et ses commandes ? 🚀"
      ]
    },
    {
      "cell_type": "markdown",
      "metadata": {
        "id": "7Rcn6pvffj_p"
      },
      "source": [
        "### Initialisation d'un Répertoire Git"
      ]
    },
    {
      "cell_type": "markdown",
      "source": [
        "Commencez par créer un nouveau dossier projet. Nous donnons l'exemple sur Colab mais cette même opération peut être réalisée sur votre propre ordinateur en ouvrant un terminal 💻"
      ],
      "metadata": {
        "id": "yAZZrt9SAH-q"
      }
    },
    {
      "cell_type": "code",
      "source": [
        "!mkdir Dossier_Projet"
      ],
      "metadata": {
        "id": "xzMYq96h_-15"
      },
      "execution_count": null,
      "outputs": []
    },
    {
      "cell_type": "markdown",
      "source": [
        "Sur Collab, après avoir navigué sur l'onglet \"Fichier\" et appuyer sur le bouton \"rafraîchir\", le nouveau dossier devrait apparaître."
      ],
      "metadata": {
        "id": "ElEmeQZEAXjn"
      }
    },
    {
      "cell_type": "markdown",
      "source": [
        "![image.png](data:image/png;base64,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)"
      ],
      "metadata": {
        "id": "ygQdFeUwAhlT"
      }
    },
    {
      "cell_type": "code",
      "execution_count": null,
      "metadata": {
        "id": "ADhmxL6Efj_p"
      },
      "outputs": [],
      "source": [
        "# Ouvrez votre terminal et naviguez vers le répertoire de votre projet\n",
        "# %cd change le dossier de référence du projet\n",
        "%cd /content/Dossier_Projet/\n",
        "\n",
        "# Montrer où l'on est\n",
        "!pwd"
      ]
    },
    {
      "cell_type": "markdown",
      "source": [
        "Qu'y a t-il dans le dossier? 🕵"
      ],
      "metadata": {
        "id": "vvCKtpOFHlVF"
      }
    },
    {
      "cell_type": "code",
      "source": [
        "!ls"
      ],
      "metadata": {
        "id": "944nBJkdB4lt"
      },
      "execution_count": null,
      "outputs": []
    },
    {
      "cell_type": "markdown",
      "source": [
        "Rien pour l'instant...\n",
        "\n",
        "Pour utiliser `git` dans un projet et suivre l'évolution des fichiers, nous pouvons utiliser la commande `git init`. Celle-ci crée un dépôt Git dans le dossier où elle est exécutée, en ajoutant un sous-dossier caché appelé .git. Ce dossier stocke toutes les informations nécessaires pour suivre les changements de votre projet."
      ],
      "metadata": {
        "id": "5jllbHDhHpaL"
      }
    },
    {
      "cell_type": "code",
      "source": [
        "# Initialisez un nouveau référentiel Git dans le répertoire\n",
        "!git init"
      ],
      "metadata": {
        "id": "-unHnUDKBfg0"
      },
      "execution_count": null,
      "outputs": []
    },
    {
      "cell_type": "markdown",
      "metadata": {
        "id": "ub7gYq7_fj_p"
      },
      "source": [
        "### Ajout de fichiers au suivi de Git"
      ]
    },
    {
      "cell_type": "code",
      "execution_count": null,
      "metadata": {
        "id": "CXRnV_Hdfj_q"
      },
      "outputs": [],
      "source": [
        "# Créez quelques fichiers dans votre projet\n",
        "!touch fichier1.py fichier2.txt"
      ]
    },
    {
      "cell_type": "code",
      "source": [
        "# Listons maintenant les fichiers dans votre dossier\n",
        "!ls"
      ],
      "metadata": {
        "id": "Hi6RErg3IGSo"
      },
      "execution_count": null,
      "outputs": []
    },
    {
      "cell_type": "code",
      "source": [
        "# Ajoutez les fichiers à l'index (zone de préparation)\n",
        "# i.e., la zone où Git prépare les fichiers avant de les valider dans un commit.\n",
        "!git add fichier1.py fichier2.txt"
      ],
      "metadata": {
        "id": "4DUWzOqqA691"
      },
      "execution_count": null,
      "outputs": []
    },
    {
      "cell_type": "code",
      "source": [
        "# Avant de valider le commit, ajoutons notre identité\n",
        "# Gardons cette identité anonyme pour l'exemple\n",
        "!git config --global user.email \"you@example.com\"\n",
        "!git config --global user.name \"Your Name\""
      ],
      "metadata": {
        "id": "CC7LofW3IXt_"
      },
      "execution_count": null,
      "outputs": []
    },
    {
      "cell_type": "code",
      "source": [
        "# Validez les changements en créant un commit\n",
        "!git commit -m \"Premier commit, ajout de fichier1.py et fichier2.txt\""
      ],
      "metadata": {
        "id": "sGc1VM5AA7ZW"
      },
      "execution_count": null,
      "outputs": []
    },
    {
      "cell_type": "markdown",
      "metadata": {
        "id": "oHalroRAfj_q"
      },
      "source": [
        "### Consultation de l'histoire du projet"
      ]
    },
    {
      "cell_type": "code",
      "execution_count": null,
      "metadata": {
        "id": "VT0A0bPefj_q"
      },
      "outputs": [],
      "source": [
        "# Affichez l'historique des commits\n",
        "!git log"
      ]
    },
    {
      "cell_type": "markdown",
      "metadata": {
        "id": "5cZztIsSfj_q"
      },
      "source": [
        "### Modification de fichier et création de Nouveaux commits"
      ]
    },
    {
      "cell_type": "code",
      "execution_count": null,
      "metadata": {
        "id": "mP6Muxp-fj_q"
      },
      "outputs": [],
      "source": [
        "# Modifiez fichier1.py et ajoutez un nouveau fichier fichier3.py\n",
        "!echo \"print('Hello, Git!')\" > fichier1.py\n",
        "!touch fichier3.py"
      ]
    },
    {
      "cell_type": "code",
      "source": [
        "# Ajoutez les modifications à l'index\n",
        "!git add fichier1.py fichier3.py"
      ],
      "metadata": {
        "id": "B5hTPGClKZ1_"
      },
      "execution_count": null,
      "outputs": []
    },
    {
      "cell_type": "code",
      "source": [
        "# Validez les changements avec un nouveau commit\n",
        "!git commit -m \"Modification de fichier1.py et ajout de fichier3.py\""
      ],
      "metadata": {
        "id": "9ZzYw0L9Kafl"
      },
      "execution_count": null,
      "outputs": []
    },
    {
      "cell_type": "markdown",
      "metadata": {
        "id": "GEjixesLfj_q"
      },
      "source": [
        "### Branches et fusion (merge) 🌿"
      ]
    },
    {
      "cell_type": "markdown",
      "source": [
        "Les branches sont comme des chemins parallèles pour travailler sur différentes fonctionnalités de votre projet, sans affecter la branche principale. 🌱 Vous pouvez développer une nouvelle idée, tester une fonctionnalité, ou corriger un bug sans risquer de tout casser.\n",
        "\n",
        "Une fois que votre nouvelle fonctionnalité est prête, vous pouvez fusionner votre branche dans la branche principale (souvent appelée master ou main) pour intégrer les changements. 🛠️\n",
        "\n",
        "Essayons ensemble ! Voici comment vous pouvez créer une nouvelle branche, y apporter des modifications, puis fusionner ces changements dans la branche principale :"
      ],
      "metadata": {
        "id": "EVmcP4IjU8MA"
      }
    },
    {
      "cell_type": "code",
      "source": [
        "# Créez une nouvelle branche\n",
        "!git branch nouvelle_fonctionnalite"
      ],
      "metadata": {
        "id": "IKnOBPadKjln"
      },
      "execution_count": null,
      "outputs": []
    },
    {
      "cell_type": "code",
      "source": [
        "# Changez de branche\n",
        "!git checkout nouvelle_fonctionnalite"
      ],
      "metadata": {
        "id": "54kq_eMcKlOU"
      },
      "execution_count": null,
      "outputs": []
    },
    {
      "cell_type": "code",
      "source": [
        "# Effectuez des modifications et validez les changements\n",
        "!echo \"print('Nouvelle fonctionnalité ajoutée')\" > nouvelle_fonctionnalite.py\n",
        "!git add nouvelle_fonctionnalite.py\n",
        "!git commit -m \"Ajout de la nouvelle fonctionnalité\""
      ],
      "metadata": {
        "id": "I3OZJU6DKnTb"
      },
      "execution_count": null,
      "outputs": []
    },
    {
      "cell_type": "code",
      "source": [
        "# Revenez à la branche principale (master)\n",
        "!git checkout master"
      ],
      "metadata": {
        "id": "KahDN8ljKqJX"
      },
      "execution_count": null,
      "outputs": []
    },
    {
      "cell_type": "code",
      "execution_count": null,
      "metadata": {
        "id": "K-q1mm1Mfj_q"
      },
      "outputs": [],
      "source": [
        "# Fusionnez la nouvelle fonctionnalité dans la branche principale\n",
        "!git merge nouvelle_fonctionnalite"
      ]
    },
    {
      "cell_type": "markdown",
      "metadata": {
        "id": "vEnplBetfj_q"
      },
      "source": [
        "Il existe de nombreuses autres fonctionnalités Git à explorer, mais ces concepts de base vous donneront une base solide pour travailler avec le contrôle des versions dans vos projets Python"
      ]
    },
    {
      "cell_type": "markdown",
      "metadata": {
        "id": "RDl-Ya6xcu_y"
      },
      "source": [
        "## Assertion ✅"
      ]
    },
    {
      "cell_type": "markdown",
      "metadata": {
        "id": "ZK6GqNU8fj_q"
      },
      "source": [
        "Les assertions en Python sont comme des petites vérifications automatiques pour s'assurer que tout fonctionne comme prévu. 🚦 Si la condition que vous spécifiez est vraie, tout roule et le programme continue sans souci. Mais si elle est fausse, Python déclenche une alarme en levant une exception `AssertionError`. 🚨 Vous pouvez même ajouter un message d'erreur personnalisé pour expliquer ce qui s'est mal passé.\n",
        "\n",
        "C'est un excellent moyen de valider vos hypothèses pendant l'exécution du programme !"
      ]
    },
    {
      "cell_type": "code",
      "execution_count": null,
      "metadata": {
        "id": "W9AjaNVIfj_q"
      },
      "outputs": [],
      "source": [
        "# 'a' est égal à 5. Si la condition est fausse,\n",
        "# une exception \"AssertionErreur\" est affichée avec le message spécifié.\n",
        "a = 5\n",
        "assert a == 5, \"La valeur de 'a' devrait être 5\"\n",
        "print(\"La condition est vraie, le programme continue.\")"
      ]
    },
    {
      "cell_type": "markdown",
      "metadata": {
        "id": "D4GAEuMQfj_q"
      },
      "source": [
        "Les assertions sont aussi possibles avec les fonctions"
      ]
    },
    {
      "cell_type": "code",
      "execution_count": null,
      "metadata": {
        "id": "MshLD8Eafj_q"
      },
      "outputs": [],
      "source": [
        "# Assertion vérifie si le diviseur ('b') n'est pas égal à zéro avant d'effectuer la division.\n",
        "# Si 'b' est zéro, une exception \"AssertionError\" est affichée.\n",
        "\n",
        "def diviser(a, b):\n",
        "    assert b != 0, \"Division par zéro\"\n",
        "    return a / b\n",
        "\n",
        "resultat = diviser(10, 2)\n",
        "print(\"Le résultat de la division est :\", resultat)"
      ]
    },
    {
      "cell_type": "markdown",
      "metadata": {
        "id": "yixAvZ3Ofj_q"
      },
      "source": [
        " Les assertions sont utilisées pendant le développement et les tests, mais elles peuvent être désactivées en mode production pour améliorer les performances."
      ]
    },
    {
      "cell_type": "code",
      "execution_count": null,
      "metadata": {
        "id": "zaRds3Xcfj_q"
      },
      "outputs": [],
      "source": [
        "# Le module __debug__ est utilisé pour vérifier si les assertions sont activées.\n",
        "# En mode production (lorsque le script est exécuté avec l'option -O), les assertions sont désactivées.\n",
        "def fonction_critique(x):\n",
        "    assert x > 0, \"La valeur de 'x' doit être positive\"\n",
        "    # Le reste du code critique ici\n",
        "\n",
        "# Désactiver les assertions en mode production\n",
        "# python -O script.py\n"
      ]
    },
    {
      "cell_type": "markdown",
      "metadata": {
        "id": "axC1qIBbfj_q"
      },
      "source": [
        "Les assertions en Python sont un outil puissant pour vérifier que tout se passe comme prévu dans votre code. 💪 Cependant, elles ne devraient être utilisées que pour des situations qui ne devraient jamais arriver en conditions normales. Si une assertion échoue, c'est que quelque chose est vraiment hors de contrôle !\n",
        "\n",
        "Pour les erreurs prévues ou les cas spécifiques (comme une entrée utilisateur inattendue), il est préférable d'utiliser des mécanismes de gestion d'erreurs appropriés, comme les blocs `try/except`. 🛑 Contrairement aux assertions, ces blocs permettent de gérer les erreurs de manière contrôlée, même en production, et d'assurer que votre programme réagit correctement aux situations exceptionnelles.\n",
        "\n",
        "En résumé : les assertions sont super pour tester vos hypothèses pendant le développement, mais pour tout ce qui pourrait arriver dans la vraie vie, utilisez des solutions adaptées comme `try/except`. 😉"
      ]
    },
    {
      "cell_type": "markdown",
      "metadata": {
        "id": "RnYUY0e1cu_z"
      },
      "source": [
        "## Tests unitaires (\"Unit Testing\") 🧪"
      ]
    },
    {
      "cell_type": "markdown",
      "metadata": {
        "id": "fg9BNDxtfj_q"
      },
      "source": [
        "Les tests unitaires sont comme un filet de sécurité pour votre code. 🕸️ Ils permettent de vérifier que chaque petit morceau (ou \"unité\") de votre programme fonctionne correctement de manière isolée. 🔍 Si tout fonctionne bien à ce niveau, vous pouvez être plus serein·e pour la suite !\n",
        "\n",
        "En Python, le module unittest est là pour vous fournir un cadre robuste afin d'écrire et d'exécuter ces tests. Avec lui, vous pouvez automatiser la vérification de votre code et vous assurer qu'il est toujours en pleine forme, même après des modifications. ⚙️"
      ]
    },
    {
      "cell_type": "markdown",
      "metadata": {
        "id": "akCrhDkMfj_q"
      },
      "source": [
        "Création d'un Fichier à Tester\n",
        "Créez un fichier Python calculatrice.py contenant des fonctions simples à tester."
      ]
    },
    {
      "cell_type": "code",
      "source": [
        "# Retourner dans l'espace de base\n",
        "%cd /content/"
      ],
      "metadata": {
        "id": "cR9KeboYMJ5t"
      },
      "execution_count": null,
      "outputs": []
    },
    {
      "cell_type": "code",
      "execution_count": null,
      "metadata": {
        "id": "9SBxKlo8fj_t"
      },
      "outputs": [],
      "source": [
        "# Ce code crée et écrit le contenu dans le fichier calculatrice.py\n",
        "with open(\"calculatrice.py\", \"w\") as fichier:\n",
        "    fichier.write(\"\"\"\n",
        "def addition(a, b):\n",
        "    return a + b\n",
        "\n",
        "def soustraction(a, b):\n",
        "    return a - b\n",
        "\n",
        "def multiplication(a, b):\n",
        "    return a * b\n",
        "\n",
        "def division(a, b):\n",
        "    if b == 0:\n",
        "        raise ValueError(\"Division par zéro\")\n",
        "    return a / b\n",
        "\"\"\")"
      ]
    },
    {
      "cell_type": "code",
      "source": [
        "!ls"
      ],
      "metadata": {
        "id": "ZDnOXLs8MhYV"
      },
      "execution_count": null,
      "outputs": []
    },
    {
      "cell_type": "markdown",
      "metadata": {
        "id": "PhoZ4nI_fj_t"
      },
      "source": [
        "✍️ **Écriture des Tests Unitaires**\n",
        "\n",
        "Nous allons maintenant créer, grâce à la bibliothèque `unittest`, un fichier de test nommé `test_calculatrice.py`, qui servira à tester les fonctions de notre calculatrice."
      ]
    },
    {
      "cell_type": "code",
      "source": [
        "# Ce code crée et écrit le contenu dans le fichier test_calculatrice.py\n",
        "with open(\"test_calculatrice.py\", \"w\") as fichier:\n",
        "    fichier.write(\"\"\"\n",
        "import unittest\n",
        "from calculatrice import addition, soustraction, multiplication, division\n",
        "\n",
        "class TestCalculatrice(unittest.TestCase):\n",
        "\n",
        "    def test_addition(self):\n",
        "        self.assertEqual(addition(3, 4), 7)\n",
        "        self.assertEqual(addition(-1, 1), 0)\n",
        "        self.assertEqual(addition(0, 0), 0)\n",
        "\n",
        "    def test_soustraction(self):\n",
        "        self.assertEqual(soustraction(5, 2), 3)\n",
        "        self.assertEqual(soustraction(0, 0), 0)\n",
        "        self.assertEqual(soustraction(-1, -1), 0)\n",
        "\n",
        "    def test_multiplication(self):\n",
        "        self.assertEqual(multiplication(2, 3), 6)\n",
        "        self.assertEqual(multiplication(0, 5), 0)\n",
        "        self.assertEqual(multiplication(-2, -2), 4)\n",
        "\n",
        "    def test_division(self):\n",
        "        self.assertEqual(division(8, 4), 2)\n",
        "        self.assertEqual(division(5, 2), 2.5)\n",
        "        with self.assertRaises(ValueError):\n",
        "            division(10, 0)\n",
        "\n",
        "if __name__ == '__main__':\n",
        "    unittest.main()\n",
        "    \"\"\")"
      ],
      "metadata": {
        "id": "sLD_XlnNOvHU"
      },
      "execution_count": null,
      "outputs": []
    },
    {
      "cell_type": "markdown",
      "metadata": {
        "id": "ibzTFXKnfj_t"
      },
      "source": [
        "Assertion avec Tests unitaires pour vérifier si le code se comporte comme prévu."
      ]
    },
    {
      "cell_type": "code",
      "execution_count": null,
      "metadata": {
        "id": "SA5_1uCKfj_t"
      },
      "outputs": [],
      "source": [
        "# assertion est utilisée comme un test unitaire pour vérifier si la fonction addition fonctionne correctement.\n",
        "def addition(a, b):\n",
        "    return a + b\n",
        "\n",
        "# Test unitaire\n",
        "assert addition(3, 4) == 7, \"Test échoué : addition(3, 4) devrait être égal à 7\"\n",
        "print(\"Test réussi : addition(3, 4) est égal à 7\")\n"
      ]
    },
    {
      "cell_type": "markdown",
      "metadata": {
        "id": "A87qYiSCfj_t"
      },
      "source": [
        "Exécution des Tests\n",
        "Pour exécuter les tests, exécutez le fichier `test_calculatrice.py` :"
      ]
    },
    {
      "cell_type": "code",
      "execution_count": null,
      "metadata": {
        "id": "LYcMEJMYfj_t"
      },
      "outputs": [],
      "source": [
        "!python test_calculatrice.py"
      ]
    },
    {
      "cell_type": "markdown",
      "metadata": {
        "id": "goEjmiBFfj_t"
      },
      "source": [
        "Vous devriez voir une sortie indiquant si les tests ont réussi ou échoué. Si tout est correct, vous verrez quelque chose comme :\n",
        "\n",
        "![image.png](data:image/png;base64,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)\n"
      ]
    },
    {
      "cell_type": "markdown",
      "metadata": {
        "id": "7BN-CZ7xfj_t"
      },
      "source": [
        "Les tests unitaires avec `unittest` sont un moyen efficace de garantir que vos fonctions et classes fonctionnent comme prévu. ✨ Il est fortement recommandé d'écrire des tests unitaires pour chaque composant important de votre code. Cela vous aidera à détecter les erreurs plus tôt et à améliorer la qualité globale de votre logiciel. 🚀"
      ]
    },
    {
      "cell_type": "markdown",
      "metadata": {
        "id": "m-pBZ93Tfj_t"
      },
      "source": [
        "## Exception 🚨"
      ]
    },
    {
      "cell_type": "markdown",
      "metadata": {
        "id": "YHuu8Mtufj_t"
      },
      "source": [
        "Les exceptions en Python sont des événements qui surviennent pendant l'exécution d'un programme et qui interrompent le flux normal des instructions. Elles sont généralement utilisées pour gérer des erreurs ou des situations inattendues, permettant ainsi à votre programme de réagir de manière appropriée aux imprévus. 🚨"
      ]
    },
    {
      "cell_type": "markdown",
      "metadata": {
        "id": "rE7Qnu-dfj_t"
      },
      "source": [
        "Structure d'une Exception\n",
        "\n",
        "Les exceptions sont généralement constituées d'un type d'exception et éventuellement d'un message d'erreur. Voici à quoi cela ressemble :"
      ]
    },
    {
      "cell_type": "code",
      "execution_count": null,
      "metadata": {
        "id": "qsPmgPF_fj_u"
      },
      "outputs": [],
      "source": [
        "try:\n",
        "    # Bloc de code où une exception pourrait se produire\n",
        "    # ...\n",
        "    raise ValueError(\"Ceci est un message d'erreur\")\n",
        "except ValueError as e:\n",
        "    # Gestion de l'exception\n",
        "    print(f\"Une exception de type {type(e).__name__} s'est produite : {e}\")\n",
        "finally:\n",
        "    # Bloc exécuté qu'il y ait eu ou non une exception\n",
        "    print(\"Le bloc finally est toujours exécuté\")"
      ]
    },
    {
      "cell_type": "markdown",
      "metadata": {
        "id": "J7u9ENj0fj_u"
      },
      "source": [
        "🔍 **Types Courants d'Exceptions**\n",
        "\n",
        "Voici quelques-unes des erreurs les plus fréquentes que vous pourriez rencontrer en Python :\n",
        "\n",
        "`ValueError` : Une valeur n'est pas correcte pour l'opération demandée. 🚫📊\n",
        "\n",
        "`TypeError` : Le type de donnée utilisé n'est pas compatible avec l'opération. ⚠️📐\n",
        "\n",
        "`ZeroDivisionError` : Oups, tentative de division par zéro ! ➗❌\n",
        "\n",
        "`FileNotFoundError` : Impossible de trouver le fichier demandé. 📂❓\n",
        "\n",
        "`IndexError` : Vous essayez d'accéder à un élément en dehors des limites de la liste ou du tableau. 📋🚫"
      ]
    },
    {
      "cell_type": "markdown",
      "metadata": {
        "id": "p8tpB_WLfj_u"
      },
      "source": [
        "**Utilisation du Bloc `try...except`**\n",
        "\n",
        "Le bloc `try...except` est utilisé pour capturer et gérer les exceptions afin d'éviter que votre programme ne plante en cas d'erreur. Il permet d'exécuter du code dans la section `try`, et en cas d'exception, de passer dans la section except pour gérer l'erreur de manière appropriée.\n"
      ]
    },
    {
      "cell_type": "code",
      "execution_count": null,
      "metadata": {
        "id": "n3xByp1bfj_u"
      },
      "outputs": [],
      "source": [
        "# Exemple 1\n",
        "try:\n",
        "    nombre = int(input(\"Entrez un nombre : \"))\n",
        "    resultat = 10 / nombre\n",
        "    print(\"Le résultat est :\", resultat)\n",
        "except ValueError:\n",
        "    print(\"Erreur : Vous devez entrer un nombre entier.\")\n",
        "except ZeroDivisionError:\n",
        "    print(\"Erreur : Division par zéro.\")\n",
        "finally:\n",
        "    print(\"Ce bloc est toujours exécuté, qu'il y ait eu une exception ou non.\")\n"
      ]
    },
    {
      "cell_type": "markdown",
      "metadata": {
        "id": "0LmyRZy9fj_u"
      },
      "source": [
        "**Utilisation du Bloc `try...except...else`**\n",
        "\n",
        "Le bloc `try...except...else` fonctionne de manière similaire à `try...except`, mais avec une subtilité : le code dans la section `else` s'exécute uniquement si aucune exception n'a été levée dans le bloc `try`. Cela permet de séparer clairement la gestion des erreurs et le code qui doit s'exécuter en cas de succès."
      ]
    },
    {
      "cell_type": "code",
      "execution_count": null,
      "metadata": {
        "id": "oxGRJM70fj_u"
      },
      "outputs": [],
      "source": [
        "# Exemple 2\n",
        "try:\n",
        "    fichier = open(\"exemple.txt\", \"r\")\n",
        "except FileNotFoundError:\n",
        "    print(\"Erreur : Le fichier n'a pas été trouvé.\")\n",
        "else:\n",
        "    contenu = fichier.read()\n",
        "    print(\"Contenu du fichier :\", contenu)\n",
        "    fichier.close()\n"
      ]
    },
    {
      "cell_type": "markdown",
      "metadata": {
        "id": "zAwwHShofj_u"
      },
      "source": [
        "Utilisation du Bloc `try...except...else...finally`\n",
        "Le bloc `try...except...else...finally` ajoute une dernière étape : la section `finally` s'exécute toujours, que ce soit après une exception ou non. C'est idéal pour nettoyer des ressources ou exécuter du code qui doit absolument être exécuté, comme fermer des fichiers ou des connexions, peu importe l'issue de l'opération."
      ]
    },
    {
      "cell_type": "code",
      "execution_count": null,
      "metadata": {
        "id": "qkm_Z4YWfj_u"
      },
      "outputs": [],
      "source": [
        "# Exemple 3\n",
        "try:\n",
        "    fichier = open(\"exemple.txt\", \"r\")\n",
        "except FileNotFoundError:\n",
        "    print(\"Erreur : Le fichier n'a pas été trouvé.\")\n",
        "else:\n",
        "    contenu = fichier.read()\n",
        "    print(\"Contenu du fichier :\", contenu)\n",
        "    fichier.close()\n",
        "finally:\n",
        "    print(\"Ce bloc est toujours exécuté, qu'il y ait eu une exception ou non.\")\n"
      ]
    },
    {
      "cell_type": "markdown",
      "metadata": {
        "id": "4e0isVvnfj_u"
      },
      "source": [
        "**Utilisation de la Clause `raise` pour Lever une Exception** 🚨\n",
        "\n",
        "La clause `raise` est utilisée pour lever une exception manuellement dans votre code. 🛑 Cela peut être utile lorsque vous souhaitez signaler qu'une condition particulière n'est pas remplie ou que quelque chose ne va pas. Vous pouvez lever des exceptions Python standard ou créer vos propres exceptions personnalisées pour mieux gérer les situations spécifiques de votre programme."
      ]
    },
    {
      "cell_type": "code",
      "execution_count": null,
      "metadata": {
        "id": "1yV_HaHcfj_u"
      },
      "outputs": [],
      "source": [
        "# Exemple 4\n",
        "def diviser(a, b):\n",
        "    if b == 0:\n",
        "        raise ValueError(\"Erreur : Division par zéro.\")\n",
        "    return a / b\n",
        "\n",
        "try:\n",
        "    resultat = diviser(10, 0)\n",
        "except ValueError as e:\n",
        "    print(f\"Une exception de type {type(e).__name__} s'est produite : {e}\")"
      ]
    },
    {
      "cell_type": "markdown",
      "metadata": {
        "id": "4mze5IQvfj_u"
      },
      "source": [
        "Les exceptions en Python offrent un moyen élégant de gérer les erreurs et les situations inattendues. 🚦 Bien utilisées, elles rendent votre code plus robuste et facilitent la détection ainsi que la gestion des erreurs, vous permettant ainsi d'assurer un bon fonctionnement même face aux imprévus."
      ]
    },
    {
      "cell_type": "markdown",
      "metadata": {
        "id": "3rdonewffj_u"
      },
      "source": [
        "## Débogage 🐞"
      ]
    },
    {
      "cell_type": "markdown",
      "metadata": {
        "id": "QiN7yG_Kfj_u"
      },
      "source": [
        "Le débogage est une étape clé dans le développement logiciel, c'est là que vous chassez les petits bugs qui se cachent dans votre code ! 🔍 En Python, vous avez à votre disposition des outils puissants comme le module intégré `pdb` pour comprendre ce qui se passe exactement lors de l'exécution de votre programme."
      ]
    },
    {
      "cell_type": "markdown",
      "metadata": {
        "id": "UJ2zK8z3fj_u"
      },
      "source": [
        "🛠️ **Utilisation du Module pdb**\n",
        "\n",
        "Le module pdb est un super outil de débogage qui vous permet de mettre votre programme en pause à un moment précis et d'inspecter ce qui se passe. 🕵️‍♂️ Vous pouvez explorer l'état de vos variables, tester des commandes en direct et avancer pas à pas dans le programme pour trouver l'origine du problème."
      ]
    },
    {
      "cell_type": "markdown",
      "metadata": {
        "id": "MBDRGyxhfj_u"
      },
      "source": [
        "### Activation du Débogueur 🐛\n"
      ]
    },
    {
      "cell_type": "markdown",
      "source": [
        "Le débogueur sera activé à la ligne où se trouve `pdb.set_trace()`. Vous pourrez alors utiliser différentes commandes comme :\n",
        "\n",
        "- `n` (next) : pour passer à la ligne suivante\n",
        "- `c` (continue) : pour continuer l'exécution jusqu'au prochain point d'arrêt    \n",
        "- `p` (print) : pour afficher la valeur des variables"
      ],
      "metadata": {
        "id": "qg1xGI4wYZeQ"
      }
    },
    {
      "cell_type": "code",
      "execution_count": null,
      "metadata": {
        "id": "8qZ42hWtfj_u"
      },
      "outputs": [],
      "source": [
        "import pdb\n",
        "\n",
        "def exemple():\n",
        "    x = 10\n",
        "    y = 5\n",
        "    z = x + y\n",
        "    pdb.set_trace()  # Activation du débogueur\n",
        "    print(\"Le résultat est :\", z)\n",
        "\n",
        "exemple()"
      ]
    },
    {
      "cell_type": "markdown",
      "metadata": {
        "id": "DW0X6M5Bfj_u"
      },
      "source": [
        "### Exécution avec le Mode Interactif"
      ]
    },
    {
      "cell_type": "markdown",
      "metadata": {
        "id": "i2txwdpDfj_u"
      },
      "source": [
        "Lorsque le débogueur est activé, vous entrez dans un mode interactif où vous pouvez exécuter des commandes. Par exemple :\n",
        "\n",
        "- `n` : Exécuter la ligne suivante.\n",
        "- `c` : Continuer l'exécution jusqu'à la fin ou jusqu'à la prochaine pause.\n",
        "- `p` variable : Afficher la valeur d'une variable.\n",
        "- `q` : Quitter le débogueur.\n",
        "\n",
        "Utilisation de `breakpoint` (Python 3.7+)"
      ]
    },
    {
      "cell_type": "markdown",
      "metadata": {
        "id": "NEydVQ_2fj_u"
      },
      "source": [
        "\n",
        "À partir de Python 3.7, vous pouvez utiliser la fonction breakpoint() pour activer le débogueur de manière plus concise."
      ]
    },
    {
      "cell_type": "code",
      "execution_count": null,
      "metadata": {
        "id": "9w2pSflUfj_v"
      },
      "outputs": [],
      "source": [
        "# Le code s'arrêtera automatiquement à l'endroit où breakpoint() est appelé.\n",
        "def exemple():\n",
        "    x = 10\n",
        "    y = 5\n",
        "    z = x + y\n",
        "    breakpoint()  # Activation du débogueur\n",
        "    print(\"Le résultat est :\", z)\n",
        "\n",
        "exemple()"
      ]
    },
    {
      "cell_type": "markdown",
      "metadata": {
        "id": "X3I_rsGTfj_v"
      },
      "source": [
        "**Utilisation d'un Environnement de Développement Intégré (IDE)**\n",
        "\n",
        "La plupart des environnements de développement intégrés (IDE) offrent des outils de débogage visuels très pratiques. Par exemple, dans Visual Studio Code, vous pouvez définir des points d'arrêt, suivre l'exécution pas à pas, inspecter les variables en direct et profiter d'autres fonctionnalités avancées de débogage. 🖥️🔍"
      ]
    },
    {
      "cell_type": "markdown",
      "metadata": {
        "id": "-XgL7Vdjfj_v"
      },
      "source": [
        "Le débogage en Python est une compétence indispensable pour identifier et résoudre les erreurs dans votre code. Que vous utilisiez le module `pdb` en mode console ou les outils visuels d'un IDE, le débogage vous aide à comprendre le comportement de votre programme et à corriger les problèmes efficacement. 🛠️🐞"
      ]
    }
  ],
  "metadata": {
    "colab": {
      "provenance": [],
      "toc_visible": true,
      "include_colab_link": true
    },
    "kernelspec": {
      "display_name": "JupyterBook",
      "language": "python",
      "name": "python3"
    },
    "language_info": {
      "name": "python",
      "version": "3.12.0"
    }
  },
  "nbformat": 4,
  "nbformat_minor": 0
}
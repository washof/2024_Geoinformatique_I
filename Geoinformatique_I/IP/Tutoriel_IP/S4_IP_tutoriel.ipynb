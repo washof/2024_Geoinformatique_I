{
  "cells": [
    {
      "cell_type": "markdown",
      "metadata": {
        "id": "view-in-github",
        "colab_type": "text"
      },
      "source": [
        "<a href=\"https://colab.research.google.com/github/washof/2024_Geoinformatique_I/blob/main/Geoinformatique_I/IP/Tutoriel_IP/S4_IP_tutoriel.ipynb\" target=\"_parent\"><img src=\"https://colab.research.google.com/assets/colab-badge.svg\" alt=\"Open In Colab\"/></a>"
      ]
    },
    {
      "cell_type": "markdown",
      "metadata": {
        "id": "U9iSY_A-dBBl"
      },
      "source": [
        "# Tutoriel 4: Fonction et calcul scientifique\n",
        "\n",
        "Dans cette section, nous aborderons les points suivants:\n",
        "\n",
        "1. Fonction\n",
        "2. Calcul scientifique avec `NumPy`\n",
        "3. Base de visualisation avec `Matplotlib`\n"
      ]
    },
    {
      "cell_type": "markdown",
      "metadata": {
        "id": "uwN_pl3FdBBm"
      },
      "source": [
        "## Fonction\n",
        "\n",
        "Pour les tâches plus longues et plus complexes, il est important d'organiser votre code en éléments réutilisables. Par exemple, si vous vous retrouvez à couper et coller les mêmes lignes de code ou des lignes similaires à plusieurs reprises, vous devez probablement définir une *fonction* pour encapsuler ce code et le rendre réutilisable. Un principe important de la programmation en **DRY** : \"ne vous répétez pas\". La répétition est fastidieuse et vous expose à des erreurs. Recherchez l'élégance et la simplicité dans vos programmes.\n",
        "\n",
        "Référence :\n",
        "* IBM Congnitive Class - Intro to Python (https://github.com/computationalcore/introduction-to-python)\n",
        "* CUSP UCSL bootcamp 2017 (https://github.com/Mohitsharma44/ucsl17)\n",
        "* Introduction to Python (Ryan Abernathy; https://rabernat.github.io/research_computing/intro-to-python.html)"
      ]
    },
    {
      "cell_type": "markdown",
      "metadata": {
        "id": "SQdhVHeYdBBn"
      },
      "source": [
        "Les fonctions sont un élément central de la programmation avancée en Python. Les fonctions prennent des entrées (\"arguments\") et font quelque chose en réponse. En général, les fonctions renvoient quelque chose, mais pas toujours."
      ]
    },
    {
      "cell_type": "code",
      "execution_count": 1,
      "metadata": {
        "id": "dkT7nDhsdBBn"
      },
      "outputs": [],
      "source": [
        "#@title **Define a Function**\n",
        "def say_hello():\n",
        "    \"\"\"Return the word hello.\"\"\"\n",
        "    return 'Hello'\n",
        "\n",
        "def say_hello_to(name=None):\n",
        "  \"\"\"\n",
        "  Return the word hello to someone\n",
        "  \"\"\"\n",
        "  return 'Hello, '+str(name)\n",
        "\n",
        "# take an optional keyword argument\n",
        "def say_hello_or_hola(name, french=False):\n",
        "    \"\"\"Say hello in multiple languages.\"\"\"\n",
        "    if french:\n",
        "        greeting = 'Bonjour '\n",
        "    else:\n",
        "        greeting = 'Hello '\n",
        "    return greeting + name\n",
        "\n",
        "# flexible number of arguments\n",
        "def say_hello_to_everyone(*args):\n",
        "    return ['Bonjour ' + str(a) for a in args]"
      ]
    },
    {
      "cell_type": "code",
      "execution_count": 2,
      "metadata": {
        "id": "-0oYBiTadBBo",
        "colab": {
          "base_uri": "https://localhost:8080/"
        },
        "outputId": "8e655a3f-c3f0-4bb5-e8f9-5de338e2fbdc"
      },
      "outputs": [
        {
          "output_type": "stream",
          "name": "stdout",
          "text": [
            "Hello\n",
            "Hello\n"
          ]
        }
      ],
      "source": [
        "print(say_hello())\n",
        "res = say_hello()\n",
        "print(res)"
      ]
    },
    {
      "cell_type": "code",
      "execution_count": 3,
      "metadata": {
        "id": "QvHrVsMZdBBp",
        "colab": {
          "base_uri": "https://localhost:8080/"
        },
        "outputId": "3719d573-225f-4d7d-dad7-7de333f1f03e"
      },
      "outputs": [
        {
          "output_type": "stream",
          "name": "stdout",
          "text": [
            "Bonjour Frédéric\n",
            "Hello Frédéric\n",
            "['Bonjour Niklas', 'Bonjour Valérie', 'Bonjour Marie-Élodie']\n"
          ]
        }
      ],
      "source": [
        "print(say_hello_or_hola('Frédéric', french=True)) # Saluer le recteur\n",
        "print(say_hello_or_hola('Frédéric', french=False))\n",
        "print(say_hello_to_everyone('Niklas', 'Valérie', 'Marie-Élodie')) # Saluer les doyens"
      ]
    },
    {
      "cell_type": "code",
      "execution_count": 5,
      "metadata": {
        "id": "UlvEVTfbdBBp",
        "colab": {
          "base_uri": "https://localhost:8080/"
        },
        "outputId": "df9c4dbe-5c1f-4d90-d972-63d68e64f38b"
      },
      "outputs": [
        {
          "output_type": "stream",
          "name": "stdout",
          "text": [
            "20\n",
            "15\n"
          ]
        }
      ],
      "source": [
        "#@title **Fonction anonyme**\n",
        "mul = lambda a, b: a*b\n",
        "print(mul(4,5))\n",
        "\n",
        "x = lambda a : a + 10\n",
        "print(x(5))"
      ]
    },
    {
      "cell_type": "code",
      "execution_count": 6,
      "metadata": {
        "id": "1MqydVhvdBBp",
        "colab": {
          "base_uri": "https://localhost:8080/"
        },
        "outputId": "9b65d053-b41f-4d6c-94ee-7895d27dd08f"
      },
      "outputs": [
        {
          "output_type": "execute_result",
          "data": {
            "text/plain": [
              "[1, 4, 9, 16, 25, 36, 49, 64, 81]"
            ]
          },
          "metadata": {},
          "execution_count": 6
        }
      ],
      "source": [
        "#@title **Fonction map**\n",
        "# syntaxe : map(function,iterator)\n",
        "numbers = range(1, 10)\n",
        "def square(num):\n",
        "    return num**2\n",
        "list(map(square, numbers))\n",
        "# L'équivalent de cette fonction est :\n",
        "# result = []\n",
        "# for i in range(1, 10) :\n",
        "# result.append(i**2)"
      ]
    },
    {
      "cell_type": "code",
      "execution_count": 7,
      "metadata": {
        "id": "I3zQGkg5dBBq",
        "colab": {
          "base_uri": "https://localhost:8080/"
        },
        "outputId": "40cffbea-7207-4a92-b8c1-65c850d33046"
      },
      "outputs": [
        {
          "output_type": "execute_result",
          "data": {
            "text/plain": [
              "[1, 4, 9, 16, 25, 36, 49, 64, 81]"
            ]
          },
          "metadata": {},
          "execution_count": 7
        }
      ],
      "source": [
        "# On peut aussi l'écrire en une seule ligne !\n",
        "list(map(lambda x : x**2, range(1, 10)))"
      ]
    },
    {
      "cell_type": "markdown",
      "metadata": {
        "id": "250OcyHJdBBq"
      },
      "source": [
        "### Fonctions pures et fonctions impures\n",
        "Les fonctions qui ne modifient pas leurs arguments ou ne produisent pas d'autres effets secondaires sont appelées *pures*.\n",
        "\n",
        "Les fonctions qui modifient leurs arguments ou provoquent d'autres actions sont appelées *pures*."
      ]
    },
    {
      "cell_type": "code",
      "execution_count": 8,
      "metadata": {
        "id": "T2zsueYydBBq",
        "colab": {
          "base_uri": "https://localhost:8080/"
        },
        "outputId": "1c1cb994-bd2f-4390-fd8f-36966759a28d"
      },
      "outputs": [
        {
          "output_type": "stream",
          "name": "stdout",
          "text": [
            "['Niklas', 'Valérie']\n",
            "['Niklas']\n"
          ]
        }
      ],
      "source": [
        "# Fonctions impures\n",
        "def remove_last_from_list(input_list) :\n",
        "    input_list.pop()\n",
        "names = ['Niklas', 'Valérie', 'Marie-Élodie']\n",
        "remove_last_from_list(names)\n",
        "print(names)\n",
        "remove_last_from_list(names)\n",
        "print(names)"
      ]
    },
    {
      "cell_type": "code",
      "execution_count": 9,
      "metadata": {
        "id": "Q4BE6TStdBBr",
        "colab": {
          "base_uri": "https://localhost:8080/"
        },
        "outputId": "89aae018-029e-419b-a539-7745931eb354"
      },
      "outputs": [
        {
          "output_type": "stream",
          "name": "stdout",
          "text": [
            "['Niklas', 'Valérie']\n",
            "['Niklas']\n"
          ]
        }
      ],
      "source": [
        "# Fonctions impures\n",
        "def remove_last_from_list(input_list) :\n",
        "    input_list.pop()\n",
        "names = ['Niklas', 'Valérie', 'Marie-Élodie']\n",
        "remove_last_from_list(names)\n",
        "print(names)\n",
        "remove_last_from_list(names)\n",
        "print(names)"
      ]
    },
    {
      "cell_type": "markdown",
      "metadata": {
        "id": "Ld57JeBvdBBr"
      },
      "source": [
        "### Espace de noms\n",
        "En Python, un espace de noms est une correspondance entre les noms de variables et les objets Python. On peut l'assimiler à un dictionnaire.\n",
        "L'espace de noms peut changer en fonction de l'endroit où vous vous trouvez dans votre programme. Les fonctions peuvent \"voir\" les variables dans l'espace de noms parent, mais elles peuvent également les redéfinir dans une portée privée.\n",
        "\n",
        "Il est important que vous soyez conscient des espaces de noms dans votre code, en particulier lorsque vous traitez avec des objets mutables."
      ]
    },
    {
      "cell_type": "code",
      "execution_count": 10,
      "metadata": {
        "id": "W88CAgIKdBBr",
        "colab": {
          "base_uri": "https://localhost:8080/"
        },
        "outputId": "5a90f646-3c07-4563-a901-75be55ed3011"
      },
      "outputs": [
        {
          "output_type": "stream",
          "name": "stdout",
          "text": [
            "Tom\n",
            "Estelle\n",
            "Tom\n"
          ]
        }
      ],
      "source": [
        "name = 'Tom' # Entrez votre nom ici\n",
        "def print_name():\n",
        "    print(name)\n",
        "\n",
        "def print_name_v2():\n",
        "    name = 'Estelle'\n",
        "    print(name)\n",
        "\n",
        "print_name()\n",
        "print_name_v2()\n",
        "print(name)"
      ]
    },
    {
      "cell_type": "code",
      "execution_count": 11,
      "metadata": {
        "id": "E4VKVl81dBBr"
      },
      "outputs": [],
      "source": [
        "friends_list = ['Mario', 'Florence', 'Richard']\n",
        "pet_tuple = ('Hedwig', 'Na-paw-lyon', 'Cat-hilda')"
      ]
    },
    {
      "cell_type": "code",
      "execution_count": 12,
      "metadata": {
        "id": "ZMFh3o1adBBs"
      },
      "outputs": [],
      "source": [
        "def greeter(friends, pets):\n",
        "    print(\"It's time to say hi to my friends.\")\n",
        "    [print(f'Hi {name}! ', end=\"\") for name in friends]\n",
        "    print('\\nThese are the names of my pets:')\n",
        "    [print(f'{pet} ', end=\"\") for pet in pets]\n",
        "    print('\\n')\n",
        "\n",
        "def pets_are_friends(friends, pets):\n",
        "    print(\"I consider both my pets and my friend's pets my friends!\")\n",
        "\n",
        "    #add friend's pets\n",
        "    full_pets = pets\n",
        "    full_pets += ('Clifford', 'Crookshanks')\n",
        "\n",
        "    full_friends_list = friends\n",
        "    full_friends_list.extend(full_pets)\n",
        "\n",
        "    print('These are all my friends:')\n",
        "    [print(f'{name} ', end=\"\") for name in full_friends_list]\n",
        "    print('\\n')"
      ]
    },
    {
      "cell_type": "code",
      "execution_count": 13,
      "metadata": {
        "id": "E10QaYfRdBBs",
        "colab": {
          "base_uri": "https://localhost:8080/"
        },
        "outputId": "cfe3d15f-5341-4196-c49e-e950d7ff2f32"
      },
      "outputs": [
        {
          "output_type": "stream",
          "name": "stdout",
          "text": [
            "It's time to say hi to my friends.\n",
            "Hi Mario! Hi Florence! Hi Richard! \n",
            "These are the names of my pets:\n",
            "Hedwig Na-paw-lyon Cat-hilda \n",
            "\n",
            "I consider both my pets and my friend's pets my friends!\n",
            "These are all my friends:\n",
            "Mario Florence Richard Hedwig Na-paw-lyon Cat-hilda Clifford Crookshanks \n",
            "\n",
            "It's time to say hi to my friends.\n",
            "Hi Mario! Hi Florence! Hi Richard! Hi Hedwig! Hi Na-paw-lyon! Hi Cat-hilda! Hi Clifford! Hi Crookshanks! \n",
            "These are the names of my pets:\n",
            "Hedwig Na-paw-lyon Cat-hilda \n",
            "\n"
          ]
        }
      ],
      "source": [
        "greeter(friends_list, pet_tuple)\n",
        "pets_are_friends(friends_list, pet_tuple)\n",
        "greeter(friends_list, pet_tuple)"
      ]
    },
    {
      "cell_type": "markdown",
      "metadata": {
        "id": "YZf3an4udBBs"
      },
      "source": [
        "## Calcul scientifique avec `NumPy`"
      ]
    },
    {
      "cell_type": "markdown",
      "metadata": {
        "id": "0olq4HBIdBBs"
      },
      "source": [
        "![1280px-NumPy_logo_2020.svg.png](data:image/png;base64,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)"
      ]
    },
    {
      "cell_type": "markdown",
      "metadata": {
        "id": "ejOPMJuHdBBu"
      },
      "source": [
        "**Numpy** est le paquetage fondamental pour le calcul scientifique avec Python\n",
        "\n",
        "Site web : https://numpy.org/\n",
        "\n",
        "GitHub : https://github.com/numpy/numpy"
      ]
    },
    {
      "cell_type": "markdown",
      "metadata": {
        "id": "HRA0BXGWdBBu"
      },
      "source": [
        "### Importation et examen d'un nouveau package"
      ]
    },
    {
      "cell_type": "markdown",
      "metadata": {
        "id": "xGgvrNbqdBBu"
      },
      "source": [
        "Il s'agit de notre première expérience d'importation d'un paquetage qui ne fait pas partie de la bibliothèque standard de Python."
      ]
    },
    {
      "cell_type": "code",
      "execution_count": 14,
      "metadata": {
        "id": "i-8h_x9VdBBu"
      },
      "outputs": [],
      "source": [
        "import numpy as np"
      ]
    },
    {
      "cell_type": "markdown",
      "metadata": {
        "id": "vrMSHE8ddBBv"
      },
      "source": [
        "Qu'est-ce que nous venons de faire ? Nous avons *importé* un paquetage. Cela apporte de nouvelles variables (principalement des fonctions) dans notre interpréteur. Nous y accédons de la manière suivante."
      ]
    },
    {
      "cell_type": "code",
      "execution_count": 15,
      "metadata": {
        "id": "ebrFFslMdBBv",
        "colab": {
          "base_uri": "https://localhost:8080/"
        },
        "outputId": "cf576a35-23df-4a7e-a083-e297101b38f9"
      },
      "outputs": [
        {
          "output_type": "execute_result",
          "data": {
            "text/plain": [
              "['In',\n",
              " 'Out',\n",
              " '_',\n",
              " '_6',\n",
              " '_7',\n",
              " '__',\n",
              " '___',\n",
              " '__builtin__',\n",
              " '__builtins__',\n",
              " '__doc__',\n",
              " '__loader__',\n",
              " '__name__',\n",
              " '__package__',\n",
              " '__spec__',\n",
              " '_dh',\n",
              " '_i',\n",
              " '_i1',\n",
              " '_i10',\n",
              " '_i11',\n",
              " '_i12',\n",
              " '_i13',\n",
              " '_i14',\n",
              " '_i15',\n",
              " '_i2',\n",
              " '_i3',\n",
              " '_i4',\n",
              " '_i5',\n",
              " '_i6',\n",
              " '_i7',\n",
              " '_i8',\n",
              " '_i9',\n",
              " '_ih',\n",
              " '_ii',\n",
              " '_iii',\n",
              " '_oh',\n",
              " 'exit',\n",
              " 'friends_list',\n",
              " 'get_ipython',\n",
              " 'greeter',\n",
              " 'mul',\n",
              " 'name',\n",
              " 'names',\n",
              " 'np',\n",
              " 'numbers',\n",
              " 'pet_tuple',\n",
              " 'pets_are_friends',\n",
              " 'print_name',\n",
              " 'print_name_v2',\n",
              " 'quit',\n",
              " 'remove_last_from_list',\n",
              " 'res',\n",
              " 'say_hello',\n",
              " 'say_hello_or_hola',\n",
              " 'say_hello_to',\n",
              " 'say_hello_to_everyone',\n",
              " 'square',\n",
              " 'x']"
            ]
          },
          "metadata": {},
          "execution_count": 15
        }
      ],
      "source": [
        "# trouver ce qui se trouve dans notre espace de noms\n",
        "dir()"
      ]
    },
    {
      "cell_type": "code",
      "execution_count": 16,
      "metadata": {
        "id": "wYqXeveidBBv",
        "colab": {
          "base_uri": "https://localhost:8080/"
        },
        "outputId": "5f38f8db-cd8e-4dd6-c449-5ac7e057b751"
      },
      "outputs": [
        {
          "output_type": "execute_result",
          "data": {
            "text/plain": [
              "['ALLOW_THREADS',\n",
              " 'BUFSIZE',\n",
              " 'CLIP',\n",
              " 'DataSource',\n",
              " 'ERR_CALL',\n",
              " 'ERR_DEFAULT',\n",
              " 'ERR_IGNORE',\n",
              " 'ERR_LOG',\n",
              " 'ERR_PRINT',\n",
              " 'ERR_RAISE',\n",
              " 'ERR_WARN',\n",
              " 'FLOATING_POINT_SUPPORT',\n",
              " 'FPE_DIVIDEBYZERO',\n",
              " 'FPE_INVALID',\n",
              " 'FPE_OVERFLOW',\n",
              " 'FPE_UNDERFLOW',\n",
              " 'False_',\n",
              " 'Inf',\n",
              " 'Infinity',\n",
              " 'MAXDIMS',\n",
              " 'MAY_SHARE_BOUNDS',\n",
              " 'MAY_SHARE_EXACT',\n",
              " 'NAN',\n",
              " 'NINF',\n",
              " 'NZERO',\n",
              " 'NaN',\n",
              " 'PINF',\n",
              " 'PZERO',\n",
              " 'RAISE',\n",
              " 'RankWarning',\n",
              " 'SHIFT_DIVIDEBYZERO',\n",
              " 'SHIFT_INVALID',\n",
              " 'SHIFT_OVERFLOW',\n",
              " 'SHIFT_UNDERFLOW',\n",
              " 'ScalarType',\n",
              " 'True_',\n",
              " 'UFUNC_BUFSIZE_DEFAULT',\n",
              " 'UFUNC_PYVALS_NAME',\n",
              " 'WRAP',\n",
              " '_CopyMode',\n",
              " '_NoValue',\n",
              " '_UFUNC_API',\n",
              " '__NUMPY_SETUP__',\n",
              " '__all__',\n",
              " '__builtins__',\n",
              " '__cached__',\n",
              " '__config__',\n",
              " '__deprecated_attrs__',\n",
              " '__dir__',\n",
              " '__doc__',\n",
              " '__expired_functions__',\n",
              " '__file__',\n",
              " '__former_attrs__',\n",
              " '__future_scalars__',\n",
              " '__getattr__',\n",
              " '__loader__',\n",
              " '__name__',\n",
              " '__package__',\n",
              " '__path__',\n",
              " '__spec__',\n",
              " '__version__',\n",
              " '_add_newdoc_ufunc',\n",
              " '_builtins',\n",
              " '_distributor_init',\n",
              " '_financial_names',\n",
              " '_get_promotion_state',\n",
              " '_globals',\n",
              " '_int_extended_msg',\n",
              " '_mat',\n",
              " '_no_nep50_warning',\n",
              " '_pyinstaller_hooks_dir',\n",
              " '_pytesttester',\n",
              " '_set_promotion_state',\n",
              " '_specific_msg',\n",
              " '_typing',\n",
              " '_using_numpy2_behavior',\n",
              " '_utils',\n",
              " 'abs',\n",
              " 'absolute',\n",
              " 'add',\n",
              " 'add_docstring',\n",
              " 'add_newdoc',\n",
              " 'add_newdoc_ufunc',\n",
              " 'all',\n",
              " 'allclose',\n",
              " 'alltrue',\n",
              " 'amax',\n",
              " 'amin',\n",
              " 'angle',\n",
              " 'any',\n",
              " 'append',\n",
              " 'apply_along_axis',\n",
              " 'apply_over_axes',\n",
              " 'arange',\n",
              " 'arccos',\n",
              " 'arccosh',\n",
              " 'arcsin',\n",
              " 'arcsinh',\n",
              " 'arctan',\n",
              " 'arctan2',\n",
              " 'arctanh',\n",
              " 'argmax',\n",
              " 'argmin',\n",
              " 'argpartition',\n",
              " 'argsort',\n",
              " 'argwhere',\n",
              " 'around',\n",
              " 'array',\n",
              " 'array2string',\n",
              " 'array_equal',\n",
              " 'array_equiv',\n",
              " 'array_repr',\n",
              " 'array_split',\n",
              " 'array_str',\n",
              " 'asanyarray',\n",
              " 'asarray',\n",
              " 'asarray_chkfinite',\n",
              " 'ascontiguousarray',\n",
              " 'asfarray',\n",
              " 'asfortranarray',\n",
              " 'asmatrix',\n",
              " 'atleast_1d',\n",
              " 'atleast_2d',\n",
              " 'atleast_3d',\n",
              " 'average',\n",
              " 'bartlett',\n",
              " 'base_repr',\n",
              " 'binary_repr',\n",
              " 'bincount',\n",
              " 'bitwise_and',\n",
              " 'bitwise_not',\n",
              " 'bitwise_or',\n",
              " 'bitwise_xor',\n",
              " 'blackman',\n",
              " 'block',\n",
              " 'bmat',\n",
              " 'bool_',\n",
              " 'broadcast',\n",
              " 'broadcast_arrays',\n",
              " 'broadcast_shapes',\n",
              " 'broadcast_to',\n",
              " 'busday_count',\n",
              " 'busday_offset',\n",
              " 'busdaycalendar',\n",
              " 'byte',\n",
              " 'byte_bounds',\n",
              " 'bytes_',\n",
              " 'c_',\n",
              " 'can_cast',\n",
              " 'cast',\n",
              " 'cbrt',\n",
              " 'cdouble',\n",
              " 'ceil',\n",
              " 'cfloat',\n",
              " 'char',\n",
              " 'character',\n",
              " 'chararray',\n",
              " 'choose',\n",
              " 'clip',\n",
              " 'clongdouble',\n",
              " 'clongfloat',\n",
              " 'column_stack',\n",
              " 'common_type',\n",
              " 'compare_chararrays',\n",
              " 'compat',\n",
              " 'complex128',\n",
              " 'complex256',\n",
              " 'complex64',\n",
              " 'complex_',\n",
              " 'complexfloating',\n",
              " 'compress',\n",
              " 'concatenate',\n",
              " 'conj',\n",
              " 'conjugate',\n",
              " 'convolve',\n",
              " 'copy',\n",
              " 'copysign',\n",
              " 'copyto',\n",
              " 'corrcoef',\n",
              " 'correlate',\n",
              " 'cos',\n",
              " 'cosh',\n",
              " 'count_nonzero',\n",
              " 'cov',\n",
              " 'cross',\n",
              " 'csingle',\n",
              " 'ctypeslib',\n",
              " 'cumprod',\n",
              " 'cumproduct',\n",
              " 'cumsum',\n",
              " 'datetime64',\n",
              " 'datetime_as_string',\n",
              " 'datetime_data',\n",
              " 'deg2rad',\n",
              " 'degrees',\n",
              " 'delete',\n",
              " 'deprecate',\n",
              " 'deprecate_with_doc',\n",
              " 'diag',\n",
              " 'diag_indices',\n",
              " 'diag_indices_from',\n",
              " 'diagflat',\n",
              " 'diagonal',\n",
              " 'diff',\n",
              " 'digitize',\n",
              " 'disp',\n",
              " 'divide',\n",
              " 'divmod',\n",
              " 'dot',\n",
              " 'double',\n",
              " 'dsplit',\n",
              " 'dstack',\n",
              " 'dtype',\n",
              " 'dtypes',\n",
              " 'e',\n",
              " 'ediff1d',\n",
              " 'einsum',\n",
              " 'einsum_path',\n",
              " 'emath',\n",
              " 'empty',\n",
              " 'empty_like',\n",
              " 'equal',\n",
              " 'errstate',\n",
              " 'euler_gamma',\n",
              " 'exceptions',\n",
              " 'exp',\n",
              " 'exp2',\n",
              " 'expand_dims',\n",
              " 'expm1',\n",
              " 'extract',\n",
              " 'eye',\n",
              " 'fabs',\n",
              " 'fastCopyAndTranspose',\n",
              " 'fft',\n",
              " 'fill_diagonal',\n",
              " 'find_common_type',\n",
              " 'finfo',\n",
              " 'fix',\n",
              " 'flatiter',\n",
              " 'flatnonzero',\n",
              " 'flexible',\n",
              " 'flip',\n",
              " 'fliplr',\n",
              " 'flipud',\n",
              " 'float128',\n",
              " 'float16',\n",
              " 'float32',\n",
              " 'float64',\n",
              " 'float_',\n",
              " 'float_power',\n",
              " 'floating',\n",
              " 'floor',\n",
              " 'floor_divide',\n",
              " 'fmax',\n",
              " 'fmin',\n",
              " 'fmod',\n",
              " 'format_float_positional',\n",
              " 'format_float_scientific',\n",
              " 'format_parser',\n",
              " 'frexp',\n",
              " 'from_dlpack',\n",
              " 'frombuffer',\n",
              " 'fromfile',\n",
              " 'fromfunction',\n",
              " 'fromiter',\n",
              " 'frompyfunc',\n",
              " 'fromregex',\n",
              " 'fromstring',\n",
              " 'full',\n",
              " 'full_like',\n",
              " 'gcd',\n",
              " 'generic',\n",
              " 'genfromtxt',\n",
              " 'geomspace',\n",
              " 'get_array_wrap',\n",
              " 'get_include',\n",
              " 'get_printoptions',\n",
              " 'getbufsize',\n",
              " 'geterr',\n",
              " 'geterrcall',\n",
              " 'geterrobj',\n",
              " 'gradient',\n",
              " 'greater',\n",
              " 'greater_equal',\n",
              " 'half',\n",
              " 'hamming',\n",
              " 'hanning',\n",
              " 'heaviside',\n",
              " 'histogram',\n",
              " 'histogram2d',\n",
              " 'histogram_bin_edges',\n",
              " 'histogramdd',\n",
              " 'hsplit',\n",
              " 'hstack',\n",
              " 'hypot',\n",
              " 'i0',\n",
              " 'identity',\n",
              " 'iinfo',\n",
              " 'imag',\n",
              " 'in1d',\n",
              " 'index_exp',\n",
              " 'indices',\n",
              " 'inexact',\n",
              " 'inf',\n",
              " 'info',\n",
              " 'infty',\n",
              " 'inner',\n",
              " 'insert',\n",
              " 'int16',\n",
              " 'int32',\n",
              " 'int64',\n",
              " 'int8',\n",
              " 'int_',\n",
              " 'intc',\n",
              " 'integer',\n",
              " 'interp',\n",
              " 'intersect1d',\n",
              " 'intp',\n",
              " 'invert',\n",
              " 'is_busday',\n",
              " 'isclose',\n",
              " 'iscomplex',\n",
              " 'iscomplexobj',\n",
              " 'isfinite',\n",
              " 'isfortran',\n",
              " 'isin',\n",
              " 'isinf',\n",
              " 'isnan',\n",
              " 'isnat',\n",
              " 'isneginf',\n",
              " 'isposinf',\n",
              " 'isreal',\n",
              " 'isrealobj',\n",
              " 'isscalar',\n",
              " 'issctype',\n",
              " 'issubclass_',\n",
              " 'issubdtype',\n",
              " 'issubsctype',\n",
              " 'iterable',\n",
              " 'ix_',\n",
              " 'kaiser',\n",
              " 'kernel_version',\n",
              " 'kron',\n",
              " 'lcm',\n",
              " 'ldexp',\n",
              " 'left_shift',\n",
              " 'less',\n",
              " 'less_equal',\n",
              " 'lexsort',\n",
              " 'lib',\n",
              " 'linalg',\n",
              " 'linspace',\n",
              " 'little_endian',\n",
              " 'load',\n",
              " 'loadtxt',\n",
              " 'log',\n",
              " 'log10',\n",
              " 'log1p',\n",
              " 'log2',\n",
              " 'logaddexp',\n",
              " 'logaddexp2',\n",
              " 'logical_and',\n",
              " 'logical_not',\n",
              " 'logical_or',\n",
              " 'logical_xor',\n",
              " 'logspace',\n",
              " 'longcomplex',\n",
              " 'longdouble',\n",
              " 'longfloat',\n",
              " 'longlong',\n",
              " 'lookfor',\n",
              " 'ma',\n",
              " 'mask_indices',\n",
              " 'mat',\n",
              " 'matmul',\n",
              " 'matrix',\n",
              " 'max',\n",
              " 'maximum',\n",
              " 'maximum_sctype',\n",
              " 'may_share_memory',\n",
              " 'mean',\n",
              " 'median',\n",
              " 'memmap',\n",
              " 'meshgrid',\n",
              " 'mgrid',\n",
              " 'min',\n",
              " 'min_scalar_type',\n",
              " 'minimum',\n",
              " 'mintypecode',\n",
              " 'mod',\n",
              " 'modf',\n",
              " 'moveaxis',\n",
              " 'msort',\n",
              " 'multiply',\n",
              " 'nan',\n",
              " 'nan_to_num',\n",
              " 'nanargmax',\n",
              " 'nanargmin',\n",
              " 'nancumprod',\n",
              " 'nancumsum',\n",
              " 'nanmax',\n",
              " 'nanmean',\n",
              " 'nanmedian',\n",
              " 'nanmin',\n",
              " 'nanpercentile',\n",
              " 'nanprod',\n",
              " 'nanquantile',\n",
              " 'nanstd',\n",
              " 'nansum',\n",
              " 'nanvar',\n",
              " 'nbytes',\n",
              " 'ndarray',\n",
              " 'ndenumerate',\n",
              " 'ndim',\n",
              " 'ndindex',\n",
              " 'nditer',\n",
              " 'negative',\n",
              " 'nested_iters',\n",
              " 'newaxis',\n",
              " 'nextafter',\n",
              " 'nonzero',\n",
              " 'not_equal',\n",
              " 'numarray',\n",
              " 'number',\n",
              " 'obj2sctype',\n",
              " 'object_',\n",
              " 'ogrid',\n",
              " 'oldnumeric',\n",
              " 'ones',\n",
              " 'ones_like',\n",
              " 'outer',\n",
              " 'packbits',\n",
              " 'pad',\n",
              " 'partition',\n",
              " 'percentile',\n",
              " 'pi',\n",
              " 'piecewise',\n",
              " 'place',\n",
              " 'poly',\n",
              " 'poly1d',\n",
              " 'polyadd',\n",
              " 'polyder',\n",
              " 'polydiv',\n",
              " 'polyfit',\n",
              " 'polyint',\n",
              " 'polymul',\n",
              " 'polynomial',\n",
              " 'polysub',\n",
              " 'polyval',\n",
              " 'positive',\n",
              " 'power',\n",
              " 'printoptions',\n",
              " 'prod',\n",
              " 'product',\n",
              " 'promote_types',\n",
              " 'ptp',\n",
              " 'put',\n",
              " 'put_along_axis',\n",
              " 'putmask',\n",
              " 'quantile',\n",
              " 'r_',\n",
              " 'rad2deg',\n",
              " 'radians',\n",
              " 'random',\n",
              " 'ravel',\n",
              " 'ravel_multi_index',\n",
              " 'real',\n",
              " 'real_if_close',\n",
              " 'rec',\n",
              " 'recarray',\n",
              " 'recfromcsv',\n",
              " 'recfromtxt',\n",
              " 'reciprocal',\n",
              " 'record',\n",
              " 'remainder',\n",
              " 'repeat',\n",
              " 'require',\n",
              " 'reshape',\n",
              " 'resize',\n",
              " 'result_type',\n",
              " 'right_shift',\n",
              " 'rint',\n",
              " 'roll',\n",
              " 'rollaxis',\n",
              " 'roots',\n",
              " 'rot90',\n",
              " 'round',\n",
              " 'round_',\n",
              " 'row_stack',\n",
              " 's_',\n",
              " 'safe_eval',\n",
              " 'save',\n",
              " 'savetxt',\n",
              " 'savez',\n",
              " 'savez_compressed',\n",
              " 'sctype2char',\n",
              " 'sctypeDict',\n",
              " 'sctypes',\n",
              " 'searchsorted',\n",
              " 'select',\n",
              " 'set_numeric_ops',\n",
              " 'set_printoptions',\n",
              " 'set_string_function',\n",
              " 'setbufsize',\n",
              " 'setdiff1d',\n",
              " 'seterr',\n",
              " 'seterrcall',\n",
              " 'seterrobj',\n",
              " 'setxor1d',\n",
              " 'shape',\n",
              " 'shares_memory',\n",
              " 'short',\n",
              " 'show_config',\n",
              " 'show_runtime',\n",
              " 'sign',\n",
              " 'signbit',\n",
              " 'signedinteger',\n",
              " 'sin',\n",
              " 'sinc',\n",
              " 'single',\n",
              " 'singlecomplex',\n",
              " 'sinh',\n",
              " 'size',\n",
              " 'sometrue',\n",
              " 'sort',\n",
              " 'sort_complex',\n",
              " 'source',\n",
              " 'spacing',\n",
              " 'split',\n",
              " 'sqrt',\n",
              " 'square',\n",
              " 'squeeze',\n",
              " 'stack',\n",
              " 'std',\n",
              " 'str_',\n",
              " 'string_',\n",
              " 'subtract',\n",
              " 'sum',\n",
              " 'swapaxes',\n",
              " 'take',\n",
              " 'take_along_axis',\n",
              " 'tan',\n",
              " 'tanh',\n",
              " 'tensordot',\n",
              " 'test',\n",
              " 'testing',\n",
              " 'tile',\n",
              " 'timedelta64',\n",
              " 'trace',\n",
              " 'tracemalloc_domain',\n",
              " 'transpose',\n",
              " 'trapz',\n",
              " 'tri',\n",
              " 'tril',\n",
              " 'tril_indices',\n",
              " 'tril_indices_from',\n",
              " 'trim_zeros',\n",
              " 'triu',\n",
              " 'triu_indices',\n",
              " 'triu_indices_from',\n",
              " 'true_divide',\n",
              " 'trunc',\n",
              " 'typecodes',\n",
              " 'typename',\n",
              " 'typing',\n",
              " 'ubyte',\n",
              " 'ufunc',\n",
              " 'uint',\n",
              " 'uint16',\n",
              " 'uint32',\n",
              " 'uint64',\n",
              " 'uint8',\n",
              " 'uintc',\n",
              " 'uintp',\n",
              " 'ulonglong',\n",
              " 'unicode_',\n",
              " 'union1d',\n",
              " 'unique',\n",
              " 'unpackbits',\n",
              " 'unravel_index',\n",
              " 'unsignedinteger',\n",
              " 'unwrap',\n",
              " 'ushort',\n",
              " 'vander',\n",
              " 'var',\n",
              " 'vdot',\n",
              " 'vectorize',\n",
              " 'version',\n",
              " 'void',\n",
              " 'vsplit',\n",
              " 'vstack',\n",
              " 'where',\n",
              " 'who',\n",
              " 'zeros',\n",
              " 'zeros_like']"
            ]
          },
          "metadata": {},
          "execution_count": 16
        }
      ],
      "source": [
        "# trouver ce qu'il y a dans numpy\n",
        "dir(np)"
      ]
    },
    {
      "cell_type": "code",
      "execution_count": 17,
      "metadata": {
        "id": "zdQ_iCBudBBv",
        "colab": {
          "base_uri": "https://localhost:8080/",
          "height": 36
        },
        "outputId": "beb3ad31-4484-4121-fd4f-8333cba60cf7"
      },
      "outputs": [
        {
          "output_type": "execute_result",
          "data": {
            "text/plain": [
              "'1.26.4'"
            ],
            "application/vnd.google.colaboratory.intrinsic+json": {
              "type": "string"
            }
          },
          "metadata": {},
          "execution_count": 17
        }
      ],
      "source": [
        "# trouver la version que nous avons\n",
        "np.__version__"
      ]
    },
    {
      "cell_type": "markdown",
      "metadata": {
        "id": "U1WxKuUbdBBv"
      },
      "source": [
        "Il est impossible d'apprendre explicitement chacune de ces fonctions.\n",
        "C'est pourquoi la documentation de numpy est cruciale !\n",
        "\n",
        "https://numpy.org/doc/stable/reference/"
      ]
    },
    {
      "cell_type": "markdown",
      "metadata": {
        "id": "7kDGcVTRdBBw"
      },
      "source": [
        "<a name=\"NDArrays\"></a>\n",
        "### NDArrays"
      ]
    },
    {
      "cell_type": "markdown",
      "metadata": {
        "id": "ACIBMTqOdBBw"
      },
      "source": [
        "La classe de base est le numpy ndarray (tableau à n dimensions).\n",
        "\n",
        "La principale différence entre un tableau numpy et un conteneur de données plus général comme `list` est la suivante :\n",
        "\n",
        "* Les tableaux Numpy peuvent avoir N dimensions (alors que les `listes`, `tuples`, etc. n'en ont qu'une).\n",
        "* Les tableaux Numpy contiennent des valeurs du même type de données (par exemple `int`, `float`), alors que les `listes` peuvent contenir n'importe quoi.\n",
        "* Numpy optimise les opérations numériques sur les tableaux. Numpy est *rapide* !"
      ]
    },
    {
      "cell_type": "code",
      "execution_count": 18,
      "metadata": {
        "id": "6HOLJmqQdBBw",
        "colab": {
          "base_uri": "https://localhost:8080/",
          "height": 184
        },
        "outputId": "bd16403d-dbc5-45b9-ee3d-fddeb20342f1"
      },
      "outputs": [
        {
          "output_type": "execute_result",
          "data": {
            "text/html": [
              "<img src=\"http://docs.scipy.org/doc/numpy/_images/threefundamental.png\"/>"
            ],
            "text/plain": [
              "<IPython.core.display.Image object>"
            ]
          },
          "metadata": {},
          "execution_count": 18
        }
      ],
      "source": [
        "from IPython.display import Image\n",
        "Image(url='http://docs.scipy.org/doc/numpy/_images/threefundamental.png')"
      ]
    },
    {
      "cell_type": "code",
      "execution_count": 19,
      "metadata": {
        "id": "HaCu8Az0dBBw"
      },
      "outputs": [],
      "source": [
        "# créer un tableau à partir d'une liste\n",
        "a = np.array([9,0,2,1,0])"
      ]
    },
    {
      "cell_type": "code",
      "execution_count": 20,
      "metadata": {
        "id": "QGCOpoDGdBBw",
        "colab": {
          "base_uri": "https://localhost:8080/"
        },
        "outputId": "2b64dea1-cb50-48b4-c691-d481bebf7048"
      },
      "outputs": [
        {
          "output_type": "execute_result",
          "data": {
            "text/plain": [
              "dtype('int64')"
            ]
          },
          "metadata": {},
          "execution_count": 20
        }
      ],
      "source": [
        "# trouver le type de données\n",
        "a.dtype"
      ]
    },
    {
      "cell_type": "code",
      "execution_count": 21,
      "metadata": {
        "id": "Lv3cM9uJdBBx",
        "colab": {
          "base_uri": "https://localhost:8080/"
        },
        "outputId": "99a8fb0e-7dec-49d4-d0bb-d1b8c038e307"
      },
      "outputs": [
        {
          "output_type": "execute_result",
          "data": {
            "text/plain": [
              "(5,)"
            ]
          },
          "metadata": {},
          "execution_count": 21
        }
      ],
      "source": [
        "# trouver la forme\n",
        "a.shape"
      ]
    },
    {
      "cell_type": "code",
      "execution_count": 22,
      "metadata": {
        "id": "3IswQ1TydBBx",
        "colab": {
          "base_uri": "https://localhost:8080/"
        },
        "outputId": "c6386162-8a9d-40ed-d110-51569c0fc2fb"
      },
      "outputs": [
        {
          "output_type": "execute_result",
          "data": {
            "text/plain": [
              "tuple"
            ]
          },
          "metadata": {},
          "execution_count": 22
        }
      ],
      "source": [
        "# quelle est la forme\n",
        "type(a.shape)"
      ]
    },
    {
      "cell_type": "code",
      "execution_count": 25,
      "metadata": {
        "id": "y8TBdWMDdBBx",
        "colab": {
          "base_uri": "https://localhost:8080/"
        },
        "outputId": "382bebec-b8f3-48d7-c88e-2b73355ae62b"
      },
      "outputs": [
        {
          "output_type": "execute_result",
          "data": {
            "text/plain": [
              "(dtype('float64'), (2, 4))"
            ]
          },
          "metadata": {},
          "execution_count": 25
        }
      ],
      "source": [
        "# un autre tableau avec un type de données et une forme différents\n",
        "b = np.array([[5,3,1,9],[9,2,3,0]], dtype=np.float64)\n",
        "\n",
        "# vérifier le type et la forme\n",
        "b.dtype, b.shape"
      ]
    },
    {
      "cell_type": "markdown",
      "metadata": {
        "id": "25AskPwxdBBx"
      },
      "source": [
        "**Note**\n",
        "\n",
        "La dimension qui varie le plus rapidement est la dernière ! Le niveau extérieur de la hiérarchie est la première dimension. (C'est ce qu'on appelle l'indexation de type \"c\")"
      ]
    },
    {
      "cell_type": "markdown",
      "metadata": {
        "id": "7488MFZZdBBy"
      },
      "source": [
        "### Création de tableaux"
      ]
    },
    {
      "cell_type": "markdown",
      "metadata": {
        "id": "tG9L7_wfdBB4"
      },
      "source": [
        "Il existe de nombreuses façons de créer des tableaux."
      ]
    },
    {
      "cell_type": "code",
      "execution_count": 36,
      "metadata": {
        "id": "B7Y-ylKRdBB5",
        "colab": {
          "base_uri": "https://localhost:8080/"
        },
        "outputId": "723e11f4-ae7a-4cdf-a334-cdf5f12c5d39"
      },
      "outputs": [
        {
          "output_type": "stream",
          "name": "stdout",
          "text": [
            "[[[0.+0.j 0.+0.j 0.+0.j]\n",
            "  [0.+0.j 0.+0.j 0.+0.j]\n",
            "  [0.+0.j 0.+0.j 0.+0.j]\n",
            "  [0.+0.j 0.+0.j 0.+0.j]\n",
            "  [0.+0.j 0.+0.j 0.+0.j]\n",
            "  [0.+0.j 0.+0.j 0.+0.j]]\n",
            "\n",
            " [[0.+0.j 0.+0.j 0.+0.j]\n",
            "  [0.+0.j 0.+0.j 0.+0.j]\n",
            "  [0.+0.j 0.+0.j 0.+0.j]\n",
            "  [0.+0.j 0.+0.j 0.+0.j]\n",
            "  [0.+0.j 0.+0.j 0.+0.j]\n",
            "  [0.+0.j 0.+0.j 0.+0.j]]\n",
            "\n",
            " [[0.+0.j 0.+0.j 0.+0.j]\n",
            "  [0.+0.j 0.+0.j 0.+0.j]\n",
            "  [0.+0.j 0.+0.j 0.+0.j]\n",
            "  [0.+0.j 0.+0.j 0.+0.j]\n",
            "  [0.+0.j 0.+0.j 0.+0.j]\n",
            "  [0.+0.j 0.+0.j 0.+0.j]]]\n"
          ]
        }
      ],
      "source": [
        "# créer des tableaux uniformes\n",
        "c = np.zeros((9,9))\n",
        "d = np.ones((3,6,3), dtype=np.complex128)\n",
        "e = np.full((3,3), np.pi)\n",
        "f = np.ones_like(c)\n",
        "g = np.zeros_like(d)\n",
        "print(g)"
      ]
    },
    {
      "cell_type": "markdown",
      "metadata": {
        "id": "_tLO_U-wdBB5"
      },
      "source": [
        "`arange` fonctionne de manière très similaire à `range`, mais il remplit le tableau \"impatiemment\" (c'est-à-dire immédiatement), plutôt que de générer les valeurs lors de l'itération."
      ]
    },
    {
      "cell_type": "code",
      "execution_count": 27,
      "metadata": {
        "id": "3J_nbtbOdBB5",
        "colab": {
          "base_uri": "https://localhost:8080/"
        },
        "outputId": "7bce7964-9294-4692-f5de-c4f209c643cf"
      },
      "outputs": [
        {
          "output_type": "execute_result",
          "data": {
            "text/plain": [
              "array([0, 1, 2, 3, 4, 5, 6, 7, 8, 9])"
            ]
          },
          "metadata": {},
          "execution_count": 27
        }
      ],
      "source": [
        "np.arange(10)"
      ]
    },
    {
      "cell_type": "markdown",
      "metadata": {
        "id": "QtrksUq0dBB5"
      },
      "source": [
        "`arange` est inclusif à gauche, exclusif à droite, tout comme `range`,\n",
        "mais fonctionne aussi avec les nombres à virgule flottante."
      ]
    },
    {
      "cell_type": "code",
      "execution_count": 28,
      "metadata": {
        "id": "rGMX4GU7dBB6",
        "colab": {
          "base_uri": "https://localhost:8080/"
        },
        "outputId": "98a85f65-ac85-469c-e129-0c52f41eb4a7"
      },
      "outputs": [
        {
          "output_type": "execute_result",
          "data": {
            "text/plain": [
              "array([2.  , 2.25, 2.5 , 2.75, 3.  , 3.25, 3.5 , 3.75])"
            ]
          },
          "metadata": {},
          "execution_count": 28
        }
      ],
      "source": [
        "np.arange(2,4,0.25)"
      ]
    },
    {
      "cell_type": "markdown",
      "metadata": {
        "id": "R6ZSkW9KdBB6"
      },
      "source": [
        "Un besoin fréquent est de générer un tableau de N nombres, espacés régulièrement entre deux valeurs. C'est à cela que sert `linspace`."
      ]
    },
    {
      "cell_type": "code",
      "execution_count": 29,
      "metadata": {
        "id": "zyH8raRNdBB6",
        "colab": {
          "base_uri": "https://localhost:8080/"
        },
        "outputId": "4b418b11-011f-4746-ea06-d39d2021cd42"
      },
      "outputs": [
        {
          "output_type": "execute_result",
          "data": {
            "text/plain": [
              "array([2.        , 2.10526316, 2.21052632, 2.31578947, 2.42105263,\n",
              "       2.52631579, 2.63157895, 2.73684211, 2.84210526, 2.94736842,\n",
              "       3.05263158, 3.15789474, 3.26315789, 3.36842105, 3.47368421,\n",
              "       3.57894737, 3.68421053, 3.78947368, 3.89473684, 4.        ])"
            ]
          },
          "metadata": {},
          "execution_count": 29
        }
      ],
      "source": [
        "np.linspace(2,4,20)"
      ]
    },
    {
      "cell_type": "code",
      "execution_count": 30,
      "metadata": {
        "id": "IRZx_0ygdBB7",
        "colab": {
          "base_uri": "https://localhost:8080/"
        },
        "outputId": "765ffb99-e8c3-472b-f847-e2ea34e1b830"
      },
      "outputs": [
        {
          "output_type": "execute_result",
          "data": {
            "text/plain": [
              "array([ 10.        ,  12.91549665,  16.68100537,  21.5443469 ,\n",
              "        27.82559402,  35.93813664,  46.41588834,  59.94842503,\n",
              "        77.42636827, 100.        ])"
            ]
          },
          "metadata": {},
          "execution_count": 30
        }
      ],
      "source": [
        "#espacé logarithmiquement\n",
        "np.logspace(1,2,10)"
      ]
    },
    {
      "cell_type": "markdown",
      "metadata": {
        "id": "2_Ojtqz8dBB7"
      },
      "source": [
        "Numpy dispose également de quelques utilitaires pour nous aider à générer des tableaux multidimensionnels. `meshgrid` crée des tableaux 2D à partir d'une combinaison de tableaux 1D."
      ]
    },
    {
      "cell_type": "code",
      "execution_count": 67,
      "metadata": {
        "id": "MoZfsXRsdBB7",
        "colab": {
          "base_uri": "https://localhost:8080/"
        },
        "outputId": "71092e99-4e01-47c0-de23-2f2bc58dd7ff"
      },
      "outputs": [
        {
          "output_type": "execute_result",
          "data": {
            "text/plain": [
              "((50, 100), (50, 100))"
            ]
          },
          "metadata": {},
          "execution_count": 67
        }
      ],
      "source": [
        "x = np.linspace(-2*np.pi, 2*np.pi, 100)\n",
        "y = np.linspace(-np.pi, np.pi, 50)\n",
        "xx, yy = np.meshgrid(x, y)\n",
        "xx.shape, yy.shape\n",
        "#print(xx)"
      ]
    },
    {
      "cell_type": "markdown",
      "metadata": {
        "id": "9llW_3u2dBB8"
      },
      "source": [
        "### Indexation"
      ]
    },
    {
      "cell_type": "markdown",
      "metadata": {
        "id": "hIYd3x25dBB8"
      },
      "source": [
        "L'indexation de base est similaire aux listes"
      ]
    },
    {
      "cell_type": "code",
      "execution_count": 46,
      "metadata": {
        "id": "EkKGHxNLdBB8",
        "colab": {
          "base_uri": "https://localhost:8080/"
        },
        "outputId": "8342ac91-79dd-4278-a2dc-6d5572d2990a"
      },
      "outputs": [
        {
          "output_type": "execute_result",
          "data": {
            "text/plain": [
              "(-6.283185307179586, 6.156252270670908, 5.775453161144872)"
            ]
          },
          "metadata": {},
          "execution_count": 46
        }
      ],
      "source": [
        "# obtenir quelques éléments individuels de xx format: [colone, chiffre]\n",
        "xx[0,0], xx[3,-2], xx[3,-5]"
      ]
    },
    {
      "cell_type": "code",
      "execution_count": 47,
      "metadata": {
        "id": "NM6FRWO8dBB8",
        "colab": {
          "base_uri": "https://localhost:8080/"
        },
        "outputId": "ad9555a2-4294-4dbe-ac22-95816b169436"
      },
      "outputs": [
        {
          "output_type": "execute_result",
          "data": {
            "text/plain": [
              "((100,), (50,))"
            ]
          },
          "metadata": {},
          "execution_count": 47
        }
      ],
      "source": [
        "# obtenir des lignes et des colonnes entières\n",
        "xx[0].shape, xx[ :,-1].shape"
      ]
    },
    {
      "cell_type": "code",
      "execution_count": 48,
      "metadata": {
        "id": "kJ1379zKdBB8",
        "colab": {
          "base_uri": "https://localhost:8080/"
        },
        "outputId": "61ecab63-2a73-4716-98fe-b706d870e9a5"
      },
      "outputs": [
        {
          "output_type": "execute_result",
          "data": {
            "text/plain": [
              "(7, 10)"
            ]
          },
          "metadata": {},
          "execution_count": 48
        }
      ],
      "source": [
        "# obtenir des plages\n",
        "xx[3:10,30:40].shape"
      ]
    },
    {
      "cell_type": "markdown",
      "metadata": {
        "id": "Ka0ZHuXzdBB9"
      },
      "source": [
        "Il existe de nombreuses méthodes avancées d'indexation des tableaux. Vous pouvez [en prendre connaissance] (https://numpy.org/doc/stable/reference/arrays.indexing.html) dans le manuel. Voici un exemple."
      ]
    },
    {
      "cell_type": "code",
      "execution_count": 49,
      "metadata": {
        "id": "g3QkFlaFdBB9",
        "colab": {
          "base_uri": "https://localhost:8080/"
        },
        "outputId": "f25d7471-f0d0-4a6a-d5a0-17069c8e3ad7"
      },
      "outputs": [
        {
          "output_type": "execute_result",
          "data": {
            "text/plain": [
              "(2500,)"
            ]
          },
          "metadata": {},
          "execution_count": 49
        }
      ],
      "source": [
        "# utiliser un tableau booléen comme index\n",
        "idx = xx<0\n",
        "yy[idx].shape"
      ]
    },
    {
      "cell_type": "code",
      "execution_count": 50,
      "metadata": {
        "id": "sP7Lh7d3dBB9",
        "colab": {
          "base_uri": "https://localhost:8080/"
        },
        "outputId": "b6c05382-3abe-4b6d-b47f-df59ce2db0f4"
      },
      "outputs": [
        {
          "output_type": "execute_result",
          "data": {
            "text/plain": [
              "(5000,)"
            ]
          },
          "metadata": {},
          "execution_count": 50
        }
      ],
      "source": [
        "# le tableau a été aplati\n",
        "xx.ravel().shape"
      ]
    },
    {
      "cell_type": "markdown",
      "metadata": {
        "id": "49PlUjrfdBB9"
      },
      "source": [
        "## Base de visualisation avec `Matplotlib`"
      ]
    },
    {
      "cell_type": "markdown",
      "metadata": {
        "id": "0TFrn-JTdBB-"
      },
      "source": [
        "Il peut être difficile de travailler avec de grands tableaux sans rien voir de nos yeux ! Nous allons maintenant utiliser Matplotlib pour commencer à visualiser ces tableaux. Pour l'instant, nous ne ferons qu'effleurer la surface de Matplotlib. Nous irons beaucoup plus loin dans le prochain carnet."
      ]
    },
    {
      "cell_type": "code",
      "execution_count": 51,
      "metadata": {
        "id": "1psWx2BedBB-"
      },
      "outputs": [],
      "source": [
        "from matplotlib import pyplot as plt"
      ]
    },
    {
      "cell_type": "markdown",
      "metadata": {
        "id": "WxuzwBQXdBB-"
      },
      "source": [
        "Pour tracer un tableau 1D sous forme de ligne, nous utilisons la commande `plot`."
      ]
    },
    {
      "cell_type": "code",
      "execution_count": 52,
      "metadata": {
        "id": "RjOUfOSYdBB-",
        "colab": {
          "base_uri": "https://localhost:8080/",
          "height": 447
        },
        "outputId": "150f99f8-1c98-4e4a-a32b-2927e047b44d"
      },
      "outputs": [
        {
          "output_type": "execute_result",
          "data": {
            "text/plain": [
              "[<matplotlib.lines.Line2D at 0x7bd811f820e0>]"
            ]
          },
          "metadata": {},
          "execution_count": 52
        },
        {
          "output_type": "display_data",
          "data": {
            "text/plain": [
              "<Figure size 640x480 with 1 Axes>"
            ],
            "image/png": "[encoded data removed]"
          },
          "metadata": {}
        }
      ],
      "source": [
        "plt.plot(x)"
      ]
    },
    {
      "cell_type": "markdown",
      "metadata": {
        "id": "_T884hXIdBB-"
      },
      "source": [
        "Il existe de nombreuses façons de visualiser des données en 2D. Ici, nous utilisons `pcolormesh`."
      ]
    },
    {
      "cell_type": "code",
      "execution_count": 53,
      "metadata": {
        "id": "4IEkwCpKdBB-",
        "colab": {
          "base_uri": "https://localhost:8080/",
          "height": 452
        },
        "outputId": "a283603b-b73f-4354-bf3c-d2c6e97975a3"
      },
      "outputs": [
        {
          "output_type": "execute_result",
          "data": {
            "text/plain": [
              "<matplotlib.collections.QuadMesh at 0x7bd7f57ca710>"
            ]
          },
          "metadata": {},
          "execution_count": 53
        },
        {
          "output_type": "display_data",
          "data": {
            "text/plain": [
              "<Figure size 640x480 with 1 Axes>"
            ],
            "image/png": "[encoded data removed]"
          },
          "metadata": {}
        }
      ],
      "source": [
        "plt.pcolormesh(xx)"
      ]
    },
    {
      "cell_type": "code",
      "execution_count": 56,
      "metadata": {
        "id": "srhJkBSfdBB_",
        "colab": {
          "base_uri": "https://localhost:8080/",
          "height": 452
        },
        "outputId": "10535368-5288-4bb9-f9dd-8b3ce094acdf"
      },
      "outputs": [
        {
          "output_type": "execute_result",
          "data": {
            "text/plain": [
              "<matplotlib.collections.QuadMesh at 0x7bd7f55185e0>"
            ]
          },
          "metadata": {},
          "execution_count": 56
        },
        {
          "output_type": "display_data",
          "data": {
            "text/plain": [
              "<Figure size 640x480 with 1 Axes>"
            ],
            "image/png": "[encoded data removed]"
          },
          "metadata": {}
        }
      ],
      "source": [
        "plt.pcolormesh(yy)"
      ]
    },
    {
      "cell_type": "markdown",
      "metadata": {
        "id": "Jk4NzuQqdBB_"
      },
      "source": [
        "### Opérations sur les tableaux"
      ]
    },
    {
      "cell_type": "markdown",
      "metadata": {
        "id": "yPNd1HxudBB_"
      },
      "source": [
        "Il existe un grand nombre d'opérations sur les tableaux. Tous les opérateurs arithmétiques familiers sont appliqués élément par élément."
      ]
    },
    {
      "cell_type": "markdown",
      "metadata": {
        "id": "Sh7d9f35dBB_"
      },
      "source": [
        "#### Mathématiques de base"
      ]
    },
    {
      "cell_type": "code",
      "execution_count": 57,
      "metadata": {
        "id": "XnskVKp4dBCA"
      },
      "outputs": [],
      "source": [
        "f = np.sin(xx) * np.cos(0.5*yy)"
      ]
    },
    {
      "cell_type": "code",
      "execution_count": 58,
      "metadata": {
        "id": "GCPlTCDodBCA",
        "colab": {
          "base_uri": "https://localhost:8080/",
          "height": 452
        },
        "outputId": "a14c4a7e-20f7-4658-e04c-94a02bbc8476"
      },
      "outputs": [
        {
          "output_type": "execute_result",
          "data": {
            "text/plain": [
              "<matplotlib.collections.QuadMesh at 0x7bd7f5587580>"
            ]
          },
          "metadata": {},
          "execution_count": 58
        },
        {
          "output_type": "display_data",
          "data": {
            "text/plain": [
              "<Figure size 640x480 with 1 Axes>"
            ],
            "image/png": "[encoded data removed]"
          },
          "metadata": {}
        }
      ],
      "source": [
        "plt.pcolormesh(f)"
      ]
    },
    {
      "cell_type": "markdown",
      "metadata": {
        "id": "dE3EFnKCdBCA"
      },
      "source": [
        "#### Manipulation des dimensions des tableaux"
      ]
    },
    {
      "cell_type": "markdown",
      "metadata": {
        "id": "ixo4FPE4dBCB"
      },
      "source": [
        "La permutation de l'ordre des dimensions s'effectue en appelant `transpose`."
      ]
    },
    {
      "cell_type": "code",
      "execution_count": 59,
      "metadata": {
        "id": "EGA-koyadBCB",
        "colab": {
          "base_uri": "https://localhost:8080/",
          "height": 452
        },
        "outputId": "5b7101d5-a977-4414-89e7-21aece8a8676"
      },
      "outputs": [
        {
          "output_type": "execute_result",
          "data": {
            "text/plain": [
              "<matplotlib.collections.QuadMesh at 0x7bd7f53fc430>"
            ]
          },
          "metadata": {},
          "execution_count": 59
        },
        {
          "output_type": "display_data",
          "data": {
            "text/plain": [
              "<Figure size 640x480 with 1 Axes>"
            ],
            "image/png": "[encoded data removed]"
          },
          "metadata": {}
        }
      ],
      "source": [
        "f_transposed = f.transpose()\n",
        "plt.pcolormesh(f_transposed)"
      ]
    },
    {
      "cell_type": "markdown",
      "metadata": {
        "id": "piOztO2rdBCB"
      },
      "source": [
        "Nous pouvons également modifier manuellement la forme d'un tableau... à condition que la nouvelle forme ait le même nombre d'éléments."
      ]
    },
    {
      "cell_type": "code",
      "execution_count": 60,
      "metadata": {
        "id": "SLn3m094dBCB",
        "colab": {
          "base_uri": "https://localhost:8080/",
          "height": 408
        },
        "outputId": "df4be3bd-6766-485c-a91d-e654a62f07c4"
      },
      "outputs": [
        {
          "output_type": "error",
          "ename": "ValueError",
          "evalue": "cannot reshape array of size 5000 into shape (8,9)",
          "traceback": [
            "\u001b[0;31m---------------------------------------------------------------------------\u001b[0m",
            "\u001b[0;31mValueError\u001b[0m                                Traceback (most recent call last)",
            "\u001b[0;32m<ipython-input-60-311bdb98d235>\u001b[0m in \u001b[0;36m<cell line: 1>\u001b[0;34m()\u001b[0m\n\u001b[0;32m----> 1\u001b[0;31m \u001b[0mg\u001b[0m \u001b[0;34m=\u001b[0m \u001b[0mnp\u001b[0m\u001b[0;34m.\u001b[0m\u001b[0mreshape\u001b[0m\u001b[0;34m(\u001b[0m\u001b[0mf\u001b[0m\u001b[0;34m,\u001b[0m \u001b[0;34m(\u001b[0m\u001b[0;36m8\u001b[0m\u001b[0;34m,\u001b[0m\u001b[0;36m9\u001b[0m\u001b[0;34m)\u001b[0m\u001b[0;34m)\u001b[0m\u001b[0;34m\u001b[0m\u001b[0;34m\u001b[0m\u001b[0m\n\u001b[0m",
            "\u001b[0;32m/usr/local/lib/python3.10/dist-packages/numpy/core/fromnumeric.py\u001b[0m in \u001b[0;36mreshape\u001b[0;34m(a, newshape, order)\u001b[0m\n\u001b[1;32m    283\u001b[0m            [5, 6]])\n\u001b[1;32m    284\u001b[0m     \"\"\"\n\u001b[0;32m--> 285\u001b[0;31m     \u001b[0;32mreturn\u001b[0m \u001b[0m_wrapfunc\u001b[0m\u001b[0;34m(\u001b[0m\u001b[0ma\u001b[0m\u001b[0;34m,\u001b[0m \u001b[0;34m'reshape'\u001b[0m\u001b[0;34m,\u001b[0m \u001b[0mnewshape\u001b[0m\u001b[0;34m,\u001b[0m \u001b[0morder\u001b[0m\u001b[0;34m=\u001b[0m\u001b[0morder\u001b[0m\u001b[0;34m)\u001b[0m\u001b[0;34m\u001b[0m\u001b[0;34m\u001b[0m\u001b[0m\n\u001b[0m\u001b[1;32m    286\u001b[0m \u001b[0;34m\u001b[0m\u001b[0m\n\u001b[1;32m    287\u001b[0m \u001b[0;34m\u001b[0m\u001b[0m\n",
            "\u001b[0;32m/usr/local/lib/python3.10/dist-packages/numpy/core/fromnumeric.py\u001b[0m in \u001b[0;36m_wrapfunc\u001b[0;34m(obj, method, *args, **kwds)\u001b[0m\n\u001b[1;32m     57\u001b[0m \u001b[0;34m\u001b[0m\u001b[0m\n\u001b[1;32m     58\u001b[0m     \u001b[0;32mtry\u001b[0m\u001b[0;34m:\u001b[0m\u001b[0;34m\u001b[0m\u001b[0;34m\u001b[0m\u001b[0m\n\u001b[0;32m---> 59\u001b[0;31m         \u001b[0;32mreturn\u001b[0m \u001b[0mbound\u001b[0m\u001b[0;34m(\u001b[0m\u001b[0;34m*\u001b[0m\u001b[0margs\u001b[0m\u001b[0;34m,\u001b[0m \u001b[0;34m**\u001b[0m\u001b[0mkwds\u001b[0m\u001b[0;34m)\u001b[0m\u001b[0;34m\u001b[0m\u001b[0;34m\u001b[0m\u001b[0m\n\u001b[0m\u001b[1;32m     60\u001b[0m     \u001b[0;32mexcept\u001b[0m \u001b[0mTypeError\u001b[0m\u001b[0;34m:\u001b[0m\u001b[0;34m\u001b[0m\u001b[0;34m\u001b[0m\u001b[0m\n\u001b[1;32m     61\u001b[0m         \u001b[0;31m# A TypeError occurs if the object does have such a method in its\u001b[0m\u001b[0;34m\u001b[0m\u001b[0;34m\u001b[0m\u001b[0m\n",
            "\u001b[0;31mValueError\u001b[0m: cannot reshape array of size 5000 into shape (8,9)"
          ]
        }
      ],
      "source": [
        "g = np.reshape(f, (8,9))"
      ]
    },
    {
      "cell_type": "markdown",
      "metadata": {
        "id": "yXGZZHTCdBCB"
      },
      "source": [
        "Toutefois, soyez prudent lorsque vous remodelez des données ! Vous risquez de perdre accidentellement la structure des données."
      ]
    },
    {
      "cell_type": "code",
      "execution_count": 61,
      "metadata": {
        "id": "iuQg7o_LdBCC",
        "colab": {
          "base_uri": "https://localhost:8080/",
          "height": 452
        },
        "outputId": "291a779a-14c3-4b1f-cc66-eb5a55223789"
      },
      "outputs": [
        {
          "output_type": "execute_result",
          "data": {
            "text/plain": [
              "<matplotlib.collections.QuadMesh at 0x7bd7f5450a90>"
            ]
          },
          "metadata": {},
          "execution_count": 61
        },
        {
          "output_type": "display_data",
          "data": {
            "text/plain": [
              "<Figure size 640x480 with 1 Axes>"
            ],
            "image/png": "[encoded data removed]"
          },
          "metadata": {}
        }
      ],
      "source": [
        "g = np.reshape(f, (200,25))\n",
        "plt.pcolormesh(g)"
      ]
    },
    {
      "cell_type": "markdown",
      "metadata": {
        "id": "MYqzzl46dBCC"
      },
      "source": [
        "Il est également possible de \"carreler\" (=\"tile\") un tableau pour le répéter plusieurs fois."
      ]
    },
    {
      "cell_type": "code",
      "execution_count": 62,
      "metadata": {
        "id": "eBL1JuatdBCC",
        "colab": {
          "base_uri": "https://localhost:8080/",
          "height": 447
        },
        "outputId": "2c0c9f42-d551-48c1-e539-65bef6309dee"
      },
      "outputs": [
        {
          "output_type": "execute_result",
          "data": {
            "text/plain": [
              "<matplotlib.collections.QuadMesh at 0x7bd7f56f15a0>"
            ]
          },
          "metadata": {},
          "execution_count": 62
        },
        {
          "output_type": "display_data",
          "data": {
            "text/plain": [
              "<Figure size 640x480 with 1 Axes>"
            ],
            "image/png": "[encoded data removed]"
          },
          "metadata": {}
        }
      ],
      "source": [
        "f_tiled = np.tile(f,(3, 2))\n",
        "plt.pcolormesh(f_tiled)"
      ]
    },
    {
      "cell_type": "markdown",
      "metadata": {
        "id": "pVrUTdPEdBCC"
      },
      "source": [
        "Un autre besoin courant est d'ajouter une dimension supplémentaire à un tableau. Ceci peut être réalisé en indexant avec `None`."
      ]
    },
    {
      "cell_type": "code",
      "execution_count": 63,
      "metadata": {
        "id": "Zek48rKodBCD",
        "colab": {
          "base_uri": "https://localhost:8080/"
        },
        "outputId": "e6594d89-db50-4c80-fcfa-521e98752cee"
      },
      "outputs": [
        {
          "output_type": "execute_result",
          "data": {
            "text/plain": [
              "(100,)"
            ]
          },
          "metadata": {},
          "execution_count": 63
        }
      ],
      "source": [
        "x.shape"
      ]
    },
    {
      "cell_type": "code",
      "execution_count": 64,
      "metadata": {
        "id": "00VZCLxEdBCD",
        "colab": {
          "base_uri": "https://localhost:8080/"
        },
        "outputId": "09b1736d-e0d1-4c89-eeef-3c908285a38f"
      },
      "outputs": [
        {
          "output_type": "execute_result",
          "data": {
            "text/plain": [
              "(1, 100)"
            ]
          },
          "metadata": {},
          "execution_count": 64
        }
      ],
      "source": [
        "x[None, :].shape"
      ]
    },
    {
      "cell_type": "code",
      "execution_count": 65,
      "metadata": {
        "id": "SWPK0AKzdBCD",
        "colab": {
          "base_uri": "https://localhost:8080/"
        },
        "outputId": "880911b2-c2b7-47eb-c59d-01d06c8c91b0"
      },
      "outputs": [
        {
          "output_type": "execute_result",
          "data": {
            "text/plain": [
              "(1, 100, 1, 1)"
            ]
          },
          "metadata": {},
          "execution_count": 65
        }
      ],
      "source": [
        "x[None, :, None, None].shape"
      ]
    },
    {
      "cell_type": "markdown",
      "metadata": {
        "id": "ykM1l9lJdBCD"
      },
      "source": [
        "### Broadcasting"
      ]
    },
    {
      "cell_type": "markdown",
      "metadata": {
        "id": "G2ErLj-edBCE"
      },
      "source": [
        "Les tableaux avec lesquels nous voulons travailler n'ont pas tous la même taille. Une approche serait d'\"étendre\" manuellement nos tableaux pour qu'ils aient tous la même taille, par exemple en utilisant `tile`. *Broadcasting* est un moyen plus efficace de multiplier des tableaux de tailles différentes Numpy a des règles spécifiques pour le fonctionnement de la diffusion. Elles peuvent être déroutantes mais valent la peine d'être apprises si vous avez l'intention de travailler souvent avec des données Numpy."
      ]
    },
    {
      "cell_type": "markdown",
      "metadata": {
        "id": "2Sd8YfyodBCE"
      },
      "source": [
        "Le concept de base de *Broadcasting* consiste à indiquer à Numpy les dimensions qui sont censées s'aligner les unes sur les autres."
      ]
    },
    {
      "cell_type": "code",
      "execution_count": 68,
      "metadata": {
        "id": "m5fQuODbdBCE",
        "colab": {
          "base_uri": "https://localhost:8080/",
          "height": 544
        },
        "outputId": "4fc1a446-17a7-4d8c-94b7-f97cc302dd0c"
      },
      "outputs": [
        {
          "output_type": "execute_result",
          "data": {
            "text/html": [
              "<img src=\"http://scipy-lectures.github.io/_images/numpy_broadcasting.png\" width=\"720\"/>"
            ],
            "text/plain": [
              "<IPython.core.display.Image object>"
            ]
          },
          "metadata": {},
          "execution_count": 68
        }
      ],
      "source": [
        "Image(url='http://scipy-lectures.github.io/_images/numpy_broadcasting.png',\n",
        "     width=720)"
      ]
    },
    {
      "cell_type": "markdown",
      "metadata": {
        "id": "jZFo2nbtdBCE"
      },
      "source": [
        "Les dimensions sont automatiquement alignées *en commençant par la dernière dimension*. Si les deux dernières dimensions ont la même longueur, les deux tableaux peuvent être diffusés (broadcast)."
      ]
    },
    {
      "cell_type": "code",
      "execution_count": 69,
      "metadata": {
        "id": "j6CZx2xndBCE",
        "colab": {
          "base_uri": "https://localhost:8080/"
        },
        "outputId": "3c1047a4-cdf9-4fe5-8c2b-4e68fdd06de1"
      },
      "outputs": [
        {
          "output_type": "stream",
          "name": "stdout",
          "text": [
            "(50, 100) (100,)\n",
            "(50, 100)\n"
          ]
        }
      ],
      "source": [
        "print(f.shape, x.shape)\n",
        "g = f * x\n",
        "print(g.shape)"
      ]
    },
    {
      "cell_type": "code",
      "execution_count": 70,
      "metadata": {
        "id": "yxWvl1cTdBCE",
        "colab": {
          "base_uri": "https://localhost:8080/",
          "height": 452
        },
        "outputId": "4457d4bd-bd77-4915-d52e-aaea162a8ccf"
      },
      "outputs": [
        {
          "output_type": "execute_result",
          "data": {
            "text/plain": [
              "<matplotlib.collections.QuadMesh at 0x7bd7f5397a90>"
            ]
          },
          "metadata": {},
          "execution_count": 70
        },
        {
          "output_type": "display_data",
          "data": {
            "text/plain": [
              "<Figure size 640x480 with 1 Axes>"
            ],
            "image/png": "[encoded data removed]"
          },
          "metadata": {}
        }
      ],
      "source": [
        "plt.pcolormesh(g)"
      ]
    },
    {
      "cell_type": "markdown",
      "metadata": {
        "id": "9UV9bBXpdBCF"
      },
      "source": [
        "Cependant, si les deux dernières dimensions ne sont pas identiques, Numpy ne peut pas le déterminer automatiquement."
      ]
    },
    {
      "cell_type": "code",
      "execution_count": 71,
      "metadata": {
        "id": "5qyyu2tqdBCF",
        "colab": {
          "base_uri": "https://localhost:8080/",
          "height": 193
        },
        "outputId": "376214a7-2b3d-4b92-aab2-caabd2e2795f"
      },
      "outputs": [
        {
          "output_type": "stream",
          "name": "stdout",
          "text": [
            "(50, 100) (50,)\n"
          ]
        },
        {
          "output_type": "error",
          "ename": "ValueError",
          "evalue": "operands could not be broadcast together with shapes (50,100) (50,) ",
          "traceback": [
            "\u001b[0;31m---------------------------------------------------------------------------\u001b[0m",
            "\u001b[0;31mValueError\u001b[0m                                Traceback (most recent call last)",
            "\u001b[0;32m<ipython-input-71-bc0fdbc189e2>\u001b[0m in \u001b[0;36m<cell line: 3>\u001b[0;34m()\u001b[0m\n\u001b[1;32m      1\u001b[0m \u001b[0;31m# multiplier f par y\u001b[0m\u001b[0;34m\u001b[0m\u001b[0;34m\u001b[0m\u001b[0m\n\u001b[1;32m      2\u001b[0m \u001b[0mprint\u001b[0m\u001b[0;34m(\u001b[0m\u001b[0mf\u001b[0m\u001b[0;34m.\u001b[0m\u001b[0mshape\u001b[0m\u001b[0;34m,\u001b[0m \u001b[0my\u001b[0m\u001b[0;34m.\u001b[0m\u001b[0mshape\u001b[0m\u001b[0;34m)\u001b[0m\u001b[0;34m\u001b[0m\u001b[0;34m\u001b[0m\u001b[0m\n\u001b[0;32m----> 3\u001b[0;31m \u001b[0mh\u001b[0m \u001b[0;34m=\u001b[0m \u001b[0mf\u001b[0m \u001b[0;34m*\u001b[0m \u001b[0my\u001b[0m\u001b[0;34m\u001b[0m\u001b[0;34m\u001b[0m\u001b[0m\n\u001b[0m",
            "\u001b[0;31mValueError\u001b[0m: operands could not be broadcast together with shapes (50,100) (50,) "
          ]
        }
      ],
      "source": [
        "# multiplier f par y\n",
        "print(f.shape, y.shape)\n",
        "h = f * y"
      ]
    },
    {
      "cell_type": "markdown",
      "metadata": {
        "id": "U31-byAZdBCF"
      },
      "source": [
        "Nous pouvons aider numpy en ajoutant une dimension supplémentaire à `y` à la fin. Les dimensions de la longueur 50 s'aligneront alors."
      ]
    },
    {
      "cell_type": "code",
      "execution_count": 72,
      "metadata": {
        "id": "kmY4cqUmdBCF",
        "colab": {
          "base_uri": "https://localhost:8080/"
        },
        "outputId": "21a54e8c-6bba-430c-8106-3c648381a7d5"
      },
      "outputs": [
        {
          "output_type": "stream",
          "name": "stdout",
          "text": [
            "(50, 100) (50, 1)\n",
            "(50, 100)\n"
          ]
        }
      ],
      "source": [
        "print(f.shape, y[:, None].shape)\n",
        "h = f * y[:, None]\n",
        "print(h.shape)"
      ]
    },
    {
      "cell_type": "code",
      "execution_count": 73,
      "metadata": {
        "id": "JXd7QxjjdBCF",
        "colab": {
          "base_uri": "https://localhost:8080/",
          "height": 452
        },
        "outputId": "5b45e241-15e4-45a1-bd41-19385e1c987c"
      },
      "outputs": [
        {
          "output_type": "execute_result",
          "data": {
            "text/plain": [
              "<matplotlib.collections.QuadMesh at 0x7bd7f5208400>"
            ]
          },
          "metadata": {},
          "execution_count": 73
        },
        {
          "output_type": "display_data",
          "data": {
            "text/plain": [
              "<Figure size 640x480 with 1 Axes>"
            ],
            "image/png": "[encoded data removed]"
          },
          "metadata": {}
        }
      ],
      "source": [
        "plt.pcolormesh(h)"
      ]
    },
    {
      "cell_type": "markdown",
      "metadata": {
        "id": "N1eyelk7dBCF"
      },
      "source": [
        "<a name=\"Reduction_Operations\"></a>\n",
        "### Opérations de réduction"
      ]
    },
    {
      "cell_type": "markdown",
      "metadata": {
        "id": "YnJObkZQdBCG"
      },
      "source": [
        "Dans l'analyse de données scientifiques, nous partons généralement d'un grand nombre de données et nous voulons les réduire afin de créer des graphiques ou des tableaux récapitulatifs. Les opérations qui réduisent la taille des tableaux numpy sont appelées \"réductions\". Il existe de nombreuses opérations de réduction différentes. Nous examinerons ici quelques-unes des plus courantes."
      ]
    },
    {
      "cell_type": "code",
      "execution_count": 74,
      "metadata": {
        "id": "lk7NYF8hdBCG",
        "colab": {
          "base_uri": "https://localhost:8080/"
        },
        "outputId": "e118358c-ff55-4847-c179-26c15e99a112"
      },
      "outputs": [
        {
          "output_type": "execute_result",
          "data": {
            "text/plain": [
              "-3083.038387807155"
            ]
          },
          "metadata": {},
          "execution_count": 74
        }
      ],
      "source": [
        "# sum\n",
        "g.sum()"
      ]
    },
    {
      "cell_type": "code",
      "execution_count": 75,
      "metadata": {
        "id": "8y_T1Ah8dBCG",
        "colab": {
          "base_uri": "https://localhost:8080/"
        },
        "outputId": "91c756ce-a3b8-4c26-d997-b509397dc400"
      },
      "outputs": [
        {
          "output_type": "execute_result",
          "data": {
            "text/plain": [
              "-0.616607677561431"
            ]
          },
          "metadata": {},
          "execution_count": 75
        }
      ],
      "source": [
        "# mean\n",
        "g.mean()"
      ]
    },
    {
      "cell_type": "code",
      "execution_count": 76,
      "metadata": {
        "id": "NwCpRzz0dBCG",
        "colab": {
          "base_uri": "https://localhost:8080/"
        },
        "outputId": "7644d615-3375-4be5-80de-6d8c80f03cb1"
      },
      "outputs": [
        {
          "output_type": "execute_result",
          "data": {
            "text/plain": [
              "1.6402280119141424"
            ]
          },
          "metadata": {},
          "execution_count": 76
        }
      ],
      "source": [
        "# standard deviation\n",
        "g.std()"
      ]
    },
    {
      "cell_type": "markdown",
      "metadata": {
        "id": "W25NQ70VdBCH"
      },
      "source": [
        "Une propriété clé des réductions numpy est la possibilité d'opérer sur un seul axe."
      ]
    },
    {
      "cell_type": "code",
      "execution_count": 77,
      "metadata": {
        "id": "U3HKiGvldBCH"
      },
      "outputs": [],
      "source": [
        "# appliquer sur un seul axe\n",
        "g_ymean = g.mean(axis=0)\n",
        "g_xmean = g.mean(axis=1)"
      ]
    },
    {
      "cell_type": "code",
      "execution_count": 78,
      "metadata": {
        "id": "9Y7c5iiedBCH",
        "colab": {
          "base_uri": "https://localhost:8080/",
          "height": 447
        },
        "outputId": "d23cdab9-2788-485b-ff67-466b2508d36d"
      },
      "outputs": [
        {
          "output_type": "execute_result",
          "data": {
            "text/plain": [
              "[<matplotlib.lines.Line2D at 0x7bd7f529df60>]"
            ]
          },
          "metadata": {},
          "execution_count": 78
        },
        {
          "output_type": "display_data",
          "data": {
            "text/plain": [
              "<Figure size 640x480 with 1 Axes>"
            ],
            "image/png": "[encoded data removed]"
          },
          "metadata": {}
        }
      ],
      "source": [
        "plt.plot(x, g_ymean)"
      ]
    },
    {
      "cell_type": "code",
      "execution_count": 79,
      "metadata": {
        "id": "CvDCKsxudBCH",
        "colab": {
          "base_uri": "https://localhost:8080/",
          "height": 447
        },
        "outputId": "76023ace-10ea-4101-f17c-ce41a92be423"
      },
      "outputs": [
        {
          "output_type": "execute_result",
          "data": {
            "text/plain": [
              "[<matplotlib.lines.Line2D at 0x7bd7f5112c20>]"
            ]
          },
          "metadata": {},
          "execution_count": 79
        },
        {
          "output_type": "display_data",
          "data": {
            "text/plain": [
              "<Figure size 640x480 with 1 Axes>"
            ],
            "image/png": "[encoded data removed]"
          },
          "metadata": {}
        }
      ],
      "source": [
        "plt.plot(g_xmean, y)"
      ]
    },
    {
      "cell_type": "markdown",
      "metadata": {
        "id": "BEWHQWordBCI"
      },
      "source": [
        "<a name=\"Data_Files\"></a>\n",
        "### Fichiers de données"
      ]
    },
    {
      "cell_type": "markdown",
      "metadata": {
        "id": "N0FQ7dozdBCI"
      },
      "source": [
        "Il peut être utile d'enregistrer les données numpy dans des fichiers."
      ]
    },
    {
      "cell_type": "code",
      "execution_count": 80,
      "metadata": {
        "id": "mSqiSw1bdBCJ"
      },
      "outputs": [],
      "source": [
        "np.save('g.npy', g)"
      ]
    },
    {
      "cell_type": "markdown",
      "metadata": {
        "id": "AYKjEJqzdBCJ"
      },
      "source": [
        "**Attention**\n",
        "\n",
        "Les fichiers Numpy `.npy` sont un moyen pratique de stocker des données temporaires, mais ils ne sont pas considérés comme un format d'archivage robuste. Plus tard, nous découvrirons NetCDF, le format recommandé pour stocker les données terrestres et environnementales"
      ]
    },
    {
      "cell_type": "code",
      "execution_count": 81,
      "metadata": {
        "id": "WQEiytaFdBCJ"
      },
      "outputs": [],
      "source": [
        "g_loaded = np.load('g.npy')\n",
        "\n",
        "np.testing.assert_equal(g, g_loaded)"
      ]
    }
  ],
  "metadata": {
    "colab": {
      "provenance": [],
      "include_colab_link": true
    },
    "kernelspec": {
      "display_name": "JupyterBook",
      "language": "python",
      "name": "python3"
    },
    "language_info": {
      "name": "python",
      "version": "3.12.0"
    }
  },
  "nbformat": 4,
  "nbformat_minor": 0
}